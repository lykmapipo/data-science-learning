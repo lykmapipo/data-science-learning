{
 "cells": [
  {
   "cell_type": "markdown",
   "metadata": {},
   "source": [
    "# Basic Causal and Probabilistic Inference"
   ]
  },
  {
   "cell_type": "code",
   "execution_count": 1,
   "metadata": {},
   "outputs": [],
   "source": [
    "# load required modules\n",
    "using Random\n",
    "using Omega\n",
    "using UnicodePlots"
   ]
  },
  {
   "cell_type": "code",
   "execution_count": 2,
   "metadata": {},
   "outputs": [],
   "source": [
    "# set seed for reproducible sequence of numbers\n",
    "Random.seed!(42);"
   ]
  },
  {
   "cell_type": "markdown",
   "metadata": {},
   "source": [
    "## Basics "
   ]
  },
  {
   "cell_type": "markdown",
   "metadata": {},
   "source": [
    "**Task:** Create and condition a model to assess belief \n",
    "about coin changes after observing a number of tosses. "
   ]
  },
  {
   "cell_type": "code",
   "execution_count": 3,
   "metadata": {},
   "outputs": [
    {
     "data": {
      "text/plain": [
       "UInt64[0x0000000000000001]:Beta(2.0, 2.0)::Float64"
      ]
     },
     "execution_count": 3,
     "metadata": {},
     "output_type": "execute_result"
    }
   ],
   "source": [
    "# use Beta distribution to represent out prior belief weight of the coin\n",
    "weight = β(2.0, 2.0)"
   ]
  },
  {
   "cell_type": "code",
   "execution_count": 4,
   "metadata": {},
   "outputs": [
    {
     "data": {
      "text/plain": [
       "10000-element Vector{Float64}:\n",
       " 0.5221364738850822\n",
       " 0.46931423142780787\n",
       " 0.07888517206457282\n",
       " 0.2645524719642279\n",
       " 0.8779162842517239\n",
       " 0.9029384315912528\n",
       " 0.3660412290486974\n",
       " 0.2679441481885888\n",
       " 0.8748242188208724\n",
       " 0.5564290091988745\n",
       " 0.8476830755542777\n",
       " 0.2533240855856772\n",
       " 0.4484549103975672\n",
       " ⋮\n",
       " 0.2920682584191885\n",
       " 0.3777889780854807\n",
       " 0.6077579276776643\n",
       " 0.6394546554260379\n",
       " 0.5778745893638563\n",
       " 0.9413839967629352\n",
       " 0.7128343118547035\n",
       " 0.8316546615312936\n",
       " 0.15436113537372906\n",
       " 0.30967773890414807\n",
       " 0.38482856768668006\n",
       " 0.10437058999642755"
      ]
     },
     "execution_count": 4,
     "metadata": {},
     "output_type": "execute_result"
    }
   ],
   "source": [
    "# draw 10,000 samples form weight using rand\n",
    "beta_samples = rand(weight, 10000)"
   ]
  },
  {
   "cell_type": "code",
   "execution_count": 5,
   "metadata": {},
   "outputs": [
    {
     "data": {
      "text/plain": [
       "\u001b[90m              ┌                                        ┐\u001b[39m \n",
       "   \u001b[0m\u001b[90m[\u001b[0m0.0\u001b[90m, \u001b[0m0.1\u001b[90m)\u001b[0m\u001b[90m ┤\u001b[39m\u001b[32m▇▇▇▇▇▇▇\u001b[39m\u001b[0m 292                             \u001b[90m \u001b[39m \n",
       "   \u001b[0m\u001b[90m[\u001b[0m0.1\u001b[90m, \u001b[0m0.2\u001b[90m)\u001b[0m\u001b[90m ┤\u001b[39m\u001b[32m▇▇▇▇▇▇▇▇▇▇▇▇▇▇▇▇▇▇\u001b[39m\u001b[0m 811                  \u001b[90m \u001b[39m \n",
       "   \u001b[0m\u001b[90m[\u001b[0m0.2\u001b[90m, \u001b[0m0.3\u001b[90m)\u001b[0m\u001b[90m ┤\u001b[39m\u001b[32m▇▇▇▇▇▇▇▇▇▇▇▇▇▇▇▇▇▇▇▇▇▇▇▇▇\u001b[39m\u001b[0m 1103          \u001b[90m \u001b[39m \n",
       "   \u001b[0m\u001b[90m[\u001b[0m0.3\u001b[90m, \u001b[0m0.4\u001b[90m)\u001b[0m\u001b[90m ┤\u001b[39m\u001b[32m▇▇▇▇▇▇▇▇▇▇▇▇▇▇▇▇▇▇▇▇▇▇▇▇▇▇▇▇▇▇\u001b[39m\u001b[0m 1305     \u001b[90m \u001b[39m \n",
       "   \u001b[0m\u001b[90m[\u001b[0m0.4\u001b[90m, \u001b[0m0.5\u001b[90m)\u001b[0m\u001b[90m ┤\u001b[39m\u001b[32m▇▇▇▇▇▇▇▇▇▇▇▇▇▇▇▇▇▇▇▇▇▇▇▇▇▇▇▇▇▇▇▇▇▇\u001b[39m\u001b[0m 1493 \u001b[90m \u001b[39m \n",
       "   \u001b[0m\u001b[90m[\u001b[0m0.5\u001b[90m, \u001b[0m0.6\u001b[90m)\u001b[0m\u001b[90m ┤\u001b[39m\u001b[32m▇▇▇▇▇▇▇▇▇▇▇▇▇▇▇▇▇▇▇▇▇▇▇▇▇▇▇▇▇▇▇▇▇\u001b[39m\u001b[0m 1466  \u001b[90m \u001b[39m \n",
       "   \u001b[0m\u001b[90m[\u001b[0m0.6\u001b[90m, \u001b[0m0.7\u001b[90m)\u001b[0m\u001b[90m ┤\u001b[39m\u001b[32m▇▇▇▇▇▇▇▇▇▇▇▇▇▇▇▇▇▇▇▇▇▇▇▇▇▇▇▇▇▇▇\u001b[39m\u001b[0m 1362    \u001b[90m \u001b[39m \n",
       "   \u001b[0m\u001b[90m[\u001b[0m0.7\u001b[90m, \u001b[0m0.8\u001b[90m)\u001b[0m\u001b[90m ┤\u001b[39m\u001b[32m▇▇▇▇▇▇▇▇▇▇▇▇▇▇▇▇▇▇▇▇▇▇▇▇\u001b[39m\u001b[0m 1074           \u001b[90m \u001b[39m \n",
       "   \u001b[0m\u001b[90m[\u001b[0m0.8\u001b[90m, \u001b[0m0.9\u001b[90m)\u001b[0m\u001b[90m ┤\u001b[39m\u001b[32m▇▇▇▇▇▇▇▇▇▇▇▇▇▇▇▇▇\u001b[39m\u001b[0m 763                   \u001b[90m \u001b[39m \n",
       "   \u001b[0m\u001b[90m[\u001b[0m0.9\u001b[90m, \u001b[0m1.0\u001b[90m)\u001b[0m\u001b[90m ┤\u001b[39m\u001b[32m▇▇▇▇▇▇▇▇\u001b[39m\u001b[0m 331                            \u001b[90m \u001b[39m \n",
       "\u001b[90m              └                                        ┘\u001b[39m \n",
       "\u001b[0m                              Frequency"
      ]
     },
     "execution_count": 5,
     "metadata": {},
     "output_type": "execute_result"
    }
   ],
   "source": [
    "# visualize prior weight distribution\n",
    "histogram(beta_samples)"
   ]
  },
  {
   "cell_type": "code",
   "execution_count": 6,
   "metadata": {},
   "outputs": [
    {
     "data": {
      "text/plain": [
       "UInt64[0x0000000000000007]:applymany(Omega.Prim.Bernoulli{Bool, Omega.Prim.Beta{Float64, Float64}}[UInt64[0x0000000000000003]:Bernoulli(Beta)::Bool, UInt64[0x0000000000000004]:Bernoulli(Beta)::Bool, UInt64[0x0000000000000005]:Bernoulli(Beta)::Bool, UInt64[0x0000000000000006]:Bernoulli(Beta)::Bool])::Vector{Bool}"
      ]
     },
     "execution_count": 6,
     "metadata": {},
     "output_type": "execute_result"
    }
   ],
   "source": [
    "# create coin flip distribution\n",
    "nflips = 4\n",
    "coinflips = [bernoulli(weight, Bool) for i = 1:nflips]ᵣ"
   ]
  },
  {
   "cell_type": "code",
   "execution_count": 7,
   "metadata": {},
   "outputs": [
    {
     "data": {
      "text/plain": [
       "4-element Vector{Bool}:\n",
       " 0\n",
       " 1\n",
       " 0\n",
       " 0"
      ]
     },
     "execution_count": 7,
     "metadata": {},
     "output_type": "execute_result"
    }
   ],
   "source": [
    "# sample from coinflips\n",
    "rand(coinflips)"
   ]
  },
  {
   "cell_type": "markdown",
   "metadata": {},
   "source": [
    "Condition the model"
   ]
  },
  {
   "cell_type": "code",
   "execution_count": 8,
   "metadata": {},
   "outputs": [
    {
     "data": {
      "text/plain": [
       "4-element Vector{Bool}:\n",
       " 1\n",
       " 1\n",
       " 1\n",
       " 0"
      ]
     },
     "execution_count": 8,
     "metadata": {},
     "output_type": "execute_result"
    }
   ],
   "source": [
    "# create some fake data\n",
    "observations = [true, true, true, false]"
   ]
  },
  {
   "cell_type": "code",
   "execution_count": 9,
   "metadata": {},
   "outputs": [
    {
     "data": {
      "text/plain": [
       "UInt64[0x0000000000000009]:liftreifyapply(==, applymany, Bool[1, 1, 1, 0])::Bool"
      ]
     },
     "execution_count": 9,
     "metadata": {},
     "output_type": "execute_result"
    }
   ],
   "source": [
    "# create predicates to tests whether simulating from \n",
    "# the model matches the observed data\n",
    "condition = coinflips ==ᵣ observations"
   ]
  },
  {
   "cell_type": "code",
   "execution_count": 10,
   "metadata": {},
   "outputs": [
    {
     "data": {
      "text/plain": [
       "10-element Vector{Float64}:\n",
       " 0.639058666192942\n",
       " 0.4120330099886325\n",
       " 0.9215766109540564\n",
       " 0.8356116183144913\n",
       " 0.6635046543511478\n",
       " 0.46759225600831994\n",
       " 0.6026718920373223\n",
       " 0.33194086581986304\n",
       " 0.5482335308831525\n",
       " 0.8269818607376584"
      ]
     },
     "execution_count": 10,
     "metadata": {},
     "output_type": "execute_result"
    }
   ],
   "source": [
    "# sample from the model conditioned on condition being true\n",
    "weight_samples = rand(weight, condition, 10, alg=RejectionSample)"
   ]
  },
  {
   "cell_type": "code",
   "execution_count": 11,
   "metadata": {},
   "outputs": [
    {
     "data": {
      "text/plain": [
       "\u001b[90m              ┌                                        ┐\u001b[39m \n",
       "   \u001b[0m\u001b[90m[\u001b[0m0.2\u001b[90m, \u001b[0m0.4\u001b[90m)\u001b[0m\u001b[90m ┤\u001b[39m\u001b[32m▇▇▇▇▇▇▇▇▇▇▇▇\u001b[39m\u001b[0m 1                          \u001b[90m \u001b[39m \n",
       "   \u001b[0m\u001b[90m[\u001b[0m0.4\u001b[90m, \u001b[0m0.6\u001b[90m)\u001b[0m\u001b[90m ┤\u001b[39m\u001b[32m▇▇▇▇▇▇▇▇▇▇▇▇▇▇▇▇▇▇▇▇▇▇▇▇▇▇▇▇▇▇▇▇▇▇▇▇▇\u001b[39m\u001b[0m 3 \u001b[90m \u001b[39m \n",
       "   \u001b[0m\u001b[90m[\u001b[0m0.6\u001b[90m, \u001b[0m0.8\u001b[90m)\u001b[0m\u001b[90m ┤\u001b[39m\u001b[32m▇▇▇▇▇▇▇▇▇▇▇▇▇▇▇▇▇▇▇▇▇▇▇▇▇▇▇▇▇▇▇▇▇▇▇▇▇\u001b[39m\u001b[0m 3 \u001b[90m \u001b[39m \n",
       "   \u001b[0m\u001b[90m[\u001b[0m0.8\u001b[90m, \u001b[0m1.0\u001b[90m)\u001b[0m\u001b[90m ┤\u001b[39m\u001b[32m▇▇▇▇▇▇▇▇▇▇▇▇▇▇▇▇▇▇▇▇▇▇▇▇▇▇▇▇▇▇▇▇▇▇▇▇▇\u001b[39m\u001b[0m 3 \u001b[90m \u001b[39m \n",
       "\u001b[90m              └                                        ┘\u001b[39m \n",
       "\u001b[0m                              Frequency"
      ]
     },
     "execution_count": 11,
     "metadata": {},
     "output_type": "execute_result"
    }
   ],
   "source": [
    "# Vizualise the conditional (aka, posterior)\n",
    "histogram(weight_samples)"
   ]
  },
  {
   "cell_type": "markdown",
   "metadata": {},
   "source": [
    "Observe that our belief about the weight has now changed. \n",
    "We are more convinced the coin is biased towards heads (true)"
   ]
  }
 ],
 "metadata": {
  "@webio": {
   "lastCommId": null,
   "lastKernelId": null
  },
  "kernelspec": {
   "display_name": "Julia 1.6.1",
   "language": "julia",
   "name": "julia-1.6"
  },
  "language_info": {
   "file_extension": ".jl",
   "mimetype": "application/julia",
   "name": "julia",
   "version": "1.6.1"
  }
 },
 "nbformat": 4,
 "nbformat_minor": 4
}
