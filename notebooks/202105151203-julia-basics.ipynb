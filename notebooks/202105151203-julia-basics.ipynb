{
 "cells": [
  {
   "cell_type": "markdown",
   "id": "eb02e64a",
   "metadata": {},
   "source": [
    "# Julia Basics"
   ]
  },
  {
   "cell_type": "markdown",
   "id": "014a8e70",
   "metadata": {},
   "source": [
    "## Variables"
   ]
  },
  {
   "cell_type": "code",
   "execution_count": 1,
   "id": "090966a0",
   "metadata": {},
   "outputs": [
    {
     "data": {
      "text/plain": [
       "(99, Int64)"
      ]
     },
     "execution_count": 1,
     "metadata": {},
     "output_type": "execute_result"
    }
   ],
   "source": [
    "# int variable\n",
    "x = 99\n",
    "x, typeof(x)"
   ]
  },
  {
   "cell_type": "code",
   "execution_count": 2,
   "id": "27cab394",
   "metadata": {},
   "outputs": [
    {
     "data": {
      "text/plain": [
       "(10.0, Float64)"
      ]
     },
     "execution_count": 2,
     "metadata": {},
     "output_type": "execute_result"
    }
   ],
   "source": [
    "# float variable\n",
    "y = 10.0\n",
    "y, typeof(y)"
   ]
  },
  {
   "cell_type": "code",
   "execution_count": 3,
   "id": "2b0e86ee",
   "metadata": {},
   "outputs": [
    {
     "data": {
      "text/plain": [
       "(\"Data Science\", String)"
      ]
     },
     "execution_count": 3,
     "metadata": {},
     "output_type": "execute_result"
    }
   ],
   "source": [
    "s = \"Data Science\"\n",
    "s, typeof(s)"
   ]
  },
  {
   "cell_type": "code",
   "execution_count": 4,
   "id": "0d8e2b71",
   "metadata": {},
   "outputs": [
    {
     "data": {
      "text/plain": [
       "(true, Bool)"
      ]
     },
     "execution_count": 4,
     "metadata": {},
     "output_type": "execute_result"
    }
   ],
   "source": [
    "# string variable\n",
    "t = true\n",
    "t, typeof(t)"
   ]
  },
  {
   "cell_type": "markdown",
   "id": "0a58e46a",
   "metadata": {},
   "source": [
    "## Operators"
   ]
  },
  {
   "cell_type": "code",
   "execution_count": 5,
   "id": "8ae14d77",
   "metadata": {},
   "outputs": [
    {
     "data": {
      "text/plain": [
       "(2, 3, 4)"
      ]
     },
     "execution_count": 5,
     "metadata": {},
     "output_type": "execute_result"
    }
   ],
   "source": [
    "# assignment operator\n",
    "p = 2\n",
    "q = 3\n",
    "r = 4\n",
    "p, q, r"
   ]
  },
  {
   "cell_type": "markdown",
   "id": "22056a9e",
   "metadata": {},
   "source": [
    "### Arithmetic Operators"
   ]
  },
  {
   "cell_type": "code",
   "execution_count": 6,
   "id": "0bb13d25",
   "metadata": {},
   "outputs": [
    {
     "data": {
      "text/plain": [
       "2.0"
      ]
     },
     "execution_count": 6,
     "metadata": {},
     "output_type": "execute_result"
    }
   ],
   "source": [
    "# division operator\n",
    "r / p"
   ]
  },
  {
   "cell_type": "code",
   "execution_count": 7,
   "id": "ec0b0227",
   "metadata": {},
   "outputs": [
    {
     "data": {
      "text/plain": [
       "6"
      ]
     },
     "execution_count": 7,
     "metadata": {},
     "output_type": "execute_result"
    }
   ],
   "source": [
    "# multiplication operator\n",
    "p * q"
   ]
  },
  {
   "cell_type": "code",
   "execution_count": 8,
   "id": "b83c6392",
   "metadata": {},
   "outputs": [
    {
     "data": {
      "text/plain": [
       "5"
      ]
     },
     "execution_count": 8,
     "metadata": {},
     "output_type": "execute_result"
    }
   ],
   "source": [
    "# addition operator\n",
    "p + q"
   ]
  },
  {
   "cell_type": "code",
   "execution_count": 9,
   "id": "babd49fe",
   "metadata": {},
   "outputs": [
    {
     "data": {
      "text/plain": [
       "1"
      ]
     },
     "execution_count": 9,
     "metadata": {},
     "output_type": "execute_result"
    }
   ],
   "source": [
    "# substration operator\n",
    "r - q"
   ]
  },
  {
   "cell_type": "code",
   "execution_count": 10,
   "id": "e737956b",
   "metadata": {},
   "outputs": [
    {
     "data": {
      "text/plain": [
       "-1"
      ]
     },
     "execution_count": 10,
     "metadata": {},
     "output_type": "execute_result"
    }
   ],
   "source": [
    "q - r"
   ]
  },
  {
   "cell_type": "code",
   "execution_count": 11,
   "id": "7eb186b9",
   "metadata": {},
   "outputs": [
    {
     "data": {
      "text/plain": [
       "9"
      ]
     },
     "execution_count": 11,
     "metadata": {},
     "output_type": "execute_result"
    }
   ],
   "source": [
    "# power operator\n",
    "q ^ p"
   ]
  },
  {
   "cell_type": "markdown",
   "id": "fa0ed3f2",
   "metadata": {},
   "source": [
    "### Comparison Operators"
   ]
  },
  {
   "cell_type": "code",
   "execution_count": 12,
   "id": "e4e0e51c",
   "metadata": {},
   "outputs": [
    {
     "data": {
      "text/plain": [
       "true"
      ]
     },
     "execution_count": 12,
     "metadata": {},
     "output_type": "execute_result"
    }
   ],
   "source": [
    "# equal comparison\n",
    "p == p"
   ]
  },
  {
   "cell_type": "code",
   "execution_count": 13,
   "id": "e898d233",
   "metadata": {},
   "outputs": [
    {
     "data": {
      "text/plain": [
       "false"
      ]
     },
     "execution_count": 13,
     "metadata": {},
     "output_type": "execute_result"
    }
   ],
   "source": [
    "p == q"
   ]
  },
  {
   "cell_type": "code",
   "execution_count": 14,
   "id": "b3fa5a08",
   "metadata": {},
   "outputs": [
    {
     "data": {
      "text/plain": [
       "true"
      ]
     },
     "execution_count": 14,
     "metadata": {},
     "output_type": "execute_result"
    }
   ],
   "source": [
    "# not equal comparison\n",
    "p != q"
   ]
  },
  {
   "cell_type": "code",
   "execution_count": 15,
   "id": "ec8b19b3",
   "metadata": {},
   "outputs": [
    {
     "data": {
      "text/plain": [
       "false"
      ]
     },
     "execution_count": 15,
     "metadata": {},
     "output_type": "execute_result"
    }
   ],
   "source": [
    "# greater than or equal comparison\n",
    "p >= q"
   ]
  },
  {
   "cell_type": "code",
   "execution_count": 16,
   "id": "ff49944a",
   "metadata": {},
   "outputs": [
    {
     "data": {
      "text/plain": [
       "false"
      ]
     },
     "execution_count": 16,
     "metadata": {},
     "output_type": "execute_result"
    }
   ],
   "source": [
    "# greater than comparison\n",
    "p > q"
   ]
  },
  {
   "cell_type": "code",
   "execution_count": 17,
   "id": "615cdddf",
   "metadata": {},
   "outputs": [
    {
     "data": {
      "text/plain": [
       "true"
      ]
     },
     "execution_count": 17,
     "metadata": {},
     "output_type": "execute_result"
    }
   ],
   "source": [
    "# less than or equal comparison\n",
    "p <= q"
   ]
  },
  {
   "cell_type": "code",
   "execution_count": 18,
   "id": "96cfcec4",
   "metadata": {},
   "outputs": [
    {
     "data": {
      "text/plain": [
       "true"
      ]
     },
     "execution_count": 18,
     "metadata": {},
     "output_type": "execute_result"
    }
   ],
   "source": [
    "# less than comparison\n",
    "p < q"
   ]
  },
  {
   "cell_type": "markdown",
   "id": "9ebb782f",
   "metadata": {},
   "source": [
    "## Data Types"
   ]
  },
  {
   "cell_type": "markdown",
   "id": "19fb5253",
   "metadata": {},
   "source": [
    "### Integers"
   ]
  },
  {
   "cell_type": "code",
   "execution_count": 19,
   "id": "2353e0b7",
   "metadata": {},
   "outputs": [
    {
     "data": {
      "text/plain": [
       "(16, Int16, 32767)"
      ]
     },
     "execution_count": 19,
     "metadata": {},
     "output_type": "execute_result"
    }
   ],
   "source": [
    "# int 16\n",
    "int_16 = Int16(16)\n",
    "int_16, typeof(int_16), typemax(Int16)"
   ]
  },
  {
   "cell_type": "code",
   "execution_count": 20,
   "id": "7fad1ddc",
   "metadata": {},
   "outputs": [
    {
     "data": {
      "text/plain": [
       "(32, Int32, 2147483647)"
      ]
     },
     "execution_count": 20,
     "metadata": {},
     "output_type": "execute_result"
    }
   ],
   "source": [
    "# int 32\n",
    "int_32 = Int32(32)\n",
    "int_32, typeof(int_32), typemax(Int32)"
   ]
  },
  {
   "cell_type": "code",
   "execution_count": 21,
   "id": "db98260e",
   "metadata": {},
   "outputs": [
    {
     "data": {
      "text/plain": [
       "(64, Int64, 9223372036854775807)"
      ]
     },
     "execution_count": 21,
     "metadata": {},
     "output_type": "execute_result"
    }
   ],
   "source": [
    "# int 64\n",
    "int_64 = Int64(64)\n",
    "int_64, typeof(int_64), typemax(Int64)"
   ]
  },
  {
   "cell_type": "code",
   "execution_count": 22,
   "id": "45833e58",
   "metadata": {},
   "outputs": [
    {
     "data": {
      "text/plain": [
       "(128, Int64, 170141183460469231731687303715884105727)"
      ]
     },
     "execution_count": 22,
     "metadata": {},
     "output_type": "execute_result"
    }
   ],
   "source": [
    "# int 128\n",
    "int_128 = Int64(128)\n",
    "int_128, typeof(int_128), typemax(Int128)"
   ]
  },
  {
   "cell_type": "markdown",
   "id": "c88f0b33",
   "metadata": {},
   "source": [
    "### Floats"
   ]
  },
  {
   "cell_type": "code",
   "execution_count": 23,
   "id": "8c79c6f0",
   "metadata": {},
   "outputs": [
    {
     "data": {
      "text/plain": [
       "(Float16(16.0), Float16, Inf16)"
      ]
     },
     "execution_count": 23,
     "metadata": {},
     "output_type": "execute_result"
    }
   ],
   "source": [
    "# float 16\n",
    "float_16 = Float16(16.0)\n",
    "float_16, typeof(float_16), typemax(Float16)"
   ]
  },
  {
   "cell_type": "code",
   "execution_count": 24,
   "id": "64684d45",
   "metadata": {},
   "outputs": [
    {
     "data": {
      "text/plain": [
       "(32.0f0, Float32, Inf32)"
      ]
     },
     "execution_count": 24,
     "metadata": {},
     "output_type": "execute_result"
    }
   ],
   "source": [
    "# float 32\n",
    "float_32 = Float32(32.0)\n",
    "float_32, typeof(float_32), typemax(Float32)"
   ]
  },
  {
   "cell_type": "code",
   "execution_count": 25,
   "id": "19d1f5a1",
   "metadata": {},
   "outputs": [
    {
     "data": {
      "text/plain": [
       "(64.0, Float64, Inf)"
      ]
     },
     "execution_count": 25,
     "metadata": {},
     "output_type": "execute_result"
    }
   ],
   "source": [
    "# float 64\n",
    "float_64 = Float64(64.0)\n",
    "float_64, typeof(float_64), typemax(Float64)"
   ]
  },
  {
   "cell_type": "markdown",
   "id": "228227ce",
   "metadata": {},
   "source": [
    "### Numeric Checks"
   ]
  },
  {
   "cell_type": "code",
   "execution_count": 26,
   "id": "29a1fdbd",
   "metadata": {},
   "outputs": [
    {
     "data": {
      "text/plain": [
       "true"
      ]
     },
     "execution_count": 26,
     "metadata": {},
     "output_type": "execute_result"
    }
   ],
   "source": [
    "# check if is +ve infinity\n",
    "isinf(1/0)"
   ]
  },
  {
   "cell_type": "code",
   "execution_count": 27,
   "id": "ece798e9",
   "metadata": {},
   "outputs": [
    {
     "data": {
      "text/plain": [
       "true"
      ]
     },
     "execution_count": 27,
     "metadata": {},
     "output_type": "execute_result"
    }
   ],
   "source": [
    "# check if is -ve infinity\n",
    "isinf(-1/0)"
   ]
  },
  {
   "cell_type": "code",
   "execution_count": 28,
   "id": "43ef138f",
   "metadata": {},
   "outputs": [
    {
     "data": {
      "text/plain": [
       "true"
      ]
     },
     "execution_count": 28,
     "metadata": {},
     "output_type": "execute_result"
    }
   ],
   "source": [
    "# check if is not a number\n",
    "isnan(0/0)"
   ]
  },
  {
   "cell_type": "markdown",
   "id": "2a8db134",
   "metadata": {},
   "source": [
    "### Strings"
   ]
  },
  {
   "cell_type": "code",
   "execution_count": 29,
   "id": "6d08bb38",
   "metadata": {},
   "outputs": [
    {
     "data": {
      "text/plain": [
       "\"Data Science\""
      ]
     },
     "execution_count": 29,
     "metadata": {},
     "output_type": "execute_result"
    }
   ],
   "source": [
    "s1 = \"Data Science\""
   ]
  },
  {
   "cell_type": "code",
   "execution_count": 30,
   "id": "ec06a9ad",
   "metadata": {},
   "outputs": [
    {
     "data": {
      "text/plain": [
       "\"I'm learning Data Science\""
      ]
     },
     "execution_count": 30,
     "metadata": {},
     "output_type": "execute_result"
    }
   ],
   "source": [
    "s2 = \"I'm learning Data Science\""
   ]
  },
  {
   "cell_type": "code",
   "execution_count": 31,
   "id": "24cb8705",
   "metadata": {},
   "outputs": [
    {
     "data": {
      "text/plain": [
       "'I': ASCII/Unicode U+0049 (category Lu: Letter, uppercase)"
      ]
     },
     "execution_count": 31,
     "metadata": {},
     "output_type": "execute_result"
    }
   ],
   "source": [
    "# get index 1\n",
    "s2[1]"
   ]
  },
  {
   "cell_type": "code",
   "execution_count": 32,
   "id": "02c39e98",
   "metadata": {},
   "outputs": [
    {
     "data": {
      "text/plain": [
       "'e': ASCII/Unicode U+0065 (category Ll: Letter, lowercase)"
      ]
     },
     "execution_count": 32,
     "metadata": {},
     "output_type": "execute_result"
    }
   ],
   "source": [
    "# get last index\n",
    "s2[end]"
   ]
  },
  {
   "cell_type": "code",
   "execution_count": 33,
   "id": "e3031e9b",
   "metadata": {},
   "outputs": [
    {
     "data": {
      "text/plain": [
       "\"'m le\""
      ]
     },
     "execution_count": 33,
     "metadata": {},
     "output_type": "execute_result"
    }
   ],
   "source": [
    "# get 2 up to 6\n",
    "s2[2:6]"
   ]
  },
  {
   "cell_type": "code",
   "execution_count": 34,
   "id": "39433c48",
   "metadata": {},
   "outputs": [
    {
     "data": {
      "text/plain": [
       "\"Science\""
      ]
     },
     "execution_count": 34,
     "metadata": {},
     "output_type": "execute_result"
    }
   ],
   "source": [
    "# get last 6\n",
    "s2[end-6:end]"
   ]
  },
  {
   "cell_type": "code",
   "execution_count": 35,
   "id": "7c70f46a",
   "metadata": {},
   "outputs": [
    {
     "data": {
      "text/plain": [
       "\"I'm learning Data Science. It's fun!\""
      ]
     },
     "execution_count": 35,
     "metadata": {},
     "output_type": "execute_result"
    }
   ],
   "source": [
    "# concat\n",
    "s2 * \". It's fun!\""
   ]
  },
  {
   "cell_type": "code",
   "execution_count": 36,
   "id": "5e412a52",
   "metadata": {},
   "outputs": [
    {
     "data": {
      "text/plain": [
       "\"1 + 2 = 3\""
      ]
     },
     "execution_count": 36,
     "metadata": {},
     "output_type": "execute_result"
    }
   ],
   "source": [
    "# string interpolation\n",
    "\"1 + 2 = $(1 + 2)\""
   ]
  },
  {
   "cell_type": "code",
   "execution_count": 37,
   "id": "cccf4bf0",
   "metadata": {},
   "outputs": [
    {
     "data": {
      "text/plain": [
       "\"99 + 10.0 = 109.0\""
      ]
     },
     "execution_count": 37,
     "metadata": {},
     "output_type": "execute_result"
    }
   ],
   "source": [
    "\"$x + $y = $(x + y)\""
   ]
  },
  {
   "cell_type": "code",
   "execution_count": 38,
   "id": "bcbf78e7",
   "metadata": {},
   "outputs": [
    {
     "data": {
      "text/plain": [
       "25"
      ]
     },
     "execution_count": 38,
     "metadata": {},
     "output_type": "execute_result"
    }
   ],
   "source": [
    "length(s2)"
   ]
  },
  {
   "cell_type": "code",
   "execution_count": 39,
   "id": "7761907e",
   "metadata": {},
   "outputs": [
    {
     "data": {
      "text/plain": [
       "14:17"
      ]
     },
     "execution_count": 39,
     "metadata": {},
     "output_type": "execute_result"
    }
   ],
   "source": [
    "# find first occurance of a pattern\n",
    "findfirst(\"Data\", s2)"
   ]
  },
  {
   "cell_type": "code",
   "execution_count": 40,
   "id": "e91a2b3f",
   "metadata": {},
   "outputs": [
    {
     "data": {
      "text/plain": [
       "(\"pqrs\", \"pqrt\")"
      ]
     },
     "execution_count": 40,
     "metadata": {},
     "output_type": "execute_result"
    }
   ],
   "source": [
    "s3 = \"pqrs\"\n",
    "s4 = \"pqrt\"\n",
    "s3, s4"
   ]
  },
  {
   "cell_type": "code",
   "execution_count": 41,
   "id": "18b34fc4",
   "metadata": {},
   "outputs": [
    {
     "data": {
      "text/plain": [
       "false"
      ]
     },
     "execution_count": 41,
     "metadata": {},
     "output_type": "execute_result"
    }
   ],
   "source": [
    "# check if string are equal\n",
    "s3 == s4"
   ]
  },
  {
   "cell_type": "code",
   "execution_count": 42,
   "id": "e9c5e0a9",
   "metadata": {},
   "outputs": [
    {
     "data": {
      "text/plain": [
       "false"
      ]
     },
     "execution_count": 42,
     "metadata": {},
     "output_type": "execute_result"
    }
   ],
   "source": [
    "s3 > s4"
   ]
  },
  {
   "cell_type": "code",
   "execution_count": 43,
   "id": "38328981",
   "metadata": {},
   "outputs": [
    {
     "data": {
      "text/plain": [
       "true"
      ]
     },
     "execution_count": 43,
     "metadata": {},
     "output_type": "execute_result"
    }
   ],
   "source": [
    "s3 < s4"
   ]
  },
  {
   "cell_type": "markdown",
   "id": "21e3fefd",
   "metadata": {},
   "source": [
    "### Tuples"
   ]
  },
  {
   "cell_type": "code",
   "execution_count": 44,
   "id": "55fd466f",
   "metadata": {},
   "outputs": [
    {
     "data": {
      "text/plain": [
       "((1, 2, 3, 4), NTuple{4, Int64})"
      ]
     },
     "execution_count": 44,
     "metadata": {},
     "output_type": "execute_result"
    }
   ],
   "source": [
    "# tuple data\n",
    "t1 = (1, 2, 3, 4)\n",
    "t1, typeof(t1)"
   ]
  },
  {
   "cell_type": "code",
   "execution_count": 45,
   "id": "3b16ffe6",
   "metadata": {},
   "outputs": [
    {
     "data": {
      "text/plain": [
       "((\"Data\", 1, 2.0), Tuple{String, Int64, Float64})"
      ]
     },
     "execution_count": 45,
     "metadata": {},
     "output_type": "execute_result"
    }
   ],
   "source": [
    "t2 = (\"Data\", 1, 2.0)\n",
    "t2, typeof(t2)"
   ]
  },
  {
   "cell_type": "code",
   "execution_count": 46,
   "id": "93ef336d",
   "metadata": {},
   "outputs": [
    {
     "data": {
      "text/plain": [
       "\"Data\""
      ]
     },
     "execution_count": 46,
     "metadata": {},
     "output_type": "execute_result"
    }
   ],
   "source": [
    "u, v, w = t2\n",
    "u"
   ]
  },
  {
   "cell_type": "markdown",
   "id": "d40fd7e0",
   "metadata": {},
   "source": [
    "### Arrays"
   ]
  },
  {
   "cell_type": "code",
   "execution_count": 47,
   "id": "f1d642db",
   "metadata": {},
   "outputs": [
    {
     "data": {
      "text/plain": [
       "([140123648453136, 140123648453168, 140123648453200], Vector{Int64})"
      ]
     },
     "execution_count": 47,
     "metadata": {},
     "output_type": "execute_result"
    }
   ],
   "source": [
    "# vector data\n",
    "a1 = Array{Int64}(undef, 3) # vector of length 3\n",
    "a1, typeof(a1)"
   ]
  },
  {
   "cell_type": "code",
   "execution_count": 48,
   "id": "54704fbc",
   "metadata": {},
   "outputs": [
    {
     "data": {
      "text/plain": [
       "([140124741057968 140124007310352; 140123961173360 140124738278096; 140124007310352 0], Matrix{Int64})"
      ]
     },
     "execution_count": 48,
     "metadata": {},
     "output_type": "execute_result"
    }
   ],
   "source": [
    "a2 = Array{Int64}(undef, (3,2)) # 3 x 2 matrix\n",
    "a2, typeof(a2)"
   ]
  },
  {
   "cell_type": "code",
   "execution_count": 49,
   "id": "51ca5d8e",
   "metadata": {},
   "outputs": [
    {
     "data": {
      "text/plain": [
       "3-element Vector{Int64}:\n",
       " 1\n",
       " 2\n",
       " 3"
      ]
     },
     "execution_count": 49,
     "metadata": {},
     "output_type": "execute_result"
    }
   ],
   "source": [
    "a3 = [1,2,3]\n",
    "a3"
   ]
  },
  {
   "cell_type": "code",
   "execution_count": 50,
   "id": "61bfa738",
   "metadata": {},
   "outputs": [
    {
     "data": {
      "text/plain": [
       "1×3 Matrix{Int64}:\n",
       " 1  2  3"
      ]
     },
     "execution_count": 50,
     "metadata": {},
     "output_type": "execute_result"
    }
   ],
   "source": [
    "a4 = [1 2 3]"
   ]
  },
  {
   "cell_type": "code",
   "execution_count": 51,
   "id": "5253b8b1",
   "metadata": {},
   "outputs": [
    {
     "data": {
      "text/plain": [
       "2×3 Matrix{Int64}:\n",
       " 1  2  3\n",
       " 4  5  6"
      ]
     },
     "execution_count": 51,
     "metadata": {},
     "output_type": "execute_result"
    }
   ],
   "source": [
    "# matrix data\n",
    "a5 = [1 2 3 ; 4 5 6]"
   ]
  },
  {
   "cell_type": "code",
   "execution_count": 52,
   "id": "5d139ab5",
   "metadata": {},
   "outputs": [
    {
     "data": {
      "text/plain": [
       "3×3 Matrix{Int64}:\n",
       " 1  2  3\n",
       " 4  5  6\n",
       " 7  8  9"
      ]
     },
     "execution_count": 52,
     "metadata": {},
     "output_type": "execute_result"
    }
   ],
   "source": [
    "a6 = [1 2 3 ; 4 5 6 ; 7 8 9]"
   ]
  },
  {
   "cell_type": "code",
   "execution_count": 53,
   "id": "ac0f99f3",
   "metadata": {},
   "outputs": [
    {
     "data": {
      "text/plain": [
       "2×2 Matrix{Float64}:\n",
       " 0.0  0.0\n",
       " 0.0  0.0"
      ]
     },
     "execution_count": 53,
     "metadata": {},
     "output_type": "execute_result"
    }
   ],
   "source": [
    "zeros((2,2))"
   ]
  },
  {
   "cell_type": "code",
   "execution_count": 54,
   "id": "4bb83d64",
   "metadata": {},
   "outputs": [
    {
     "data": {
      "text/plain": [
       "2×2 Matrix{Float64}:\n",
       " 0.0  0.0\n",
       " 0.0  0.0"
      ]
     },
     "execution_count": 54,
     "metadata": {},
     "output_type": "execute_result"
    }
   ],
   "source": [
    "zeros(Float64, (2,2))"
   ]
  },
  {
   "cell_type": "code",
   "execution_count": 55,
   "id": "d3c2192f",
   "metadata": {},
   "outputs": [
    {
     "data": {
      "text/plain": [
       "2×2 Matrix{Float64}:\n",
       " 1.0  1.0\n",
       " 1.0  1.0"
      ]
     },
     "execution_count": 55,
     "metadata": {},
     "output_type": "execute_result"
    }
   ],
   "source": [
    "ones((2,2))"
   ]
  },
  {
   "cell_type": "code",
   "execution_count": 56,
   "id": "960c162f",
   "metadata": {},
   "outputs": [
    {
     "data": {
      "text/plain": [
       "2×2 Matrix{Float64}:\n",
       " 1.0  1.0\n",
       " 1.0  1.0"
      ]
     },
     "execution_count": 56,
     "metadata": {},
     "output_type": "execute_result"
    }
   ],
   "source": [
    "ones(Float64, (2,2))"
   ]
  },
  {
   "cell_type": "code",
   "execution_count": 57,
   "id": "ae286b37",
   "metadata": {},
   "outputs": [
    {
     "data": {
      "text/plain": [
       "2×2 Matrix{Int64}:\n",
       "  -149864027400126673  1082714850624429479\n",
       " -5741432174625906157  4060443765269489087"
      ]
     },
     "execution_count": 57,
     "metadata": {},
     "output_type": "execute_result"
    }
   ],
   "source": [
    "rand(Int64, (2,2))"
   ]
  },
  {
   "cell_type": "code",
   "execution_count": 58,
   "id": "fc1834e2",
   "metadata": {},
   "outputs": [
    {
     "data": {
      "text/plain": [
       "2×2 Matrix{Float64}:\n",
       " -0.172506  -0.426563\n",
       "  0.158388  -0.351003"
      ]
     },
     "execution_count": 58,
     "metadata": {},
     "output_type": "execute_result"
    }
   ],
   "source": [
    "randn((2,2))"
   ]
  },
  {
   "cell_type": "markdown",
   "id": "354dfbd0",
   "metadata": {},
   "source": [
    "### Dictionaries"
   ]
  },
  {
   "cell_type": "code",
   "execution_count": 59,
   "id": "d6842089",
   "metadata": {},
   "outputs": [
    {
     "data": {
      "text/plain": [
       "Dict{String, Int64} with 2 entries:\n",
       "  \"id\"  => 100\n",
       "  \"age\" => 24"
      ]
     },
     "execution_count": 59,
     "metadata": {},
     "output_type": "execute_result"
    }
   ],
   "source": [
    "# dictionary data\n",
    "d0 = Dict(\"id\" => 100, \"age\" => 24)"
   ]
  },
  {
   "cell_type": "code",
   "execution_count": 60,
   "id": "23c70fed",
   "metadata": {},
   "outputs": [
    {
     "data": {
      "text/plain": [
       "100"
      ]
     },
     "execution_count": 60,
     "metadata": {},
     "output_type": "execute_result"
    }
   ],
   "source": [
    "d0[\"id\"]"
   ]
  },
  {
   "cell_type": "code",
   "execution_count": 61,
   "id": "8ca4a638",
   "metadata": {},
   "outputs": [
    {
     "data": {
      "text/plain": [
       "24"
      ]
     },
     "execution_count": 61,
     "metadata": {},
     "output_type": "execute_result"
    }
   ],
   "source": [
    "d0[\"age\"]"
   ]
  },
  {
   "cell_type": "code",
   "execution_count": 62,
   "id": "7c2f3a82",
   "metadata": {},
   "outputs": [
    {
     "data": {
      "text/plain": [
       "Dict{String, Int64} with 3 entries:\n",
       "  \"id\"    => 100\n",
       "  \"age\"   => 24\n",
       "  \"level\" => 1"
      ]
     },
     "execution_count": 62,
     "metadata": {},
     "output_type": "execute_result"
    }
   ],
   "source": [
    "d0[\"level\"] = 1\n",
    "d0"
   ]
  },
  {
   "cell_type": "code",
   "execution_count": 63,
   "id": "72fd85c4",
   "metadata": {},
   "outputs": [
    {
     "data": {
      "text/plain": [
       "true"
      ]
     },
     "execution_count": 63,
     "metadata": {},
     "output_type": "execute_result"
    }
   ],
   "source": [
    "haskey(d0, \"id\")"
   ]
  },
  {
   "cell_type": "code",
   "execution_count": 64,
   "id": "a1f24d03",
   "metadata": {},
   "outputs": [
    {
     "data": {
      "text/plain": [
       "Dict{String, Int64} with 2 entries:\n",
       "  \"id\"  => 100\n",
       "  \"age\" => 24"
      ]
     },
     "execution_count": 64,
     "metadata": {},
     "output_type": "execute_result"
    }
   ],
   "source": [
    "delete!(d0, \"level\")\n",
    "d0"
   ]
  },
  {
   "cell_type": "markdown",
   "id": "ca6f388e",
   "metadata": {},
   "source": [
    "## Control Flow"
   ]
  },
  {
   "cell_type": "markdown",
   "id": "ffe4d692",
   "metadata": {},
   "source": [
    "### Compound Expressions"
   ]
  },
  {
   "cell_type": "code",
   "execution_count": 65,
   "id": "255203d0",
   "metadata": {},
   "outputs": [
    {
     "data": {
      "text/plain": [
       "20"
      ]
     },
     "execution_count": 65,
     "metadata": {},
     "output_type": "execute_result"
    }
   ],
   "source": [
    "# compaund expression\n",
    "c0 = begin\n",
    "    j = 10\n",
    "    k = 2\n",
    "    j * k\n",
    "end\n",
    "c0"
   ]
  },
  {
   "cell_type": "code",
   "execution_count": 66,
   "id": "d11a64bf",
   "metadata": {},
   "outputs": [
    {
     "data": {
      "text/plain": [
       "20"
      ]
     },
     "execution_count": 66,
     "metadata": {},
     "output_type": "execute_result"
    }
   ],
   "source": [
    "c1 = (j = 10; k = 2; j * k)\n",
    "c1"
   ]
  },
  {
   "cell_type": "markdown",
   "id": "347be6a9",
   "metadata": {},
   "source": [
    "### Conditional Evaluation"
   ]
  },
  {
   "cell_type": "code",
   "execution_count": 67,
   "id": "39fbc3c6",
   "metadata": {},
   "outputs": [
    {
     "data": {
      "text/plain": [
       "\"two\""
      ]
     },
     "execution_count": 67,
     "metadata": {},
     "output_type": "execute_result"
    }
   ],
   "source": [
    "# if check\n",
    "if k == 2\n",
    "    \"two\"\n",
    "end"
   ]
  },
  {
   "cell_type": "code",
   "execution_count": 68,
   "id": "664e5646",
   "metadata": {},
   "outputs": [
    {
     "data": {
      "text/plain": [
       "\"two\""
      ]
     },
     "execution_count": 68,
     "metadata": {},
     "output_type": "execute_result"
    }
   ],
   "source": [
    "# if..else check\n",
    "if k == 2\n",
    "    \"two\"\n",
    "else\n",
    "    \"not two\"\n",
    "end"
   ]
  },
  {
   "cell_type": "code",
   "execution_count": 69,
   "id": "fe182040",
   "metadata": {},
   "outputs": [
    {
     "data": {
      "text/plain": [
       "\"two\""
      ]
     },
     "execution_count": 69,
     "metadata": {},
     "output_type": "execute_result"
    }
   ],
   "source": [
    "k == 2 ? \"two\" : \"not two\""
   ]
  },
  {
   "cell_type": "markdown",
   "id": "b1a03630",
   "metadata": {},
   "source": [
    "### Loops"
   ]
  },
  {
   "cell_type": "markdown",
   "id": "a3aadc18",
   "metadata": {},
   "source": [
    "#### Basics"
   ]
  },
  {
   "cell_type": "code",
   "execution_count": 70,
   "id": "192dee9d",
   "metadata": {},
   "outputs": [
    {
     "name": "stdout",
     "output_type": "stream",
     "text": [
      "J\n",
      "u\n",
      "l\n",
      "i\n",
      "a\n"
     ]
    }
   ],
   "source": [
    "# for loop\n",
    "s5 = \"Julia\"\n",
    "\n",
    "for str in s5\n",
    "    println(str)\n",
    "end"
   ]
  },
  {
   "cell_type": "code",
   "execution_count": 71,
   "id": "3af4685f",
   "metadata": {},
   "outputs": [
    {
     "name": "stdout",
     "output_type": "stream",
     "text": [
      "i * j = 2\n",
      "i * j = 4\n",
      "i * j = 6\n",
      "i * j = 6\n",
      "i * j = 12\n",
      "i * j = 18\n",
      "i * j = 10\n",
      "i * j = 20\n",
      "i * j = 30\n"
     ]
    }
   ],
   "source": [
    "# nested for loop\n",
    "odd = [1, 3, 5]\n",
    "even = [2, 4, 6]\n",
    "\n",
    "for i in odd, j in even\n",
    "    println(\"i * j = $(i * j)\")\n",
    "end"
   ]
  },
  {
   "cell_type": "code",
   "execution_count": 72,
   "id": "9b3cfa57",
   "metadata": {},
   "outputs": [
    {
     "name": "stdout",
     "output_type": "stream",
     "text": [
      "0\n",
      "1\n",
      "2\n",
      "3\n",
      "4\n",
      "5\n",
      "6\n",
      "7\n",
      "8\n",
      "9\n"
     ]
    }
   ],
   "source": [
    "# while loop\n",
    "first = 0\n",
    "last = 10\n",
    "\n",
    "while first < last\n",
    "    global first\n",
    "    println(first)\n",
    "    first = first + 1\n",
    "end"
   ]
  },
  {
   "cell_type": "markdown",
   "id": "b526d5a9",
   "metadata": {},
   "source": [
    "#### Exception Handling"
   ]
  },
  {
   "cell_type": "code",
   "execution_count": 73,
   "id": "d37a3ca3",
   "metadata": {},
   "outputs": [
    {
     "name": "stdout",
     "output_type": "stream",
     "text": [
      "DomainError(-1.0, \"log will only return a complex result if called with a complex argument. Try log(Complex(x)).\")\n"
     ]
    }
   ],
   "source": [
    "# catch exception\n",
    "try\n",
    "    log(-1)\n",
    "catch ex\n",
    "    println(ex)\n",
    "end"
   ]
  },
  {
   "cell_type": "markdown",
   "id": "340dd5d7",
   "metadata": {},
   "source": [
    "### Functions"
   ]
  },
  {
   "cell_type": "code",
   "execution_count": 74,
   "id": "37289fc4",
   "metadata": {},
   "outputs": [
    {
     "data": {
      "text/plain": [
       "3"
      ]
     },
     "execution_count": 74,
     "metadata": {},
     "output_type": "execute_result"
    }
   ],
   "source": [
    "# declare function\n",
    "function add(x, y)\n",
    "    return x+y\n",
    "end\n",
    "\n",
    "add(1, 2)"
   ]
  },
  {
   "cell_type": "code",
   "execution_count": 75,
   "id": "d00dcbdd",
   "metadata": {},
   "outputs": [
    {
     "data": {
      "text/plain": [
       "3"
      ]
     },
     "execution_count": 75,
     "metadata": {},
     "output_type": "execute_result"
    }
   ],
   "source": [
    "add2(x,y) = x+y\n",
    "\n",
    "add2(1,2)"
   ]
  }
 ],
 "metadata": {
  "kernelspec": {
   "display_name": "Julia 1.6.1",
   "language": "julia",
   "name": "julia-1.6"
  },
  "language_info": {
   "file_extension": ".jl",
   "mimetype": "application/julia",
   "name": "julia",
   "version": "1.6.1"
  }
 },
 "nbformat": 4,
 "nbformat_minor": 5
}
