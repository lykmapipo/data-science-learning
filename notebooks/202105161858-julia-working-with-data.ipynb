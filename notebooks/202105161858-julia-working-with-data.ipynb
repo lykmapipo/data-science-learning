{
 "cells": [
  {
   "cell_type": "markdown",
   "id": "c1c57aa1",
   "metadata": {},
   "source": [
    "# Working with Data"
   ]
  },
  {
   "cell_type": "code",
   "execution_count": 1,
   "id": "bfe55d07",
   "metadata": {},
   "outputs": [],
   "source": [
    "# load required modules\n",
    "using CategoricalArrays\n",
    "using CSV\n",
    "using DataFrames\n",
    "using Distributions\n",
    "using Random\n",
    "using StatsBase"
   ]
  },
  {
   "cell_type": "code",
   "execution_count": 2,
   "id": "436b6437",
   "metadata": {},
   "outputs": [],
   "source": [
    "# set seed for reproducible sequence of numbers\n",
    "Random.seed!(42);"
   ]
  },
  {
   "cell_type": "markdown",
   "id": "b52c5818",
   "metadata": {},
   "source": [
    "## Dataframes"
   ]
  },
  {
   "cell_type": "code",
   "execution_count": 3,
   "id": "266bae40",
   "metadata": {},
   "outputs": [
    {
     "data": {
      "text/html": [
       "<div class=\"data-frame\"><p>100 rows × 3 columns</p><table class=\"data-frame\"><thead><tr><th></th><th>x1</th><th>x2</th><th>x3</th></tr><tr><th></th><th title=\"Float64\">Float64</th><th title=\"String\">String</th><th title=\"Float64\">Float64</th></tr></thead><tbody><tr><th>1</th><td>9.44397</td><td>Best</td><td>1.13941</td></tr><tr><th>2</th><td>9.55562</td><td>Good</td><td>1.15612</td></tr><tr><th>3</th><td>10.0272</td><td>Better</td><td>1.14102</td></tr><tr><th>4</th><td>9.70052</td><td>Better</td><td>1.13922</td></tr><tr><th>5</th><td>11.7779</td><td>Good</td><td>1.2221</td></tr><tr><th>6</th><td>8.8551</td><td>Better</td><td>1.04502</td></tr><tr><th>7</th><td>9.53139</td><td>Best</td><td>1.15222</td></tr><tr><th>8</th><td>10.1561</td><td>Good</td><td>1.03787</td></tr><tr><th>9</th><td>7.35801</td><td>Better</td><td>1.098</td></tr><tr><th>10</th><td>11.0033</td><td>Better</td><td>1.05128</td></tr><tr><th>11</th><td>11.0824</td><td>Good</td><td>1.03466</td></tr><tr><th>12</th><td>10.187</td><td>Best</td><td>1.00513</td></tr><tr><th>13</th><td>10.5181</td><td>Best</td><td>1.06026</td></tr><tr><th>14</th><td>11.4914</td><td>Best</td><td>1.06416</td></tr><tr><th>15</th><td>10.3676</td><td>Better</td><td>1.02916</td></tr><tr><th>16</th><td>9.11379</td><td>Best</td><td>1.20151</td></tr><tr><th>17</th><td>10.6846</td><td>Best</td><td>1.017</td></tr><tr><th>18</th><td>8.40942</td><td>Better</td><td>1.03214</td></tr><tr><th>19</th><td>10.4107</td><td>Better</td><td>1.02553</td></tr><tr><th>20</th><td>9.14365</td><td>Best</td><td>1.03575</td></tr><tr><th>21</th><td>8.94901</td><td>Better</td><td>1.02335</td></tr><tr><th>22</th><td>10.5021</td><td>Good</td><td>1.15012</td></tr><tr><th>23</th><td>9.78375</td><td>Good</td><td>1.42824</td></tr><tr><th>24</th><td>9.29358</td><td>Best</td><td>1.07795</td></tr><tr><th>25</th><td>5.66253</td><td>Best</td><td>1.00055</td></tr><tr><th>26</th><td>10.5698</td><td>Better</td><td>1.04113</td></tr><tr><th>27</th><td>8.57794</td><td>Better</td><td>1.06142</td></tr><tr><th>28</th><td>9.6276</td><td>Better</td><td>1.01094</td></tr><tr><th>29</th><td>10.369</td><td>Better</td><td>1.13076</td></tr><tr><th>30</th><td>9.99239</td><td>Better</td><td>1.00425</td></tr><tr><th>&vellip;</th><td>&vellip;</td><td>&vellip;</td><td>&vellip;</td></tr></tbody></table></div>"
      ],
      "text/latex": [
       "\\begin{tabular}{r|ccc}\n",
       "\t& x1 & x2 & x3\\\\\n",
       "\t\\hline\n",
       "\t& Float64 & String & Float64\\\\\n",
       "\t\\hline\n",
       "\t1 & 9.44397 & Best & 1.13941 \\\\\n",
       "\t2 & 9.55562 & Good & 1.15612 \\\\\n",
       "\t3 & 10.0272 & Better & 1.14102 \\\\\n",
       "\t4 & 9.70052 & Better & 1.13922 \\\\\n",
       "\t5 & 11.7779 & Good & 1.2221 \\\\\n",
       "\t6 & 8.8551 & Better & 1.04502 \\\\\n",
       "\t7 & 9.53139 & Best & 1.15222 \\\\\n",
       "\t8 & 10.1561 & Good & 1.03787 \\\\\n",
       "\t9 & 7.35801 & Better & 1.098 \\\\\n",
       "\t10 & 11.0033 & Better & 1.05128 \\\\\n",
       "\t11 & 11.0824 & Good & 1.03466 \\\\\n",
       "\t12 & 10.187 & Best & 1.00513 \\\\\n",
       "\t13 & 10.5181 & Best & 1.06026 \\\\\n",
       "\t14 & 11.4914 & Best & 1.06416 \\\\\n",
       "\t15 & 10.3676 & Better & 1.02916 \\\\\n",
       "\t16 & 9.11379 & Best & 1.20151 \\\\\n",
       "\t17 & 10.6846 & Best & 1.017 \\\\\n",
       "\t18 & 8.40942 & Better & 1.03214 \\\\\n",
       "\t19 & 10.4107 & Better & 1.02553 \\\\\n",
       "\t20 & 9.14365 & Best & 1.03575 \\\\\n",
       "\t21 & 8.94901 & Better & 1.02335 \\\\\n",
       "\t22 & 10.5021 & Good & 1.15012 \\\\\n",
       "\t23 & 9.78375 & Good & 1.42824 \\\\\n",
       "\t24 & 9.29358 & Best & 1.07795 \\\\\n",
       "\t25 & 5.66253 & Best & 1.00055 \\\\\n",
       "\t26 & 10.5698 & Better & 1.04113 \\\\\n",
       "\t27 & 8.57794 & Better & 1.06142 \\\\\n",
       "\t28 & 9.6276 & Better & 1.01094 \\\\\n",
       "\t29 & 10.369 & Better & 1.13076 \\\\\n",
       "\t30 & 9.99239 & Better & 1.00425 \\\\\n",
       "\t$\\dots$ & $\\dots$ & $\\dots$ & $\\dots$ \\\\\n",
       "\\end{tabular}\n"
      ],
      "text/plain": [
       "\u001b[1m100×3 DataFrame\u001b[0m\n",
       "\u001b[1m Row \u001b[0m│\u001b[1m x1       \u001b[0m\u001b[1m x2     \u001b[0m\u001b[1m x3      \u001b[0m\n",
       "\u001b[1m     \u001b[0m│\u001b[90m Float64  \u001b[0m\u001b[90m String \u001b[0m\u001b[90m Float64 \u001b[0m\n",
       "─────┼───────────────────────────\n",
       "   1 │  9.44397  Best    1.13941\n",
       "   2 │  9.55562  Good    1.15612\n",
       "   3 │ 10.0272   Better  1.14102\n",
       "   4 │  9.70052  Better  1.13922\n",
       "   5 │ 11.7779   Good    1.2221\n",
       "   6 │  8.8551   Better  1.04502\n",
       "   7 │  9.53139  Best    1.15222\n",
       "   8 │ 10.1561   Good    1.03787\n",
       "   9 │  7.35801  Better  1.098\n",
       "  10 │ 11.0033   Better  1.05128\n",
       "  11 │ 11.0824   Good    1.03466\n",
       "  ⋮  │    ⋮        ⋮        ⋮\n",
       "  91 │ 10.1375   Better  1.21954\n",
       "  92 │ 13.1496   Better  1.01555\n",
       "  93 │  9.27859  Better  1.07816\n",
       "  94 │  9.42291  Better  1.07689\n",
       "  95 │ 10.4594   Best    1.72336\n",
       "  96 │ 10.2472   Good    1.0601\n",
       "  97 │  9.97434  Best    1.13788\n",
       "  98 │  9.36792  Better  1.14067\n",
       "  99 │  8.97958  Better  1.18326\n",
       " 100 │  8.68849  Best    1.11812\n",
       "\u001b[36m                  79 rows omitted\u001b[0m"
      ]
     },
     "execution_count": 3,
     "metadata": {},
     "output_type": "execute_result"
    }
   ],
   "source": [
    "# create a sample dataframe\n",
    "df = DataFrame(\n",
    "    Dict(\n",
    "        :x1 => rand(Normal(10, 1), 100),\n",
    "        :x2 => [sample([\"Good\", \"Better\", \"Best\"], pweights([0.2, 0.5, 0.3])) for i=1:100],\n",
    "        :x3 => rand(Pareto(10, 1), 100)\n",
    "    )\n",
    ")"
   ]
  },
  {
   "cell_type": "code",
   "execution_count": 4,
   "id": "3c48c3f9",
   "metadata": {},
   "outputs": [
    {
     "data": {
      "text/plain": [
       "DataFrame"
      ]
     },
     "execution_count": 4,
     "metadata": {},
     "output_type": "execute_result"
    }
   ],
   "source": [
    "# get type of df\n",
    "typeof(df)"
   ]
  },
  {
   "cell_type": "markdown",
   "id": "fbe3b591",
   "metadata": {},
   "source": [
    "### Access Dataframe Rows"
   ]
  },
  {
   "cell_type": "code",
   "execution_count": 5,
   "id": "777df7fc",
   "metadata": {},
   "outputs": [
    {
     "data": {
      "text/html": [
       "<p>DataFrameRow (3 columns)</p><div class=\"data-frame\"><table class=\"data-frame\"><thead><tr><th></th><th>x1</th><th>x2</th><th>x3</th></tr><tr><th></th><th title=\"Float64\">Float64</th><th title=\"String\">String</th><th title=\"Float64\">Float64</th></tr></thead><tbody><tr><th>1</th><td>9.44397</td><td>Best</td><td>1.13941</td></tr></tbody></table></div>"
      ],
      "text/latex": [
       "\\begin{tabular}{r|ccc}\n",
       "\t& x1 & x2 & x3\\\\\n",
       "\t\\hline\n",
       "\t& Float64 & String & Float64\\\\\n",
       "\t\\hline\n",
       "\t1 & 9.44397 & Best & 1.13941 \\\\\n",
       "\\end{tabular}\n"
      ],
      "text/plain": [
       "\u001b[1mDataFrameRow\u001b[0m\n",
       "\u001b[1m Row \u001b[0m│\u001b[1m x1      \u001b[0m\u001b[1m x2     \u001b[0m\u001b[1m x3      \u001b[0m\n",
       "\u001b[1m     \u001b[0m│\u001b[90m Float64 \u001b[0m\u001b[90m String \u001b[0m\u001b[90m Float64 \u001b[0m\n",
       "─────┼──────────────────────────\n",
       "   1 │ 9.44397  Best    1.13941"
      ]
     },
     "execution_count": 5,
     "metadata": {},
     "output_type": "execute_result"
    }
   ],
   "source": [
    "# access 1 row\n",
    "df[1, :]"
   ]
  },
  {
   "cell_type": "code",
   "execution_count": 6,
   "id": "2d64e34a",
   "metadata": {},
   "outputs": [
    {
     "data": {
      "text/html": [
       "<div class=\"data-frame\"><p>2 rows × 3 columns</p><table class=\"data-frame\"><thead><tr><th></th><th>x1</th><th>x2</th><th>x3</th></tr><tr><th></th><th title=\"Float64\">Float64</th><th title=\"String\">String</th><th title=\"Float64\">Float64</th></tr></thead><tbody><tr><th>1</th><td>9.44397</td><td>Best</td><td>1.13941</td></tr><tr><th>2</th><td>9.55562</td><td>Good</td><td>1.15612</td></tr></tbody></table></div>"
      ],
      "text/latex": [
       "\\begin{tabular}{r|ccc}\n",
       "\t& x1 & x2 & x3\\\\\n",
       "\t\\hline\n",
       "\t& Float64 & String & Float64\\\\\n",
       "\t\\hline\n",
       "\t1 & 9.44397 & Best & 1.13941 \\\\\n",
       "\t2 & 9.55562 & Good & 1.15612 \\\\\n",
       "\\end{tabular}\n"
      ],
      "text/plain": [
       "\u001b[1m2×3 DataFrame\u001b[0m\n",
       "\u001b[1m Row \u001b[0m│\u001b[1m x1      \u001b[0m\u001b[1m x2     \u001b[0m\u001b[1m x3      \u001b[0m\n",
       "\u001b[1m     \u001b[0m│\u001b[90m Float64 \u001b[0m\u001b[90m String \u001b[0m\u001b[90m Float64 \u001b[0m\n",
       "─────┼──────────────────────────\n",
       "   1 │ 9.44397  Best    1.13941\n",
       "   2 │ 9.55562  Good    1.15612"
      ]
     },
     "execution_count": 6,
     "metadata": {},
     "output_type": "execute_result"
    }
   ],
   "source": [
    "# access 1 and 2 row\n",
    "df[[1, 2],:]"
   ]
  },
  {
   "cell_type": "markdown",
   "id": "19c8f46c",
   "metadata": {},
   "source": [
    "### Access Dataframe Columns"
   ]
  },
  {
   "cell_type": "code",
   "execution_count": 7,
   "id": "1fd4e4b7",
   "metadata": {},
   "outputs": [
    {
     "data": {
      "text/plain": [
       "100-element Vector{Float64}:\n",
       "  9.443973123853613\n",
       "  9.555616642890303\n",
       " 10.027155338009194\n",
       "  9.700515909641089\n",
       " 11.777861098057326\n",
       "  8.85509846827118\n",
       "  9.531394117832326\n",
       " 10.15614346264074\n",
       "  7.358008991923204\n",
       " 11.003309901459485\n",
       " 11.08238120560843\n",
       " 10.18702790710363\n",
       " 10.518148787877138\n",
       "  ⋮\n",
       "  9.06950711978119\n",
       "  8.00944602766854\n",
       " 10.137539801928368\n",
       " 13.149575924127522\n",
       "  9.278587801512574\n",
       "  9.422907303013153\n",
       " 10.459383775304756\n",
       " 10.247207706055054\n",
       "  9.974337506195937\n",
       "  9.367919031973127\n",
       "  8.979580645130948\n",
       "  8.688492199795714"
      ]
     },
     "execution_count": 7,
     "metadata": {},
     "output_type": "execute_result"
    }
   ],
   "source": [
    "# access x1 column vector\n",
    "df[:, :x1]"
   ]
  },
  {
   "cell_type": "code",
   "execution_count": 8,
   "id": "47d5c44f",
   "metadata": {},
   "outputs": [
    {
     "data": {
      "text/html": [
       "<div class=\"data-frame\"><p>100 rows × 1 columns</p><table class=\"data-frame\"><thead><tr><th></th><th>x1</th></tr><tr><th></th><th title=\"Float64\">Float64</th></tr></thead><tbody><tr><th>1</th><td>9.44397</td></tr><tr><th>2</th><td>9.55562</td></tr><tr><th>3</th><td>10.0272</td></tr><tr><th>4</th><td>9.70052</td></tr><tr><th>5</th><td>11.7779</td></tr><tr><th>6</th><td>8.8551</td></tr><tr><th>7</th><td>9.53139</td></tr><tr><th>8</th><td>10.1561</td></tr><tr><th>9</th><td>7.35801</td></tr><tr><th>10</th><td>11.0033</td></tr><tr><th>11</th><td>11.0824</td></tr><tr><th>12</th><td>10.187</td></tr><tr><th>13</th><td>10.5181</td></tr><tr><th>14</th><td>11.4914</td></tr><tr><th>15</th><td>10.3676</td></tr><tr><th>16</th><td>9.11379</td></tr><tr><th>17</th><td>10.6846</td></tr><tr><th>18</th><td>8.40942</td></tr><tr><th>19</th><td>10.4107</td></tr><tr><th>20</th><td>9.14365</td></tr><tr><th>21</th><td>8.94901</td></tr><tr><th>22</th><td>10.5021</td></tr><tr><th>23</th><td>9.78375</td></tr><tr><th>24</th><td>9.29358</td></tr><tr><th>25</th><td>5.66253</td></tr><tr><th>26</th><td>10.5698</td></tr><tr><th>27</th><td>8.57794</td></tr><tr><th>28</th><td>9.6276</td></tr><tr><th>29</th><td>10.369</td></tr><tr><th>30</th><td>9.99239</td></tr><tr><th>&vellip;</th><td>&vellip;</td></tr></tbody></table></div>"
      ],
      "text/latex": [
       "\\begin{tabular}{r|c}\n",
       "\t& x1\\\\\n",
       "\t\\hline\n",
       "\t& Float64\\\\\n",
       "\t\\hline\n",
       "\t1 & 9.44397 \\\\\n",
       "\t2 & 9.55562 \\\\\n",
       "\t3 & 10.0272 \\\\\n",
       "\t4 & 9.70052 \\\\\n",
       "\t5 & 11.7779 \\\\\n",
       "\t6 & 8.8551 \\\\\n",
       "\t7 & 9.53139 \\\\\n",
       "\t8 & 10.1561 \\\\\n",
       "\t9 & 7.35801 \\\\\n",
       "\t10 & 11.0033 \\\\\n",
       "\t11 & 11.0824 \\\\\n",
       "\t12 & 10.187 \\\\\n",
       "\t13 & 10.5181 \\\\\n",
       "\t14 & 11.4914 \\\\\n",
       "\t15 & 10.3676 \\\\\n",
       "\t16 & 9.11379 \\\\\n",
       "\t17 & 10.6846 \\\\\n",
       "\t18 & 8.40942 \\\\\n",
       "\t19 & 10.4107 \\\\\n",
       "\t20 & 9.14365 \\\\\n",
       "\t21 & 8.94901 \\\\\n",
       "\t22 & 10.5021 \\\\\n",
       "\t23 & 9.78375 \\\\\n",
       "\t24 & 9.29358 \\\\\n",
       "\t25 & 5.66253 \\\\\n",
       "\t26 & 10.5698 \\\\\n",
       "\t27 & 8.57794 \\\\\n",
       "\t28 & 9.6276 \\\\\n",
       "\t29 & 10.369 \\\\\n",
       "\t30 & 9.99239 \\\\\n",
       "\t$\\dots$ & $\\dots$ \\\\\n",
       "\\end{tabular}\n"
      ],
      "text/plain": [
       "\u001b[1m100×1 DataFrame\u001b[0m\n",
       "\u001b[1m Row \u001b[0m│\u001b[1m x1       \u001b[0m\n",
       "\u001b[1m     \u001b[0m│\u001b[90m Float64  \u001b[0m\n",
       "─────┼──────────\n",
       "   1 │  9.44397\n",
       "   2 │  9.55562\n",
       "   3 │ 10.0272\n",
       "   4 │  9.70052\n",
       "   5 │ 11.7779\n",
       "   6 │  8.8551\n",
       "   7 │  9.53139\n",
       "   8 │ 10.1561\n",
       "   9 │  7.35801\n",
       "  10 │ 11.0033\n",
       "  11 │ 11.0824\n",
       "  ⋮  │    ⋮\n",
       "  91 │ 10.1375\n",
       "  92 │ 13.1496\n",
       "  93 │  9.27859\n",
       "  94 │  9.42291\n",
       "  95 │ 10.4594\n",
       "  96 │ 10.2472\n",
       "  97 │  9.97434\n",
       "  98 │  9.36792\n",
       "  99 │  8.97958\n",
       " 100 │  8.68849\n",
       "\u001b[36m 79 rows omitted\u001b[0m"
      ]
     },
     "execution_count": 8,
     "metadata": {},
     "output_type": "execute_result"
    }
   ],
   "source": [
    "# access x1 column dataframe\n",
    "df[:,[:x1]]"
   ]
  },
  {
   "cell_type": "code",
   "execution_count": 9,
   "id": "ed3de008",
   "metadata": {},
   "outputs": [
    {
     "data": {
      "text/html": [
       "<div class=\"data-frame\"><p>100 rows × 2 columns</p><table class=\"data-frame\"><thead><tr><th></th><th>x1</th><th>x2</th></tr><tr><th></th><th title=\"Float64\">Float64</th><th title=\"String\">String</th></tr></thead><tbody><tr><th>1</th><td>9.44397</td><td>Best</td></tr><tr><th>2</th><td>9.55562</td><td>Good</td></tr><tr><th>3</th><td>10.0272</td><td>Better</td></tr><tr><th>4</th><td>9.70052</td><td>Better</td></tr><tr><th>5</th><td>11.7779</td><td>Good</td></tr><tr><th>6</th><td>8.8551</td><td>Better</td></tr><tr><th>7</th><td>9.53139</td><td>Best</td></tr><tr><th>8</th><td>10.1561</td><td>Good</td></tr><tr><th>9</th><td>7.35801</td><td>Better</td></tr><tr><th>10</th><td>11.0033</td><td>Better</td></tr><tr><th>11</th><td>11.0824</td><td>Good</td></tr><tr><th>12</th><td>10.187</td><td>Best</td></tr><tr><th>13</th><td>10.5181</td><td>Best</td></tr><tr><th>14</th><td>11.4914</td><td>Best</td></tr><tr><th>15</th><td>10.3676</td><td>Better</td></tr><tr><th>16</th><td>9.11379</td><td>Best</td></tr><tr><th>17</th><td>10.6846</td><td>Best</td></tr><tr><th>18</th><td>8.40942</td><td>Better</td></tr><tr><th>19</th><td>10.4107</td><td>Better</td></tr><tr><th>20</th><td>9.14365</td><td>Best</td></tr><tr><th>21</th><td>8.94901</td><td>Better</td></tr><tr><th>22</th><td>10.5021</td><td>Good</td></tr><tr><th>23</th><td>9.78375</td><td>Good</td></tr><tr><th>24</th><td>9.29358</td><td>Best</td></tr><tr><th>25</th><td>5.66253</td><td>Best</td></tr><tr><th>26</th><td>10.5698</td><td>Better</td></tr><tr><th>27</th><td>8.57794</td><td>Better</td></tr><tr><th>28</th><td>9.6276</td><td>Better</td></tr><tr><th>29</th><td>10.369</td><td>Better</td></tr><tr><th>30</th><td>9.99239</td><td>Better</td></tr><tr><th>&vellip;</th><td>&vellip;</td><td>&vellip;</td></tr></tbody></table></div>"
      ],
      "text/latex": [
       "\\begin{tabular}{r|cc}\n",
       "\t& x1 & x2\\\\\n",
       "\t\\hline\n",
       "\t& Float64 & String\\\\\n",
       "\t\\hline\n",
       "\t1 & 9.44397 & Best \\\\\n",
       "\t2 & 9.55562 & Good \\\\\n",
       "\t3 & 10.0272 & Better \\\\\n",
       "\t4 & 9.70052 & Better \\\\\n",
       "\t5 & 11.7779 & Good \\\\\n",
       "\t6 & 8.8551 & Better \\\\\n",
       "\t7 & 9.53139 & Best \\\\\n",
       "\t8 & 10.1561 & Good \\\\\n",
       "\t9 & 7.35801 & Better \\\\\n",
       "\t10 & 11.0033 & Better \\\\\n",
       "\t11 & 11.0824 & Good \\\\\n",
       "\t12 & 10.187 & Best \\\\\n",
       "\t13 & 10.5181 & Best \\\\\n",
       "\t14 & 11.4914 & Best \\\\\n",
       "\t15 & 10.3676 & Better \\\\\n",
       "\t16 & 9.11379 & Best \\\\\n",
       "\t17 & 10.6846 & Best \\\\\n",
       "\t18 & 8.40942 & Better \\\\\n",
       "\t19 & 10.4107 & Better \\\\\n",
       "\t20 & 9.14365 & Best \\\\\n",
       "\t21 & 8.94901 & Better \\\\\n",
       "\t22 & 10.5021 & Good \\\\\n",
       "\t23 & 9.78375 & Good \\\\\n",
       "\t24 & 9.29358 & Best \\\\\n",
       "\t25 & 5.66253 & Best \\\\\n",
       "\t26 & 10.5698 & Better \\\\\n",
       "\t27 & 8.57794 & Better \\\\\n",
       "\t28 & 9.6276 & Better \\\\\n",
       "\t29 & 10.369 & Better \\\\\n",
       "\t30 & 9.99239 & Better \\\\\n",
       "\t$\\dots$ & $\\dots$ & $\\dots$ \\\\\n",
       "\\end{tabular}\n"
      ],
      "text/plain": [
       "\u001b[1m100×2 DataFrame\u001b[0m\n",
       "\u001b[1m Row \u001b[0m│\u001b[1m x1       \u001b[0m\u001b[1m x2     \u001b[0m\n",
       "\u001b[1m     \u001b[0m│\u001b[90m Float64  \u001b[0m\u001b[90m String \u001b[0m\n",
       "─────┼──────────────────\n",
       "   1 │  9.44397  Best\n",
       "   2 │  9.55562  Good\n",
       "   3 │ 10.0272   Better\n",
       "   4 │  9.70052  Better\n",
       "   5 │ 11.7779   Good\n",
       "   6 │  8.8551   Better\n",
       "   7 │  9.53139  Best\n",
       "   8 │ 10.1561   Good\n",
       "   9 │  7.35801  Better\n",
       "  10 │ 11.0033   Better\n",
       "  11 │ 11.0824   Good\n",
       "  ⋮  │    ⋮        ⋮\n",
       "  91 │ 10.1375   Better\n",
       "  92 │ 13.1496   Better\n",
       "  93 │  9.27859  Better\n",
       "  94 │  9.42291  Better\n",
       "  95 │ 10.4594   Best\n",
       "  96 │ 10.2472   Good\n",
       "  97 │  9.97434  Best\n",
       "  98 │  9.36792  Better\n",
       "  99 │  8.97958  Better\n",
       " 100 │  8.68849  Best\n",
       "\u001b[36m         79 rows omitted\u001b[0m"
      ]
     },
     "execution_count": 9,
     "metadata": {},
     "output_type": "execute_result"
    }
   ],
   "source": [
    "# access column x1 and x2\n",
    "df[:, [:x1, :x2]]"
   ]
  },
  {
   "cell_type": "markdown",
   "id": "d415c4d5",
   "metadata": {},
   "source": [
    "### Access Dataframe Rows and Columns"
   ]
  },
  {
   "cell_type": "code",
   "execution_count": 10,
   "id": "62bbb30c",
   "metadata": {},
   "outputs": [
    {
     "data": {
      "text/html": [
       "<div class=\"data-frame\"><p>2 rows × 2 columns</p><table class=\"data-frame\"><thead><tr><th></th><th>x1</th><th>x2</th></tr><tr><th></th><th title=\"Float64\">Float64</th><th title=\"String\">String</th></tr></thead><tbody><tr><th>1</th><td>9.44397</td><td>Best</td></tr><tr><th>2</th><td>9.55562</td><td>Good</td></tr></tbody></table></div>"
      ],
      "text/latex": [
       "\\begin{tabular}{r|cc}\n",
       "\t& x1 & x2\\\\\n",
       "\t\\hline\n",
       "\t& Float64 & String\\\\\n",
       "\t\\hline\n",
       "\t1 & 9.44397 & Best \\\\\n",
       "\t2 & 9.55562 & Good \\\\\n",
       "\\end{tabular}\n"
      ],
      "text/plain": [
       "\u001b[1m2×2 DataFrame\u001b[0m\n",
       "\u001b[1m Row \u001b[0m│\u001b[1m x1      \u001b[0m\u001b[1m x2     \u001b[0m\n",
       "\u001b[1m     \u001b[0m│\u001b[90m Float64 \u001b[0m\u001b[90m String \u001b[0m\n",
       "─────┼─────────────────\n",
       "   1 │ 9.44397  Best\n",
       "   2 │ 9.55562  Good"
      ]
     },
     "execution_count": 10,
     "metadata": {},
     "output_type": "execute_result"
    }
   ],
   "source": [
    "# slicing dataframe by indeces\n",
    "df[1:2, 1:2]"
   ]
  },
  {
   "cell_type": "code",
   "execution_count": 11,
   "id": "596b5358",
   "metadata": {},
   "outputs": [
    {
     "data": {
      "text/html": [
       "<div class=\"data-frame\"><p>2 rows × 2 columns</p><table class=\"data-frame\"><thead><tr><th></th><th>x1</th><th>x2</th></tr><tr><th></th><th title=\"Float64\">Float64</th><th title=\"String\">String</th></tr></thead><tbody><tr><th>1</th><td>9.44397</td><td>Best</td></tr><tr><th>2</th><td>9.55562</td><td>Good</td></tr></tbody></table></div>"
      ],
      "text/latex": [
       "\\begin{tabular}{r|cc}\n",
       "\t& x1 & x2\\\\\n",
       "\t\\hline\n",
       "\t& Float64 & String\\\\\n",
       "\t\\hline\n",
       "\t1 & 9.44397 & Best \\\\\n",
       "\t2 & 9.55562 & Good \\\\\n",
       "\\end{tabular}\n"
      ],
      "text/plain": [
       "\u001b[1m2×2 DataFrame\u001b[0m\n",
       "\u001b[1m Row \u001b[0m│\u001b[1m x1      \u001b[0m\u001b[1m x2     \u001b[0m\n",
       "\u001b[1m     \u001b[0m│\u001b[90m Float64 \u001b[0m\u001b[90m String \u001b[0m\n",
       "─────┼─────────────────\n",
       "   1 │ 9.44397  Best\n",
       "   2 │ 9.55562  Good"
      ]
     },
     "execution_count": 11,
     "metadata": {},
     "output_type": "execute_result"
    }
   ],
   "source": [
    "# slicing dataframe by column names\n",
    "df[1:2, [:x1, :x2]]"
   ]
  },
  {
   "cell_type": "code",
   "execution_count": 12,
   "id": "3031b629",
   "metadata": {},
   "outputs": [
    {
     "data": {
      "text/html": [
       "<div class=\"data-frame\"><p>51 rows × 3 columns</p><table class=\"data-frame\"><thead><tr><th></th><th>x1</th><th>x2</th><th>x3</th></tr><tr><th></th><th title=\"Float64\">Float64</th><th title=\"String\">String</th><th title=\"Float64\">Float64</th></tr></thead><tbody><tr><th>1</th><td>10.0272</td><td>Better</td><td>1.14102</td></tr><tr><th>2</th><td>9.70052</td><td>Better</td><td>1.13922</td></tr><tr><th>3</th><td>8.8551</td><td>Better</td><td>1.04502</td></tr><tr><th>4</th><td>7.35801</td><td>Better</td><td>1.098</td></tr><tr><th>5</th><td>11.0033</td><td>Better</td><td>1.05128</td></tr><tr><th>6</th><td>10.3676</td><td>Better</td><td>1.02916</td></tr><tr><th>7</th><td>8.40942</td><td>Better</td><td>1.03214</td></tr><tr><th>8</th><td>10.4107</td><td>Better</td><td>1.02553</td></tr><tr><th>9</th><td>8.94901</td><td>Better</td><td>1.02335</td></tr><tr><th>10</th><td>10.5698</td><td>Better</td><td>1.04113</td></tr><tr><th>11</th><td>8.57794</td><td>Better</td><td>1.06142</td></tr><tr><th>12</th><td>9.6276</td><td>Better</td><td>1.01094</td></tr><tr><th>13</th><td>10.369</td><td>Better</td><td>1.13076</td></tr><tr><th>14</th><td>9.99239</td><td>Better</td><td>1.00425</td></tr><tr><th>15</th><td>10.5627</td><td>Better</td><td>1.01311</td></tr><tr><th>16</th><td>10.1069</td><td>Better</td><td>1.27565</td></tr><tr><th>17</th><td>10.6811</td><td>Better</td><td>1.19275</td></tr><tr><th>18</th><td>10.7018</td><td>Better</td><td>1.01846</td></tr><tr><th>19</th><td>9.85479</td><td>Better</td><td>1.11623</td></tr><tr><th>20</th><td>10.6429</td><td>Better</td><td>1.01606</td></tr><tr><th>21</th><td>10.7566</td><td>Better</td><td>1.08412</td></tr><tr><th>22</th><td>9.14881</td><td>Better</td><td>1.04892</td></tr><tr><th>23</th><td>11.6121</td><td>Better</td><td>1.22176</td></tr><tr><th>24</th><td>8.64836</td><td>Better</td><td>1.47418</td></tr><tr><th>25</th><td>9.54202</td><td>Better</td><td>1.02256</td></tr><tr><th>26</th><td>9.63126</td><td>Better</td><td>1.09915</td></tr><tr><th>27</th><td>10.2394</td><td>Better</td><td>1.05604</td></tr><tr><th>28</th><td>9.80487</td><td>Better</td><td>1.00327</td></tr><tr><th>29</th><td>8.34943</td><td>Better</td><td>1.10682</td></tr><tr><th>30</th><td>10.0273</td><td>Better</td><td>1.08163</td></tr><tr><th>&vellip;</th><td>&vellip;</td><td>&vellip;</td><td>&vellip;</td></tr></tbody></table></div>"
      ],
      "text/latex": [
       "\\begin{tabular}{r|ccc}\n",
       "\t& x1 & x2 & x3\\\\\n",
       "\t\\hline\n",
       "\t& Float64 & String & Float64\\\\\n",
       "\t\\hline\n",
       "\t1 & 10.0272 & Better & 1.14102 \\\\\n",
       "\t2 & 9.70052 & Better & 1.13922 \\\\\n",
       "\t3 & 8.8551 & Better & 1.04502 \\\\\n",
       "\t4 & 7.35801 & Better & 1.098 \\\\\n",
       "\t5 & 11.0033 & Better & 1.05128 \\\\\n",
       "\t6 & 10.3676 & Better & 1.02916 \\\\\n",
       "\t7 & 8.40942 & Better & 1.03214 \\\\\n",
       "\t8 & 10.4107 & Better & 1.02553 \\\\\n",
       "\t9 & 8.94901 & Better & 1.02335 \\\\\n",
       "\t10 & 10.5698 & Better & 1.04113 \\\\\n",
       "\t11 & 8.57794 & Better & 1.06142 \\\\\n",
       "\t12 & 9.6276 & Better & 1.01094 \\\\\n",
       "\t13 & 10.369 & Better & 1.13076 \\\\\n",
       "\t14 & 9.99239 & Better & 1.00425 \\\\\n",
       "\t15 & 10.5627 & Better & 1.01311 \\\\\n",
       "\t16 & 10.1069 & Better & 1.27565 \\\\\n",
       "\t17 & 10.6811 & Better & 1.19275 \\\\\n",
       "\t18 & 10.7018 & Better & 1.01846 \\\\\n",
       "\t19 & 9.85479 & Better & 1.11623 \\\\\n",
       "\t20 & 10.6429 & Better & 1.01606 \\\\\n",
       "\t21 & 10.7566 & Better & 1.08412 \\\\\n",
       "\t22 & 9.14881 & Better & 1.04892 \\\\\n",
       "\t23 & 11.6121 & Better & 1.22176 \\\\\n",
       "\t24 & 8.64836 & Better & 1.47418 \\\\\n",
       "\t25 & 9.54202 & Better & 1.02256 \\\\\n",
       "\t26 & 9.63126 & Better & 1.09915 \\\\\n",
       "\t27 & 10.2394 & Better & 1.05604 \\\\\n",
       "\t28 & 9.80487 & Better & 1.00327 \\\\\n",
       "\t29 & 8.34943 & Better & 1.10682 \\\\\n",
       "\t30 & 10.0273 & Better & 1.08163 \\\\\n",
       "\t$\\dots$ & $\\dots$ & $\\dots$ & $\\dots$ \\\\\n",
       "\\end{tabular}\n"
      ],
      "text/plain": [
       "\u001b[1m51×3 DataFrame\u001b[0m\n",
       "\u001b[1m Row \u001b[0m│\u001b[1m x1       \u001b[0m\u001b[1m x2     \u001b[0m\u001b[1m x3      \u001b[0m\n",
       "\u001b[1m     \u001b[0m│\u001b[90m Float64  \u001b[0m\u001b[90m String \u001b[0m\u001b[90m Float64 \u001b[0m\n",
       "─────┼───────────────────────────\n",
       "   1 │ 10.0272   Better  1.14102\n",
       "   2 │  9.70052  Better  1.13922\n",
       "   3 │  8.8551   Better  1.04502\n",
       "   4 │  7.35801  Better  1.098\n",
       "   5 │ 11.0033   Better  1.05128\n",
       "   6 │ 10.3676   Better  1.02916\n",
       "   7 │  8.40942  Better  1.03214\n",
       "   8 │ 10.4107   Better  1.02553\n",
       "   9 │  8.94901  Better  1.02335\n",
       "  10 │ 10.5698   Better  1.04113\n",
       "  11 │  8.57794  Better  1.06142\n",
       "  ⋮  │    ⋮        ⋮        ⋮\n",
       "  42 │  8.55112  Better  1.01471\n",
       "  43 │ 10.317    Better  1.01046\n",
       "  44 │ 10.2763   Better  1.01972\n",
       "  45 │  8.37438  Better  1.0104\n",
       "  46 │ 10.1375   Better  1.21954\n",
       "  47 │ 13.1496   Better  1.01555\n",
       "  48 │  9.27859  Better  1.07816\n",
       "  49 │  9.42291  Better  1.07689\n",
       "  50 │  9.36792  Better  1.14067\n",
       "  51 │  8.97958  Better  1.18326\n",
       "\u001b[36m                  30 rows omitted\u001b[0m"
      ]
     },
     "execution_count": 12,
     "metadata": {},
     "output_type": "execute_result"
    }
   ],
   "source": [
    "# select only x2 == \"Better\"\n",
    "mask = [df[i,:x2] == \"Better\" for i=1:nrow(df)]\n",
    "df[mask, :]"
   ]
  },
  {
   "cell_type": "code",
   "execution_count": 13,
   "id": "be6a0a50",
   "metadata": {},
   "outputs": [
    {
     "data": {
      "text/html": [
       "<div class=\"data-frame\"><p>51 rows × 3 columns</p><table class=\"data-frame\"><thead><tr><th></th><th>x1</th><th>x2</th><th>x3</th></tr><tr><th></th><th title=\"Float64\">Float64</th><th title=\"String\">String</th><th title=\"Float64\">Float64</th></tr></thead><tbody><tr><th>1</th><td>10.0272</td><td>Better</td><td>1.14102</td></tr><tr><th>2</th><td>9.70052</td><td>Better</td><td>1.13922</td></tr><tr><th>3</th><td>8.8551</td><td>Better</td><td>1.04502</td></tr><tr><th>4</th><td>7.35801</td><td>Better</td><td>1.098</td></tr><tr><th>5</th><td>11.0033</td><td>Better</td><td>1.05128</td></tr><tr><th>6</th><td>10.3676</td><td>Better</td><td>1.02916</td></tr><tr><th>7</th><td>8.40942</td><td>Better</td><td>1.03214</td></tr><tr><th>8</th><td>10.4107</td><td>Better</td><td>1.02553</td></tr><tr><th>9</th><td>8.94901</td><td>Better</td><td>1.02335</td></tr><tr><th>10</th><td>10.5698</td><td>Better</td><td>1.04113</td></tr><tr><th>11</th><td>8.57794</td><td>Better</td><td>1.06142</td></tr><tr><th>12</th><td>9.6276</td><td>Better</td><td>1.01094</td></tr><tr><th>13</th><td>10.369</td><td>Better</td><td>1.13076</td></tr><tr><th>14</th><td>9.99239</td><td>Better</td><td>1.00425</td></tr><tr><th>15</th><td>10.5627</td><td>Better</td><td>1.01311</td></tr><tr><th>16</th><td>10.1069</td><td>Better</td><td>1.27565</td></tr><tr><th>17</th><td>10.6811</td><td>Better</td><td>1.19275</td></tr><tr><th>18</th><td>10.7018</td><td>Better</td><td>1.01846</td></tr><tr><th>19</th><td>9.85479</td><td>Better</td><td>1.11623</td></tr><tr><th>20</th><td>10.6429</td><td>Better</td><td>1.01606</td></tr><tr><th>21</th><td>10.7566</td><td>Better</td><td>1.08412</td></tr><tr><th>22</th><td>9.14881</td><td>Better</td><td>1.04892</td></tr><tr><th>23</th><td>11.6121</td><td>Better</td><td>1.22176</td></tr><tr><th>24</th><td>8.64836</td><td>Better</td><td>1.47418</td></tr><tr><th>25</th><td>9.54202</td><td>Better</td><td>1.02256</td></tr><tr><th>26</th><td>9.63126</td><td>Better</td><td>1.09915</td></tr><tr><th>27</th><td>10.2394</td><td>Better</td><td>1.05604</td></tr><tr><th>28</th><td>9.80487</td><td>Better</td><td>1.00327</td></tr><tr><th>29</th><td>8.34943</td><td>Better</td><td>1.10682</td></tr><tr><th>30</th><td>10.0273</td><td>Better</td><td>1.08163</td></tr><tr><th>&vellip;</th><td>&vellip;</td><td>&vellip;</td><td>&vellip;</td></tr></tbody></table></div>"
      ],
      "text/latex": [
       "\\begin{tabular}{r|ccc}\n",
       "\t& x1 & x2 & x3\\\\\n",
       "\t\\hline\n",
       "\t& Float64 & String & Float64\\\\\n",
       "\t\\hline\n",
       "\t1 & 10.0272 & Better & 1.14102 \\\\\n",
       "\t2 & 9.70052 & Better & 1.13922 \\\\\n",
       "\t3 & 8.8551 & Better & 1.04502 \\\\\n",
       "\t4 & 7.35801 & Better & 1.098 \\\\\n",
       "\t5 & 11.0033 & Better & 1.05128 \\\\\n",
       "\t6 & 10.3676 & Better & 1.02916 \\\\\n",
       "\t7 & 8.40942 & Better & 1.03214 \\\\\n",
       "\t8 & 10.4107 & Better & 1.02553 \\\\\n",
       "\t9 & 8.94901 & Better & 1.02335 \\\\\n",
       "\t10 & 10.5698 & Better & 1.04113 \\\\\n",
       "\t11 & 8.57794 & Better & 1.06142 \\\\\n",
       "\t12 & 9.6276 & Better & 1.01094 \\\\\n",
       "\t13 & 10.369 & Better & 1.13076 \\\\\n",
       "\t14 & 9.99239 & Better & 1.00425 \\\\\n",
       "\t15 & 10.5627 & Better & 1.01311 \\\\\n",
       "\t16 & 10.1069 & Better & 1.27565 \\\\\n",
       "\t17 & 10.6811 & Better & 1.19275 \\\\\n",
       "\t18 & 10.7018 & Better & 1.01846 \\\\\n",
       "\t19 & 9.85479 & Better & 1.11623 \\\\\n",
       "\t20 & 10.6429 & Better & 1.01606 \\\\\n",
       "\t21 & 10.7566 & Better & 1.08412 \\\\\n",
       "\t22 & 9.14881 & Better & 1.04892 \\\\\n",
       "\t23 & 11.6121 & Better & 1.22176 \\\\\n",
       "\t24 & 8.64836 & Better & 1.47418 \\\\\n",
       "\t25 & 9.54202 & Better & 1.02256 \\\\\n",
       "\t26 & 9.63126 & Better & 1.09915 \\\\\n",
       "\t27 & 10.2394 & Better & 1.05604 \\\\\n",
       "\t28 & 9.80487 & Better & 1.00327 \\\\\n",
       "\t29 & 8.34943 & Better & 1.10682 \\\\\n",
       "\t30 & 10.0273 & Better & 1.08163 \\\\\n",
       "\t$\\dots$ & $\\dots$ & $\\dots$ & $\\dots$ \\\\\n",
       "\\end{tabular}\n"
      ],
      "text/plain": [
       "\u001b[1m51×3 DataFrame\u001b[0m\n",
       "\u001b[1m Row \u001b[0m│\u001b[1m x1       \u001b[0m\u001b[1m x2     \u001b[0m\u001b[1m x3      \u001b[0m\n",
       "\u001b[1m     \u001b[0m│\u001b[90m Float64  \u001b[0m\u001b[90m String \u001b[0m\u001b[90m Float64 \u001b[0m\n",
       "─────┼───────────────────────────\n",
       "   1 │ 10.0272   Better  1.14102\n",
       "   2 │  9.70052  Better  1.13922\n",
       "   3 │  8.8551   Better  1.04502\n",
       "   4 │  7.35801  Better  1.098\n",
       "   5 │ 11.0033   Better  1.05128\n",
       "   6 │ 10.3676   Better  1.02916\n",
       "   7 │  8.40942  Better  1.03214\n",
       "   8 │ 10.4107   Better  1.02553\n",
       "   9 │  8.94901  Better  1.02335\n",
       "  10 │ 10.5698   Better  1.04113\n",
       "  11 │  8.57794  Better  1.06142\n",
       "  ⋮  │    ⋮        ⋮        ⋮\n",
       "  42 │  8.55112  Better  1.01471\n",
       "  43 │ 10.317    Better  1.01046\n",
       "  44 │ 10.2763   Better  1.01972\n",
       "  45 │  8.37438  Better  1.0104\n",
       "  46 │ 10.1375   Better  1.21954\n",
       "  47 │ 13.1496   Better  1.01555\n",
       "  48 │  9.27859  Better  1.07816\n",
       "  49 │  9.42291  Better  1.07689\n",
       "  50 │  9.36792  Better  1.14067\n",
       "  51 │  8.97958  Better  1.18326\n",
       "\u001b[36m                  30 rows omitted\u001b[0m"
      ]
     },
     "execution_count": 13,
     "metadata": {},
     "output_type": "execute_result"
    }
   ],
   "source": [
    "# select only x2 == \"Better\" using bit vector\n",
    "df[df[:, :x2] .== \"Better\", :]"
   ]
  },
  {
   "cell_type": "markdown",
   "id": "8fe47582",
   "metadata": {},
   "source": [
    "## Categorical Data"
   ]
  },
  {
   "cell_type": "code",
   "execution_count": 14,
   "id": "566a17f6",
   "metadata": {},
   "outputs": [
    {
     "data": {
      "text/plain": [
       "100-element Vector{Union{Missing, String}}:\n",
       " \"Better\"\n",
       " missing\n",
       " \"Best\"\n",
       " missing\n",
       " \"Best\"\n",
       " missing\n",
       " \"Better\"\n",
       " missing\n",
       " \"Best\"\n",
       " missing\n",
       " \"Better\"\n",
       " missing\n",
       " \"Better\"\n",
       " ⋮\n",
       " \"Better\"\n",
       " missing\n",
       " \"Good\"\n",
       " missing\n",
       " \"Better\"\n",
       " missing\n",
       " \"Best\"\n",
       " missing\n",
       " \"Best\"\n",
       " missing\n",
       " \"Best\"\n",
       " missing"
      ]
     },
     "execution_count": 14,
     "metadata": {},
     "output_type": "execute_result"
    }
   ],
   "source": [
    "# generate random string vector with missing values\n",
    "arr = [isodd(i) ? \n",
    "    sample([\"Good\", \"Better\", \"Best\"], pweights([0.2, 0.4, 0.3])) : \n",
    "    missing for i = 1:nrow(df)]"
   ]
  },
  {
   "cell_type": "code",
   "execution_count": 15,
   "id": "49d77d95",
   "metadata": {},
   "outputs": [
    {
     "data": {
      "text/plain": [
       "100-element CategoricalArray{Union{Missing, String},1,UInt32}:\n",
       " \"Better\"\n",
       " missing\n",
       " \"Best\"\n",
       " missing\n",
       " \"Best\"\n",
       " missing\n",
       " \"Better\"\n",
       " missing\n",
       " \"Best\"\n",
       " missing\n",
       " \"Better\"\n",
       " missing\n",
       " \"Better\"\n",
       " ⋮\n",
       " \"Better\"\n",
       " missing\n",
       " \"Good\"\n",
       " missing\n",
       " \"Better\"\n",
       " missing\n",
       " \"Best\"\n",
       " missing\n",
       " \"Best\"\n",
       " missing\n",
       " \"Best\"\n",
       " missing"
      ]
     },
     "execution_count": 15,
     "metadata": {},
     "output_type": "execute_result"
    }
   ],
   "source": [
    "# create categorical array\n",
    "carr = categorical(arr)"
   ]
  },
  {
   "cell_type": "code",
   "execution_count": 16,
   "id": "27431ed9",
   "metadata": {},
   "outputs": [
    {
     "data": {
      "text/plain": [
       "3-element Vector{String}:\n",
       " \"Best\"\n",
       " \"Better\"\n",
       " \"Good\""
      ]
     },
     "execution_count": 16,
     "metadata": {},
     "output_type": "execute_result"
    }
   ],
   "source": [
    "levels(carr)"
   ]
  },
  {
   "cell_type": "markdown",
   "id": "018343a2",
   "metadata": {},
   "source": [
    "## Input and Output (I/O)"
   ]
  },
  {
   "cell_type": "markdown",
   "id": "7728192f",
   "metadata": {},
   "source": [
    "### Write CSV"
   ]
  },
  {
   "cell_type": "code",
   "execution_count": 17,
   "id": "fca8bba6",
   "metadata": {},
   "outputs": [
    {
     "data": {
      "text/plain": [
       "\"../data/interim/df.csv\""
      ]
     },
     "execution_count": 17,
     "metadata": {},
     "output_type": "execute_result"
    }
   ],
   "source": [
    "CSV.write(\"../data/interim/df.csv\", df)"
   ]
  },
  {
   "cell_type": "markdown",
   "id": "4397218d",
   "metadata": {},
   "source": [
    "### Read CSV"
   ]
  },
  {
   "cell_type": "code",
   "execution_count": 18,
   "id": "9624adab",
   "metadata": {},
   "outputs": [
    {
     "data": {
      "text/html": [
       "<div class=\"data-frame\"><p>100 rows × 3 columns</p><table class=\"data-frame\"><thead><tr><th></th><th>x1</th><th>x2</th><th>x3</th></tr><tr><th></th><th title=\"Float64\">Float64</th><th title=\"String\">String</th><th title=\"Float64\">Float64</th></tr></thead><tbody><tr><th>1</th><td>9.44397</td><td>Best</td><td>1.13941</td></tr><tr><th>2</th><td>9.55562</td><td>Good</td><td>1.15612</td></tr><tr><th>3</th><td>10.0272</td><td>Better</td><td>1.14102</td></tr><tr><th>4</th><td>9.70052</td><td>Better</td><td>1.13922</td></tr><tr><th>5</th><td>11.7779</td><td>Good</td><td>1.2221</td></tr><tr><th>6</th><td>8.8551</td><td>Better</td><td>1.04502</td></tr><tr><th>7</th><td>9.53139</td><td>Best</td><td>1.15222</td></tr><tr><th>8</th><td>10.1561</td><td>Good</td><td>1.03787</td></tr><tr><th>9</th><td>7.35801</td><td>Better</td><td>1.098</td></tr><tr><th>10</th><td>11.0033</td><td>Better</td><td>1.05128</td></tr><tr><th>11</th><td>11.0824</td><td>Good</td><td>1.03466</td></tr><tr><th>12</th><td>10.187</td><td>Best</td><td>1.00513</td></tr><tr><th>13</th><td>10.5181</td><td>Best</td><td>1.06026</td></tr><tr><th>14</th><td>11.4914</td><td>Best</td><td>1.06416</td></tr><tr><th>15</th><td>10.3676</td><td>Better</td><td>1.02916</td></tr><tr><th>16</th><td>9.11379</td><td>Best</td><td>1.20151</td></tr><tr><th>17</th><td>10.6846</td><td>Best</td><td>1.017</td></tr><tr><th>18</th><td>8.40942</td><td>Better</td><td>1.03214</td></tr><tr><th>19</th><td>10.4107</td><td>Better</td><td>1.02553</td></tr><tr><th>20</th><td>9.14365</td><td>Best</td><td>1.03575</td></tr><tr><th>21</th><td>8.94901</td><td>Better</td><td>1.02335</td></tr><tr><th>22</th><td>10.5021</td><td>Good</td><td>1.15012</td></tr><tr><th>23</th><td>9.78375</td><td>Good</td><td>1.42824</td></tr><tr><th>24</th><td>9.29358</td><td>Best</td><td>1.07795</td></tr><tr><th>25</th><td>5.66253</td><td>Best</td><td>1.00055</td></tr><tr><th>26</th><td>10.5698</td><td>Better</td><td>1.04113</td></tr><tr><th>27</th><td>8.57794</td><td>Better</td><td>1.06142</td></tr><tr><th>28</th><td>9.6276</td><td>Better</td><td>1.01094</td></tr><tr><th>29</th><td>10.369</td><td>Better</td><td>1.13076</td></tr><tr><th>30</th><td>9.99239</td><td>Better</td><td>1.00425</td></tr><tr><th>&vellip;</th><td>&vellip;</td><td>&vellip;</td><td>&vellip;</td></tr></tbody></table></div>"
      ],
      "text/latex": [
       "\\begin{tabular}{r|ccc}\n",
       "\t& x1 & x2 & x3\\\\\n",
       "\t\\hline\n",
       "\t& Float64 & String & Float64\\\\\n",
       "\t\\hline\n",
       "\t1 & 9.44397 & Best & 1.13941 \\\\\n",
       "\t2 & 9.55562 & Good & 1.15612 \\\\\n",
       "\t3 & 10.0272 & Better & 1.14102 \\\\\n",
       "\t4 & 9.70052 & Better & 1.13922 \\\\\n",
       "\t5 & 11.7779 & Good & 1.2221 \\\\\n",
       "\t6 & 8.8551 & Better & 1.04502 \\\\\n",
       "\t7 & 9.53139 & Best & 1.15222 \\\\\n",
       "\t8 & 10.1561 & Good & 1.03787 \\\\\n",
       "\t9 & 7.35801 & Better & 1.098 \\\\\n",
       "\t10 & 11.0033 & Better & 1.05128 \\\\\n",
       "\t11 & 11.0824 & Good & 1.03466 \\\\\n",
       "\t12 & 10.187 & Best & 1.00513 \\\\\n",
       "\t13 & 10.5181 & Best & 1.06026 \\\\\n",
       "\t14 & 11.4914 & Best & 1.06416 \\\\\n",
       "\t15 & 10.3676 & Better & 1.02916 \\\\\n",
       "\t16 & 9.11379 & Best & 1.20151 \\\\\n",
       "\t17 & 10.6846 & Best & 1.017 \\\\\n",
       "\t18 & 8.40942 & Better & 1.03214 \\\\\n",
       "\t19 & 10.4107 & Better & 1.02553 \\\\\n",
       "\t20 & 9.14365 & Best & 1.03575 \\\\\n",
       "\t21 & 8.94901 & Better & 1.02335 \\\\\n",
       "\t22 & 10.5021 & Good & 1.15012 \\\\\n",
       "\t23 & 9.78375 & Good & 1.42824 \\\\\n",
       "\t24 & 9.29358 & Best & 1.07795 \\\\\n",
       "\t25 & 5.66253 & Best & 1.00055 \\\\\n",
       "\t26 & 10.5698 & Better & 1.04113 \\\\\n",
       "\t27 & 8.57794 & Better & 1.06142 \\\\\n",
       "\t28 & 9.6276 & Better & 1.01094 \\\\\n",
       "\t29 & 10.369 & Better & 1.13076 \\\\\n",
       "\t30 & 9.99239 & Better & 1.00425 \\\\\n",
       "\t$\\dots$ & $\\dots$ & $\\dots$ & $\\dots$ \\\\\n",
       "\\end{tabular}\n"
      ],
      "text/plain": [
       "\u001b[1m100×3 DataFrame\u001b[0m\n",
       "\u001b[1m Row \u001b[0m│\u001b[1m x1       \u001b[0m\u001b[1m x2     \u001b[0m\u001b[1m x3      \u001b[0m\n",
       "\u001b[1m     \u001b[0m│\u001b[90m Float64  \u001b[0m\u001b[90m String \u001b[0m\u001b[90m Float64 \u001b[0m\n",
       "─────┼───────────────────────────\n",
       "   1 │  9.44397  Best    1.13941\n",
       "   2 │  9.55562  Good    1.15612\n",
       "   3 │ 10.0272   Better  1.14102\n",
       "   4 │  9.70052  Better  1.13922\n",
       "   5 │ 11.7779   Good    1.2221\n",
       "   6 │  8.8551   Better  1.04502\n",
       "   7 │  9.53139  Best    1.15222\n",
       "   8 │ 10.1561   Good    1.03787\n",
       "   9 │  7.35801  Better  1.098\n",
       "  10 │ 11.0033   Better  1.05128\n",
       "  11 │ 11.0824   Good    1.03466\n",
       "  ⋮  │    ⋮        ⋮        ⋮\n",
       "  91 │ 10.1375   Better  1.21954\n",
       "  92 │ 13.1496   Better  1.01555\n",
       "  93 │  9.27859  Better  1.07816\n",
       "  94 │  9.42291  Better  1.07689\n",
       "  95 │ 10.4594   Best    1.72336\n",
       "  96 │ 10.2472   Good    1.0601\n",
       "  97 │  9.97434  Best    1.13788\n",
       "  98 │  9.36792  Better  1.14067\n",
       "  99 │  8.97958  Better  1.18326\n",
       " 100 │  8.68849  Best    1.11812\n",
       "\u001b[36m                  79 rows omitted\u001b[0m"
      ]
     },
     "execution_count": 18,
     "metadata": {},
     "output_type": "execute_result"
    }
   ],
   "source": [
    "CSV.read(\"../data/interim/df.csv\", DataFrame)"
   ]
  },
  {
   "cell_type": "markdown",
   "id": "ab24002e",
   "metadata": {},
   "source": [
    "## Dataframe Functions"
   ]
  },
  {
   "cell_type": "code",
   "execution_count": 19,
   "id": "90edf1f7",
   "metadata": {},
   "outputs": [
    {
     "data": {
      "text/plain": [
       "(100, 3)"
      ]
     },
     "execution_count": 19,
     "metadata": {},
     "output_type": "execute_result"
    }
   ],
   "source": [
    "# obtain dataframe dimensions\n",
    "size(df)"
   ]
  },
  {
   "cell_type": "code",
   "execution_count": 20,
   "id": "ad2f643c",
   "metadata": {},
   "outputs": [
    {
     "data": {
      "text/plain": [
       "100"
      ]
     },
     "execution_count": 20,
     "metadata": {},
     "output_type": "execute_result"
    }
   ],
   "source": [
    "# obtain dataframe row number\n",
    "nrow(df)"
   ]
  },
  {
   "cell_type": "code",
   "execution_count": 21,
   "id": "43015a1c",
   "metadata": {},
   "outputs": [
    {
     "data": {
      "text/plain": [
       "3"
      ]
     },
     "execution_count": 21,
     "metadata": {},
     "output_type": "execute_result"
    }
   ],
   "source": [
    "# obtain dataframe column number\n",
    "ncol(df)"
   ]
  },
  {
   "cell_type": "code",
   "execution_count": 22,
   "id": "37a63d05",
   "metadata": {},
   "outputs": [
    {
     "data": {
      "text/html": [
       "<div class=\"data-frame\"><p>5 rows × 3 columns</p><table class=\"data-frame\"><thead><tr><th></th><th>x1</th><th>x2</th><th>x3</th></tr><tr><th></th><th title=\"Float64\">Float64</th><th title=\"String\">String</th><th title=\"Float64\">Float64</th></tr></thead><tbody><tr><th>1</th><td>9.44397</td><td>Best</td><td>1.13941</td></tr><tr><th>2</th><td>9.55562</td><td>Good</td><td>1.15612</td></tr><tr><th>3</th><td>10.0272</td><td>Better</td><td>1.14102</td></tr><tr><th>4</th><td>9.70052</td><td>Better</td><td>1.13922</td></tr><tr><th>5</th><td>11.7779</td><td>Good</td><td>1.2221</td></tr></tbody></table></div>"
      ],
      "text/latex": [
       "\\begin{tabular}{r|ccc}\n",
       "\t& x1 & x2 & x3\\\\\n",
       "\t\\hline\n",
       "\t& Float64 & String & Float64\\\\\n",
       "\t\\hline\n",
       "\t1 & 9.44397 & Best & 1.13941 \\\\\n",
       "\t2 & 9.55562 & Good & 1.15612 \\\\\n",
       "\t3 & 10.0272 & Better & 1.14102 \\\\\n",
       "\t4 & 9.70052 & Better & 1.13922 \\\\\n",
       "\t5 & 11.7779 & Good & 1.2221 \\\\\n",
       "\\end{tabular}\n"
      ],
      "text/plain": [
       "\u001b[1m5×3 DataFrame\u001b[0m\n",
       "\u001b[1m Row \u001b[0m│\u001b[1m x1       \u001b[0m\u001b[1m x2     \u001b[0m\u001b[1m x3      \u001b[0m\n",
       "\u001b[1m     \u001b[0m│\u001b[90m Float64  \u001b[0m\u001b[90m String \u001b[0m\u001b[90m Float64 \u001b[0m\n",
       "─────┼───────────────────────────\n",
       "   1 │  9.44397  Best    1.13941\n",
       "   2 │  9.55562  Good    1.15612\n",
       "   3 │ 10.0272   Better  1.14102\n",
       "   4 │  9.70052  Better  1.13922\n",
       "   5 │ 11.7779   Good    1.2221"
      ]
     },
     "execution_count": 22,
     "metadata": {},
     "output_type": "execute_result"
    }
   ],
   "source": [
    "# access first 5 rows\n",
    "first(df, 5)"
   ]
  },
  {
   "cell_type": "code",
   "execution_count": 23,
   "id": "2aba7d83",
   "metadata": {},
   "outputs": [
    {
     "data": {
      "text/html": [
       "<div class=\"data-frame\"><p>5 rows × 3 columns</p><table class=\"data-frame\"><thead><tr><th></th><th>x1</th><th>x2</th><th>x3</th></tr><tr><th></th><th title=\"Float64\">Float64</th><th title=\"String\">String</th><th title=\"Float64\">Float64</th></tr></thead><tbody><tr><th>1</th><td>10.2472</td><td>Good</td><td>1.0601</td></tr><tr><th>2</th><td>9.97434</td><td>Best</td><td>1.13788</td></tr><tr><th>3</th><td>9.36792</td><td>Better</td><td>1.14067</td></tr><tr><th>4</th><td>8.97958</td><td>Better</td><td>1.18326</td></tr><tr><th>5</th><td>8.68849</td><td>Best</td><td>1.11812</td></tr></tbody></table></div>"
      ],
      "text/latex": [
       "\\begin{tabular}{r|ccc}\n",
       "\t& x1 & x2 & x3\\\\\n",
       "\t\\hline\n",
       "\t& Float64 & String & Float64\\\\\n",
       "\t\\hline\n",
       "\t1 & 10.2472 & Good & 1.0601 \\\\\n",
       "\t2 & 9.97434 & Best & 1.13788 \\\\\n",
       "\t3 & 9.36792 & Better & 1.14067 \\\\\n",
       "\t4 & 8.97958 & Better & 1.18326 \\\\\n",
       "\t5 & 8.68849 & Best & 1.11812 \\\\\n",
       "\\end{tabular}\n"
      ],
      "text/plain": [
       "\u001b[1m5×3 DataFrame\u001b[0m\n",
       "\u001b[1m Row \u001b[0m│\u001b[1m x1       \u001b[0m\u001b[1m x2     \u001b[0m\u001b[1m x3      \u001b[0m\n",
       "\u001b[1m     \u001b[0m│\u001b[90m Float64  \u001b[0m\u001b[90m String \u001b[0m\u001b[90m Float64 \u001b[0m\n",
       "─────┼───────────────────────────\n",
       "   1 │ 10.2472   Good    1.0601\n",
       "   2 │  9.97434  Best    1.13788\n",
       "   3 │  9.36792  Better  1.14067\n",
       "   4 │  8.97958  Better  1.18326\n",
       "   5 │  8.68849  Best    1.11812"
      ]
     },
     "execution_count": 23,
     "metadata": {},
     "output_type": "execute_result"
    }
   ],
   "source": [
    "# access last 5 rows\n",
    "last(df, 5)"
   ]
  },
  {
   "cell_type": "code",
   "execution_count": 24,
   "id": "ba566d48",
   "metadata": {},
   "outputs": [
    {
     "data": {
      "text/html": [
       "<div class=\"data-frame\"><p>3 rows × 7 columns</p><table class=\"data-frame\"><thead><tr><th></th><th>variable</th><th>mean</th><th>min</th><th>median</th><th>max</th><th>nmissing</th><th>eltype</th></tr><tr><th></th><th title=\"Symbol\">Symbol</th><th title=\"Union{Nothing, Float64}\">Union…</th><th title=\"Any\">Any</th><th title=\"Union{Nothing, Float64}\">Union…</th><th title=\"Any\">Any</th><th title=\"Int64\">Int64</th><th title=\"DataType\">DataType</th></tr></thead><tbody><tr><th>1</th><td>x1</td><td>9.87024</td><td>5.66253</td><td>9.91626</td><td>13.1496</td><td>0</td><td>Float64</td></tr><tr><th>2</th><td>x2</td><td></td><td>Best</td><td></td><td>Good</td><td>0</td><td>String</td></tr><tr><th>3</th><td>x3</td><td>1.11838</td><td>1.00055</td><td>1.07791</td><td>1.72336</td><td>0</td><td>Float64</td></tr></tbody></table></div>"
      ],
      "text/latex": [
       "\\begin{tabular}{r|ccccccc}\n",
       "\t& variable & mean & min & median & max & nmissing & eltype\\\\\n",
       "\t\\hline\n",
       "\t& Symbol & Union… & Any & Union… & Any & Int64 & DataType\\\\\n",
       "\t\\hline\n",
       "\t1 & x1 & 9.87024 & 5.66253 & 9.91626 & 13.1496 & 0 & Float64 \\\\\n",
       "\t2 & x2 &  & Best &  & Good & 0 & String \\\\\n",
       "\t3 & x3 & 1.11838 & 1.00055 & 1.07791 & 1.72336 & 0 & Float64 \\\\\n",
       "\\end{tabular}\n"
      ],
      "text/plain": [
       "\u001b[1m3×7 DataFrame\u001b[0m\n",
       "\u001b[1m Row \u001b[0m│\u001b[1m variable \u001b[0m\u001b[1m mean    \u001b[0m\u001b[1m min     \u001b[0m\u001b[1m median  \u001b[0m\u001b[1m max     \u001b[0m\u001b[1m nmissing \u001b[0m\u001b[1m eltype   \u001b[0m\n",
       "\u001b[1m     \u001b[0m│\u001b[90m Symbol   \u001b[0m\u001b[90m Union…  \u001b[0m\u001b[90m Any     \u001b[0m\u001b[90m Union…  \u001b[0m\u001b[90m Any     \u001b[0m\u001b[90m Int64    \u001b[0m\u001b[90m DataType \u001b[0m\n",
       "─────┼──────────────────────────────────────────────────────────────────\n",
       "   1 │ x1        9.87024  5.66253  9.91626  13.1496         0  Float64\n",
       "   2 │ x2       \u001b[90m         \u001b[0m Best    \u001b[90m         \u001b[0m Good            0  String\n",
       "   3 │ x3        1.11838  1.00055  1.07791  1.72336         0  Float64"
      ]
     },
     "execution_count": 24,
     "metadata": {},
     "output_type": "execute_result"
    }
   ],
   "source": [
    "# describe dataframe\n",
    "describe(df)"
   ]
  },
  {
   "cell_type": "code",
   "execution_count": 25,
   "id": "27c6d7ac",
   "metadata": {},
   "outputs": [
    {
     "name": "stdout",
     "output_type": "stream",
     "text": [
      "Summary Stats:\n",
      "Length:         100\n",
      "Missing Count:  0\n",
      "Mean:           9.870236\n",
      "Minimum:        5.662532\n",
      "1st Quartile:   9.254426\n",
      "Median:         9.916256\n",
      "3rd Quartile:   10.494514\n",
      "Maximum:        13.149576\n",
      "Type:           Float64\n"
     ]
    }
   ],
   "source": [
    "# describe dataframe column\n",
    "describe(df[:, :x1])"
   ]
  },
  {
   "cell_type": "code",
   "execution_count": 26,
   "id": "23855cf3",
   "metadata": {},
   "outputs": [
    {
     "data": {
      "text/html": [
       "<div class=\"data-frame\"><p>1 rows × 7 columns</p><table class=\"data-frame\"><thead><tr><th></th><th>variable</th><th>mean</th><th>min</th><th>median</th><th>max</th><th>nmissing</th><th>eltype</th></tr><tr><th></th><th title=\"Symbol\">Symbol</th><th title=\"Float64\">Float64</th><th title=\"Float64\">Float64</th><th title=\"Float64\">Float64</th><th title=\"Float64\">Float64</th><th title=\"Int64\">Int64</th><th title=\"DataType\">DataType</th></tr></thead><tbody><tr><th>1</th><td>x1</td><td>9.87024</td><td>5.66253</td><td>9.91626</td><td>13.1496</td><td>0</td><td>Float64</td></tr></tbody></table></div>"
      ],
      "text/latex": [
       "\\begin{tabular}{r|ccccccc}\n",
       "\t& variable & mean & min & median & max & nmissing & eltype\\\\\n",
       "\t\\hline\n",
       "\t& Symbol & Float64 & Float64 & Float64 & Float64 & Int64 & DataType\\\\\n",
       "\t\\hline\n",
       "\t1 & x1 & 9.87024 & 5.66253 & 9.91626 & 13.1496 & 0 & Float64 \\\\\n",
       "\\end{tabular}\n"
      ],
      "text/plain": [
       "\u001b[1m1×7 DataFrame\u001b[0m\n",
       "\u001b[1m Row \u001b[0m│\u001b[1m variable \u001b[0m\u001b[1m mean    \u001b[0m\u001b[1m min     \u001b[0m\u001b[1m median  \u001b[0m\u001b[1m max     \u001b[0m\u001b[1m nmissing \u001b[0m\u001b[1m eltype   \u001b[0m\n",
       "\u001b[1m     \u001b[0m│\u001b[90m Symbol   \u001b[0m\u001b[90m Float64 \u001b[0m\u001b[90m Float64 \u001b[0m\u001b[90m Float64 \u001b[0m\u001b[90m Float64 \u001b[0m\u001b[90m Int64    \u001b[0m\u001b[90m DataType \u001b[0m\n",
       "─────┼──────────────────────────────────────────────────────────────────\n",
       "   1 │ x1        9.87024  5.66253  9.91626  13.1496         0  Float64"
      ]
     },
     "execution_count": 26,
     "metadata": {},
     "output_type": "execute_result"
    }
   ],
   "source": [
    "# describe dataframe column\n",
    "describe(df[:, [:x1]])"
   ]
  },
  {
   "cell_type": "code",
   "execution_count": 27,
   "id": "6beb3924",
   "metadata": {},
   "outputs": [
    {
     "data": {
      "text/html": [
       "<div class=\"data-frame\"><p>100 rows × 3 columns</p><table class=\"data-frame\"><thead><tr><th></th><th>x1</th><th>x2</th><th>x3</th></tr><tr><th></th><th title=\"Float64\">Float64</th><th title=\"String\">String</th><th title=\"Float64\">Float64</th></tr></thead><tbody><tr><th>1</th><td>5.66253</td><td>Best</td><td>1.00055</td></tr><tr><th>2</th><td>7.35801</td><td>Better</td><td>1.098</td></tr><tr><th>3</th><td>8.00525</td><td>Better</td><td>1.00329</td></tr><tr><th>4</th><td>8.00945</td><td>Best</td><td>1.10263</td></tr><tr><th>5</th><td>8.34943</td><td>Better</td><td>1.10682</td></tr><tr><th>6</th><td>8.37438</td><td>Better</td><td>1.0104</td></tr><tr><th>7</th><td>8.40942</td><td>Better</td><td>1.03214</td></tr><tr><th>8</th><td>8.4906</td><td>Better</td><td>1.05891</td></tr><tr><th>9</th><td>8.55112</td><td>Better</td><td>1.01471</td></tr><tr><th>10</th><td>8.57794</td><td>Better</td><td>1.06142</td></tr><tr><th>11</th><td>8.64836</td><td>Better</td><td>1.47418</td></tr><tr><th>12</th><td>8.66087</td><td>Good</td><td>1.20151</td></tr><tr><th>13</th><td>8.68849</td><td>Best</td><td>1.11812</td></tr><tr><th>14</th><td>8.85154</td><td>Best</td><td>1.0209</td></tr><tr><th>15</th><td>8.8551</td><td>Better</td><td>1.04502</td></tr><tr><th>16</th><td>8.94901</td><td>Better</td><td>1.02335</td></tr><tr><th>17</th><td>8.97958</td><td>Better</td><td>1.18326</td></tr><tr><th>18</th><td>9.00761</td><td>Best</td><td>1.01746</td></tr><tr><th>19</th><td>9.06268</td><td>Best</td><td>1.26484</td></tr><tr><th>20</th><td>9.06951</td><td>Best</td><td>1.10086</td></tr><tr><th>21</th><td>9.10548</td><td>Better</td><td>1.02608</td></tr><tr><th>22</th><td>9.11379</td><td>Best</td><td>1.20151</td></tr><tr><th>23</th><td>9.14365</td><td>Best</td><td>1.03575</td></tr><tr><th>24</th><td>9.14881</td><td>Better</td><td>1.04892</td></tr><tr><th>25</th><td>9.18194</td><td>Good</td><td>1.12958</td></tr><tr><th>26</th><td>9.27859</td><td>Better</td><td>1.07816</td></tr><tr><th>27</th><td>9.29358</td><td>Best</td><td>1.07795</td></tr><tr><th>28</th><td>9.36792</td><td>Better</td><td>1.14067</td></tr><tr><th>29</th><td>9.41209</td><td>Best</td><td>1.06339</td></tr><tr><th>30</th><td>9.41456</td><td>Better</td><td>1.30293</td></tr><tr><th>&vellip;</th><td>&vellip;</td><td>&vellip;</td><td>&vellip;</td></tr></tbody></table></div>"
      ],
      "text/latex": [
       "\\begin{tabular}{r|ccc}\n",
       "\t& x1 & x2 & x3\\\\\n",
       "\t\\hline\n",
       "\t& Float64 & String & Float64\\\\\n",
       "\t\\hline\n",
       "\t1 & 5.66253 & Best & 1.00055 \\\\\n",
       "\t2 & 7.35801 & Better & 1.098 \\\\\n",
       "\t3 & 8.00525 & Better & 1.00329 \\\\\n",
       "\t4 & 8.00945 & Best & 1.10263 \\\\\n",
       "\t5 & 8.34943 & Better & 1.10682 \\\\\n",
       "\t6 & 8.37438 & Better & 1.0104 \\\\\n",
       "\t7 & 8.40942 & Better & 1.03214 \\\\\n",
       "\t8 & 8.4906 & Better & 1.05891 \\\\\n",
       "\t9 & 8.55112 & Better & 1.01471 \\\\\n",
       "\t10 & 8.57794 & Better & 1.06142 \\\\\n",
       "\t11 & 8.64836 & Better & 1.47418 \\\\\n",
       "\t12 & 8.66087 & Good & 1.20151 \\\\\n",
       "\t13 & 8.68849 & Best & 1.11812 \\\\\n",
       "\t14 & 8.85154 & Best & 1.0209 \\\\\n",
       "\t15 & 8.8551 & Better & 1.04502 \\\\\n",
       "\t16 & 8.94901 & Better & 1.02335 \\\\\n",
       "\t17 & 8.97958 & Better & 1.18326 \\\\\n",
       "\t18 & 9.00761 & Best & 1.01746 \\\\\n",
       "\t19 & 9.06268 & Best & 1.26484 \\\\\n",
       "\t20 & 9.06951 & Best & 1.10086 \\\\\n",
       "\t21 & 9.10548 & Better & 1.02608 \\\\\n",
       "\t22 & 9.11379 & Best & 1.20151 \\\\\n",
       "\t23 & 9.14365 & Best & 1.03575 \\\\\n",
       "\t24 & 9.14881 & Better & 1.04892 \\\\\n",
       "\t25 & 9.18194 & Good & 1.12958 \\\\\n",
       "\t26 & 9.27859 & Better & 1.07816 \\\\\n",
       "\t27 & 9.29358 & Best & 1.07795 \\\\\n",
       "\t28 & 9.36792 & Better & 1.14067 \\\\\n",
       "\t29 & 9.41209 & Best & 1.06339 \\\\\n",
       "\t30 & 9.41456 & Better & 1.30293 \\\\\n",
       "\t$\\dots$ & $\\dots$ & $\\dots$ & $\\dots$ \\\\\n",
       "\\end{tabular}\n"
      ],
      "text/plain": [
       "\u001b[1m100×3 DataFrame\u001b[0m\n",
       "\u001b[1m Row \u001b[0m│\u001b[1m x1       \u001b[0m\u001b[1m x2     \u001b[0m\u001b[1m x3      \u001b[0m\n",
       "\u001b[1m     \u001b[0m│\u001b[90m Float64  \u001b[0m\u001b[90m String \u001b[0m\u001b[90m Float64 \u001b[0m\n",
       "─────┼───────────────────────────\n",
       "   1 │  5.66253  Best    1.00055\n",
       "   2 │  7.35801  Better  1.098\n",
       "   3 │  8.00525  Better  1.00329\n",
       "   4 │  8.00945  Best    1.10263\n",
       "   5 │  8.34943  Better  1.10682\n",
       "   6 │  8.37438  Better  1.0104\n",
       "   7 │  8.40942  Better  1.03214\n",
       "   8 │  8.4906   Better  1.05891\n",
       "   9 │  8.55112  Better  1.01471\n",
       "  10 │  8.57794  Better  1.06142\n",
       "  11 │  8.64836  Better  1.47418\n",
       "  ⋮  │    ⋮        ⋮        ⋮\n",
       "  91 │ 11.0824   Good    1.03466\n",
       "  92 │ 11.2094   Better  1.53885\n",
       "  93 │ 11.2253   Best    1.07786\n",
       "  94 │ 11.3716   Best    1.3292\n",
       "  95 │ 11.4914   Best    1.06416\n",
       "  96 │ 11.6121   Better  1.22176\n",
       "  97 │ 11.7779   Good    1.2221\n",
       "  98 │ 11.8193   Best    1.0213\n",
       "  99 │ 12.3879   Best    1.00958\n",
       " 100 │ 13.1496   Better  1.01555\n",
       "\u001b[36m                  79 rows omitted\u001b[0m"
      ]
     },
     "execution_count": 27,
     "metadata": {},
     "output_type": "execute_result"
    }
   ],
   "source": [
    "# sort dataframe by x1 ascending\n",
    "sort(df, :x1)"
   ]
  },
  {
   "cell_type": "code",
   "execution_count": 28,
   "id": "d64f1d97",
   "metadata": {},
   "outputs": [
    {
     "data": {
      "text/html": [
       "<div class=\"data-frame\"><p>100 rows × 3 columns</p><table class=\"data-frame\"><thead><tr><th></th><th>x1</th><th>x2</th><th>x3</th></tr><tr><th></th><th title=\"Float64\">Float64</th><th title=\"String\">String</th><th title=\"Float64\">Float64</th></tr></thead><tbody><tr><th>1</th><td>13.1496</td><td>Better</td><td>1.01555</td></tr><tr><th>2</th><td>12.3879</td><td>Best</td><td>1.00958</td></tr><tr><th>3</th><td>11.8193</td><td>Best</td><td>1.0213</td></tr><tr><th>4</th><td>11.7779</td><td>Good</td><td>1.2221</td></tr><tr><th>5</th><td>11.6121</td><td>Better</td><td>1.22176</td></tr><tr><th>6</th><td>11.4914</td><td>Best</td><td>1.06416</td></tr><tr><th>7</th><td>11.3716</td><td>Best</td><td>1.3292</td></tr><tr><th>8</th><td>11.2253</td><td>Best</td><td>1.07786</td></tr><tr><th>9</th><td>11.2094</td><td>Better</td><td>1.53885</td></tr><tr><th>10</th><td>11.0824</td><td>Good</td><td>1.03466</td></tr><tr><th>11</th><td>11.0194</td><td>Good</td><td>1.06318</td></tr><tr><th>12</th><td>11.0033</td><td>Better</td><td>1.05128</td></tr><tr><th>13</th><td>10.9242</td><td>Best</td><td>1.28978</td></tr><tr><th>14</th><td>10.8901</td><td>Good</td><td>1.01113</td></tr><tr><th>15</th><td>10.7566</td><td>Better</td><td>1.08412</td></tr><tr><th>16</th><td>10.7018</td><td>Better</td><td>1.01846</td></tr><tr><th>17</th><td>10.6846</td><td>Best</td><td>1.017</td></tr><tr><th>18</th><td>10.6811</td><td>Better</td><td>1.19275</td></tr><tr><th>19</th><td>10.6541</td><td>Best</td><td>1.1877</td></tr><tr><th>20</th><td>10.6429</td><td>Better</td><td>1.01606</td></tr><tr><th>21</th><td>10.5698</td><td>Better</td><td>1.04113</td></tr><tr><th>22</th><td>10.5695</td><td>Good</td><td>1.15249</td></tr><tr><th>23</th><td>10.5627</td><td>Better</td><td>1.01311</td></tr><tr><th>24</th><td>10.5181</td><td>Best</td><td>1.06026</td></tr><tr><th>25</th><td>10.5021</td><td>Good</td><td>1.15012</td></tr><tr><th>26</th><td>10.492</td><td>Best</td><td>1.04618</td></tr><tr><th>27</th><td>10.4594</td><td>Best</td><td>1.72336</td></tr><tr><th>28</th><td>10.4107</td><td>Better</td><td>1.02553</td></tr><tr><th>29</th><td>10.369</td><td>Better</td><td>1.13076</td></tr><tr><th>30</th><td>10.3676</td><td>Better</td><td>1.02916</td></tr><tr><th>&vellip;</th><td>&vellip;</td><td>&vellip;</td><td>&vellip;</td></tr></tbody></table></div>"
      ],
      "text/latex": [
       "\\begin{tabular}{r|ccc}\n",
       "\t& x1 & x2 & x3\\\\\n",
       "\t\\hline\n",
       "\t& Float64 & String & Float64\\\\\n",
       "\t\\hline\n",
       "\t1 & 13.1496 & Better & 1.01555 \\\\\n",
       "\t2 & 12.3879 & Best & 1.00958 \\\\\n",
       "\t3 & 11.8193 & Best & 1.0213 \\\\\n",
       "\t4 & 11.7779 & Good & 1.2221 \\\\\n",
       "\t5 & 11.6121 & Better & 1.22176 \\\\\n",
       "\t6 & 11.4914 & Best & 1.06416 \\\\\n",
       "\t7 & 11.3716 & Best & 1.3292 \\\\\n",
       "\t8 & 11.2253 & Best & 1.07786 \\\\\n",
       "\t9 & 11.2094 & Better & 1.53885 \\\\\n",
       "\t10 & 11.0824 & Good & 1.03466 \\\\\n",
       "\t11 & 11.0194 & Good & 1.06318 \\\\\n",
       "\t12 & 11.0033 & Better & 1.05128 \\\\\n",
       "\t13 & 10.9242 & Best & 1.28978 \\\\\n",
       "\t14 & 10.8901 & Good & 1.01113 \\\\\n",
       "\t15 & 10.7566 & Better & 1.08412 \\\\\n",
       "\t16 & 10.7018 & Better & 1.01846 \\\\\n",
       "\t17 & 10.6846 & Best & 1.017 \\\\\n",
       "\t18 & 10.6811 & Better & 1.19275 \\\\\n",
       "\t19 & 10.6541 & Best & 1.1877 \\\\\n",
       "\t20 & 10.6429 & Better & 1.01606 \\\\\n",
       "\t21 & 10.5698 & Better & 1.04113 \\\\\n",
       "\t22 & 10.5695 & Good & 1.15249 \\\\\n",
       "\t23 & 10.5627 & Better & 1.01311 \\\\\n",
       "\t24 & 10.5181 & Best & 1.06026 \\\\\n",
       "\t25 & 10.5021 & Good & 1.15012 \\\\\n",
       "\t26 & 10.492 & Best & 1.04618 \\\\\n",
       "\t27 & 10.4594 & Best & 1.72336 \\\\\n",
       "\t28 & 10.4107 & Better & 1.02553 \\\\\n",
       "\t29 & 10.369 & Better & 1.13076 \\\\\n",
       "\t30 & 10.3676 & Better & 1.02916 \\\\\n",
       "\t$\\dots$ & $\\dots$ & $\\dots$ & $\\dots$ \\\\\n",
       "\\end{tabular}\n"
      ],
      "text/plain": [
       "\u001b[1m100×3 DataFrame\u001b[0m\n",
       "\u001b[1m Row \u001b[0m│\u001b[1m x1       \u001b[0m\u001b[1m x2     \u001b[0m\u001b[1m x3      \u001b[0m\n",
       "\u001b[1m     \u001b[0m│\u001b[90m Float64  \u001b[0m\u001b[90m String \u001b[0m\u001b[90m Float64 \u001b[0m\n",
       "─────┼───────────────────────────\n",
       "   1 │ 13.1496   Better  1.01555\n",
       "   2 │ 12.3879   Best    1.00958\n",
       "   3 │ 11.8193   Best    1.0213\n",
       "   4 │ 11.7779   Good    1.2221\n",
       "   5 │ 11.6121   Better  1.22176\n",
       "   6 │ 11.4914   Best    1.06416\n",
       "   7 │ 11.3716   Best    1.3292\n",
       "   8 │ 11.2253   Best    1.07786\n",
       "   9 │ 11.2094   Better  1.53885\n",
       "  10 │ 11.0824   Good    1.03466\n",
       "  11 │ 11.0194   Good    1.06318\n",
       "  ⋮  │    ⋮        ⋮        ⋮\n",
       "  91 │  8.57794  Better  1.06142\n",
       "  92 │  8.55112  Better  1.01471\n",
       "  93 │  8.4906   Better  1.05891\n",
       "  94 │  8.40942  Better  1.03214\n",
       "  95 │  8.37438  Better  1.0104\n",
       "  96 │  8.34943  Better  1.10682\n",
       "  97 │  8.00945  Best    1.10263\n",
       "  98 │  8.00525  Better  1.00329\n",
       "  99 │  7.35801  Better  1.098\n",
       " 100 │  5.66253  Best    1.00055\n",
       "\u001b[36m                  79 rows omitted\u001b[0m"
      ]
     },
     "execution_count": 28,
     "metadata": {},
     "output_type": "execute_result"
    }
   ],
   "source": [
    "# sort dataframe by x1 descending\n",
    "sort(df, :x1, rev=true)"
   ]
  },
  {
   "cell_type": "code",
   "execution_count": 29,
   "id": "f0cf345b",
   "metadata": {},
   "outputs": [
    {
     "data": {
      "text/html": [
       "<div class=\"data-frame\"><p>100 rows × 3 columns</p><table class=\"data-frame\"><thead><tr><th></th><th>x1</th><th>x2</th><th>x3</th></tr><tr><th></th><th title=\"Float64\">Float64</th><th title=\"String\">String</th><th title=\"Float64\">Float64</th></tr></thead><tbody><tr><th>1</th><td>5.66253</td><td>Best</td><td>1.00055</td></tr><tr><th>2</th><td>7.35801</td><td>Better</td><td>1.098</td></tr><tr><th>3</th><td>8.00525</td><td>Better</td><td>1.00329</td></tr><tr><th>4</th><td>8.00945</td><td>Best</td><td>1.10263</td></tr><tr><th>5</th><td>8.34943</td><td>Better</td><td>1.10682</td></tr><tr><th>6</th><td>8.37438</td><td>Better</td><td>1.0104</td></tr><tr><th>7</th><td>8.40942</td><td>Better</td><td>1.03214</td></tr><tr><th>8</th><td>8.4906</td><td>Better</td><td>1.05891</td></tr><tr><th>9</th><td>8.55112</td><td>Better</td><td>1.01471</td></tr><tr><th>10</th><td>8.57794</td><td>Better</td><td>1.06142</td></tr><tr><th>11</th><td>8.64836</td><td>Better</td><td>1.47418</td></tr><tr><th>12</th><td>8.66087</td><td>Good</td><td>1.20151</td></tr><tr><th>13</th><td>8.68849</td><td>Best</td><td>1.11812</td></tr><tr><th>14</th><td>8.85154</td><td>Best</td><td>1.0209</td></tr><tr><th>15</th><td>8.8551</td><td>Better</td><td>1.04502</td></tr><tr><th>16</th><td>8.94901</td><td>Better</td><td>1.02335</td></tr><tr><th>17</th><td>8.97958</td><td>Better</td><td>1.18326</td></tr><tr><th>18</th><td>9.00761</td><td>Best</td><td>1.01746</td></tr><tr><th>19</th><td>9.06268</td><td>Best</td><td>1.26484</td></tr><tr><th>20</th><td>9.06951</td><td>Best</td><td>1.10086</td></tr><tr><th>21</th><td>9.10548</td><td>Better</td><td>1.02608</td></tr><tr><th>22</th><td>9.11379</td><td>Best</td><td>1.20151</td></tr><tr><th>23</th><td>9.14365</td><td>Best</td><td>1.03575</td></tr><tr><th>24</th><td>9.14881</td><td>Better</td><td>1.04892</td></tr><tr><th>25</th><td>9.18194</td><td>Good</td><td>1.12958</td></tr><tr><th>26</th><td>9.27859</td><td>Better</td><td>1.07816</td></tr><tr><th>27</th><td>9.29358</td><td>Best</td><td>1.07795</td></tr><tr><th>28</th><td>9.36792</td><td>Better</td><td>1.14067</td></tr><tr><th>29</th><td>9.41209</td><td>Best</td><td>1.06339</td></tr><tr><th>30</th><td>9.41456</td><td>Better</td><td>1.30293</td></tr><tr><th>&vellip;</th><td>&vellip;</td><td>&vellip;</td><td>&vellip;</td></tr></tbody></table></div>"
      ],
      "text/latex": [
       "\\begin{tabular}{r|ccc}\n",
       "\t& x1 & x2 & x3\\\\\n",
       "\t\\hline\n",
       "\t& Float64 & String & Float64\\\\\n",
       "\t\\hline\n",
       "\t1 & 5.66253 & Best & 1.00055 \\\\\n",
       "\t2 & 7.35801 & Better & 1.098 \\\\\n",
       "\t3 & 8.00525 & Better & 1.00329 \\\\\n",
       "\t4 & 8.00945 & Best & 1.10263 \\\\\n",
       "\t5 & 8.34943 & Better & 1.10682 \\\\\n",
       "\t6 & 8.37438 & Better & 1.0104 \\\\\n",
       "\t7 & 8.40942 & Better & 1.03214 \\\\\n",
       "\t8 & 8.4906 & Better & 1.05891 \\\\\n",
       "\t9 & 8.55112 & Better & 1.01471 \\\\\n",
       "\t10 & 8.57794 & Better & 1.06142 \\\\\n",
       "\t11 & 8.64836 & Better & 1.47418 \\\\\n",
       "\t12 & 8.66087 & Good & 1.20151 \\\\\n",
       "\t13 & 8.68849 & Best & 1.11812 \\\\\n",
       "\t14 & 8.85154 & Best & 1.0209 \\\\\n",
       "\t15 & 8.8551 & Better & 1.04502 \\\\\n",
       "\t16 & 8.94901 & Better & 1.02335 \\\\\n",
       "\t17 & 8.97958 & Better & 1.18326 \\\\\n",
       "\t18 & 9.00761 & Best & 1.01746 \\\\\n",
       "\t19 & 9.06268 & Best & 1.26484 \\\\\n",
       "\t20 & 9.06951 & Best & 1.10086 \\\\\n",
       "\t21 & 9.10548 & Better & 1.02608 \\\\\n",
       "\t22 & 9.11379 & Best & 1.20151 \\\\\n",
       "\t23 & 9.14365 & Best & 1.03575 \\\\\n",
       "\t24 & 9.14881 & Better & 1.04892 \\\\\n",
       "\t25 & 9.18194 & Good & 1.12958 \\\\\n",
       "\t26 & 9.27859 & Better & 1.07816 \\\\\n",
       "\t27 & 9.29358 & Best & 1.07795 \\\\\n",
       "\t28 & 9.36792 & Better & 1.14067 \\\\\n",
       "\t29 & 9.41209 & Best & 1.06339 \\\\\n",
       "\t30 & 9.41456 & Better & 1.30293 \\\\\n",
       "\t$\\dots$ & $\\dots$ & $\\dots$ & $\\dots$ \\\\\n",
       "\\end{tabular}\n"
      ],
      "text/plain": [
       "\u001b[1m100×3 DataFrame\u001b[0m\n",
       "\u001b[1m Row \u001b[0m│\u001b[1m x1       \u001b[0m\u001b[1m x2     \u001b[0m\u001b[1m x3      \u001b[0m\n",
       "\u001b[1m     \u001b[0m│\u001b[90m Float64  \u001b[0m\u001b[90m String \u001b[0m\u001b[90m Float64 \u001b[0m\n",
       "─────┼───────────────────────────\n",
       "   1 │  5.66253  Best    1.00055\n",
       "   2 │  7.35801  Better  1.098\n",
       "   3 │  8.00525  Better  1.00329\n",
       "   4 │  8.00945  Best    1.10263\n",
       "   5 │  8.34943  Better  1.10682\n",
       "   6 │  8.37438  Better  1.0104\n",
       "   7 │  8.40942  Better  1.03214\n",
       "   8 │  8.4906   Better  1.05891\n",
       "   9 │  8.55112  Better  1.01471\n",
       "  10 │  8.57794  Better  1.06142\n",
       "  11 │  8.64836  Better  1.47418\n",
       "  ⋮  │    ⋮        ⋮        ⋮\n",
       "  91 │ 11.0824   Good    1.03466\n",
       "  92 │ 11.2094   Better  1.53885\n",
       "  93 │ 11.2253   Best    1.07786\n",
       "  94 │ 11.3716   Best    1.3292\n",
       "  95 │ 11.4914   Best    1.06416\n",
       "  96 │ 11.6121   Better  1.22176\n",
       "  97 │ 11.7779   Good    1.2221\n",
       "  98 │ 11.8193   Best    1.0213\n",
       "  99 │ 12.3879   Best    1.00958\n",
       " 100 │ 13.1496   Better  1.01555\n",
       "\u001b[36m                  79 rows omitted\u001b[0m"
      ]
     },
     "execution_count": 29,
     "metadata": {},
     "output_type": "execute_result"
    }
   ],
   "source": [
    "# sort by x1 asc and x2 desc\n",
    "sort(df, [:x1, :x2], rev=[false, true])"
   ]
  },
  {
   "cell_type": "code",
   "execution_count": 30,
   "id": "1244569c",
   "metadata": {},
   "outputs": [
    {
     "data": {
      "text/html": [
       "<div class=\"data-frame\"><p>3 rows × 2 columns</p><table class=\"data-frame\"><thead><tr><th></th><th>x2</th><th>nrow</th></tr><tr><th></th><th title=\"String\">String</th><th title=\"Int64\">Int64</th></tr></thead><tbody><tr><th>1</th><td>Best</td><td>34</td></tr><tr><th>2</th><td>Good</td><td>15</td></tr><tr><th>3</th><td>Better</td><td>51</td></tr></tbody></table></div>"
      ],
      "text/latex": [
       "\\begin{tabular}{r|cc}\n",
       "\t& x2 & nrow\\\\\n",
       "\t\\hline\n",
       "\t& String & Int64\\\\\n",
       "\t\\hline\n",
       "\t1 & Best & 34 \\\\\n",
       "\t2 & Good & 15 \\\\\n",
       "\t3 & Better & 51 \\\\\n",
       "\\end{tabular}\n"
      ],
      "text/plain": [
       "\u001b[1m3×2 DataFrame\u001b[0m\n",
       "\u001b[1m Row \u001b[0m│\u001b[1m x2     \u001b[0m\u001b[1m nrow  \u001b[0m\n",
       "\u001b[1m     \u001b[0m│\u001b[90m String \u001b[0m\u001b[90m Int64 \u001b[0m\n",
       "─────┼───────────────\n",
       "   1 │ Best       34\n",
       "   2 │ Good       15\n",
       "   3 │ Better     51"
      ]
     },
     "execution_count": 30,
     "metadata": {},
     "output_type": "execute_result"
    }
   ],
   "source": [
    "# obtain count group by x2\n",
    "combine(groupby(df, :x2), nrow)"
   ]
  },
  {
   "cell_type": "code",
   "execution_count": 31,
   "id": "a3ebe874",
   "metadata": {},
   "outputs": [
    {
     "data": {
      "text/html": [
       "<div class=\"data-frame\"><p>3 rows × 3 columns</p><table class=\"data-frame\"><thead><tr><th></th><th>x2</th><th>x1_sum</th><th>x3_sum</th></tr><tr><th></th><th title=\"String\">String</th><th title=\"Float64\">Float64</th><th title=\"Float64\">Float64</th></tr></thead><tbody><tr><th>1</th><td>Best</td><td>335.274</td><td>38.4914</td></tr><tr><th>2</th><td>Good</td><td>153.395</td><td>17.0919</td></tr><tr><th>3</th><td>Better</td><td>498.355</td><td>56.2549</td></tr></tbody></table></div>"
      ],
      "text/latex": [
       "\\begin{tabular}{r|ccc}\n",
       "\t& x2 & x1\\_sum & x3\\_sum\\\\\n",
       "\t\\hline\n",
       "\t& String & Float64 & Float64\\\\\n",
       "\t\\hline\n",
       "\t1 & Best & 335.274 & 38.4914 \\\\\n",
       "\t2 & Good & 153.395 & 17.0919 \\\\\n",
       "\t3 & Better & 498.355 & 56.2549 \\\\\n",
       "\\end{tabular}\n"
      ],
      "text/plain": [
       "\u001b[1m3×3 DataFrame\u001b[0m\n",
       "\u001b[1m Row \u001b[0m│\u001b[1m x2     \u001b[0m\u001b[1m x1_sum  \u001b[0m\u001b[1m x3_sum  \u001b[0m\n",
       "\u001b[1m     \u001b[0m│\u001b[90m String \u001b[0m\u001b[90m Float64 \u001b[0m\u001b[90m Float64 \u001b[0m\n",
       "─────┼──────────────────────────\n",
       "   1 │ Best    335.274  38.4914\n",
       "   2 │ Good    153.395  17.0919\n",
       "   3 │ Better  498.355  56.2549"
      ]
     },
     "execution_count": 31,
     "metadata": {},
     "output_type": "execute_result"
    }
   ],
   "source": [
    "# obtain sum group by x2\n",
    "combine(groupby(df, :x2), :x1 => sum, :x3 => sum)"
   ]
  },
  {
   "cell_type": "code",
   "execution_count": 32,
   "id": "fc3fc4e5",
   "metadata": {},
   "outputs": [
    {
     "data": {
      "text/html": [
       "<div class=\"data-frame\"><p>1 rows × 3 columns</p><table class=\"data-frame\"><thead><tr><th></th><th>x1_mean</th><th>x1_median</th><th>x1_std</th></tr><tr><th></th><th title=\"Float64\">Float64</th><th title=\"Float64\">Float64</th><th title=\"Float64\">Float64</th></tr></thead><tbody><tr><th>1</th><td>9.87024</td><td>9.91626</td><td>1.05399</td></tr></tbody></table></div>"
      ],
      "text/latex": [
       "\\begin{tabular}{r|ccc}\n",
       "\t& x1\\_mean & x1\\_median & x1\\_std\\\\\n",
       "\t\\hline\n",
       "\t& Float64 & Float64 & Float64\\\\\n",
       "\t\\hline\n",
       "\t1 & 9.87024 & 9.91626 & 1.05399 \\\\\n",
       "\\end{tabular}\n"
      ],
      "text/plain": [
       "\u001b[1m1×3 DataFrame\u001b[0m\n",
       "\u001b[1m Row \u001b[0m│\u001b[1m x1_mean \u001b[0m\u001b[1m x1_median \u001b[0m\u001b[1m x1_std  \u001b[0m\n",
       "\u001b[1m     \u001b[0m│\u001b[90m Float64 \u001b[0m\u001b[90m Float64   \u001b[0m\u001b[90m Float64 \u001b[0m\n",
       "─────┼─────────────────────────────\n",
       "   1 │ 9.87024    9.91626  1.05399"
      ]
     },
     "execution_count": 32,
     "metadata": {},
     "output_type": "execute_result"
    }
   ],
   "source": [
    "# obtain aggregates of x1 column\n",
    "combine(df, :x1 => mean, :x1 => median, :x1 => std)"
   ]
  }
 ],
 "metadata": {
  "kernelspec": {
   "display_name": "Julia 1.6.1",
   "language": "julia",
   "name": "julia-1.6"
  },
  "language_info": {
   "file_extension": ".jl",
   "mimetype": "application/julia",
   "name": "julia",
   "version": "1.6.1"
  }
 },
 "nbformat": 4,
 "nbformat_minor": 5
}
