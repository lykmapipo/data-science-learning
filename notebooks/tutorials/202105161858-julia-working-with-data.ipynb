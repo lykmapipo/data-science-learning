{
 "cells": [
  {
   "cell_type": "markdown",
   "id": "8f0b23fa",
   "metadata": {},
   "source": [
    "# Working with Data"
   ]
  },
  {
   "cell_type": "code",
   "execution_count": 1,
   "id": "ce5e2195",
   "metadata": {},
   "outputs": [],
   "source": [
    "# load required modules\n",
    "using DataFrames\n",
    "using Distributions\n",
    "using Random\n",
    "using StatsBase"
   ]
  },
  {
   "cell_type": "code",
   "execution_count": 2,
   "id": "f5bf4f7c",
   "metadata": {},
   "outputs": [],
   "source": [
    "# set seed for reproducible sequence of numbers\n",
    "Random.seed!(42);"
   ]
  },
  {
   "cell_type": "markdown",
   "id": "2740e590",
   "metadata": {},
   "source": [
    "## Dataframes"
   ]
  },
  {
   "cell_type": "code",
   "execution_count": 13,
   "id": "ccd7d8be",
   "metadata": {},
   "outputs": [
    {
     "data": {
      "text/html": [
       "<table class=\"data-frame\"><thead><tr><th></th><th>x1</th><th>x2</th><th>x3</th></tr><tr><th></th><th>Float64</th><th>String</th><th>Float64</th></tr></thead><tbody><p>100 rows × 3 columns</p><tr><th>1</th><td>12.0849</td><td>Best</td><td>1.53913</td></tr><tr><th>2</th><td>9.85501</td><td>Best</td><td>1.0313</td></tr><tr><th>3</th><td>10.3115</td><td>Better</td><td>1.03961</td></tr><tr><th>4</th><td>11.5511</td><td>Best</td><td>1.00943</td></tr><tr><th>5</th><td>9.25705</td><td>Better</td><td>1.1772</td></tr><tr><th>6</th><td>7.33639</td><td>Better</td><td>1.00157</td></tr><tr><th>7</th><td>9.61922</td><td>Good</td><td>1.17024</td></tr><tr><th>8</th><td>9.80549</td><td>Good</td><td>1.01424</td></tr><tr><th>9</th><td>9.5852</td><td>Better</td><td>1.29894</td></tr><tr><th>10</th><td>9.56308</td><td>Good</td><td>1.10715</td></tr><tr><th>11</th><td>10.2434</td><td>Good</td><td>1.01458</td></tr><tr><th>12</th><td>9.62456</td><td>Better</td><td>1.11284</td></tr><tr><th>13</th><td>9.21374</td><td>Good</td><td>1.21631</td></tr><tr><th>14</th><td>8.83162</td><td>Better</td><td>1.03735</td></tr><tr><th>15</th><td>11.4473</td><td>Better</td><td>1.17787</td></tr><tr><th>16</th><td>10.7824</td><td>Best</td><td>1.03806</td></tr><tr><th>17</th><td>9.72186</td><td>Better</td><td>1.21796</td></tr><tr><th>18</th><td>9.5747</td><td>Good</td><td>1.36245</td></tr><tr><th>19</th><td>7.54641</td><td>Good</td><td>1.05426</td></tr><tr><th>20</th><td>10.3795</td><td>Best</td><td>1.00486</td></tr><tr><th>21</th><td>8.13578</td><td>Better</td><td>1.28737</td></tr><tr><th>22</th><td>9.10766</td><td>Good</td><td>1.02922</td></tr><tr><th>23</th><td>10.7429</td><td>Best</td><td>1.30329</td></tr><tr><th>24</th><td>11.1207</td><td>Better</td><td>1.07263</td></tr><tr><th>25</th><td>9.1991</td><td>Better</td><td>1.00122</td></tr><tr><th>26</th><td>11.3915</td><td>Better</td><td>1.20221</td></tr><tr><th>27</th><td>10.0454</td><td>Good</td><td>1.04111</td></tr><tr><th>28</th><td>9.99314</td><td>Best</td><td>1.00728</td></tr><tr><th>29</th><td>10.0568</td><td>Better</td><td>1.32854</td></tr><tr><th>30</th><td>10.7767</td><td>Better</td><td>1.10268</td></tr><tr><th>&vellip;</th><td>&vellip;</td><td>&vellip;</td><td>&vellip;</td></tr></tbody></table>"
      ],
      "text/latex": [
       "\\begin{tabular}{r|ccc}\n",
       "\t& x1 & x2 & x3\\\\\n",
       "\t\\hline\n",
       "\t& Float64 & String & Float64\\\\\n",
       "\t\\hline\n",
       "\t1 & 12.0849 & Best & 1.53913 \\\\\n",
       "\t2 & 9.85501 & Best & 1.0313 \\\\\n",
       "\t3 & 10.3115 & Better & 1.03961 \\\\\n",
       "\t4 & 11.5511 & Best & 1.00943 \\\\\n",
       "\t5 & 9.25705 & Better & 1.1772 \\\\\n",
       "\t6 & 7.33639 & Better & 1.00157 \\\\\n",
       "\t7 & 9.61922 & Good & 1.17024 \\\\\n",
       "\t8 & 9.80549 & Good & 1.01424 \\\\\n",
       "\t9 & 9.5852 & Better & 1.29894 \\\\\n",
       "\t10 & 9.56308 & Good & 1.10715 \\\\\n",
       "\t11 & 10.2434 & Good & 1.01458 \\\\\n",
       "\t12 & 9.62456 & Better & 1.11284 \\\\\n",
       "\t13 & 9.21374 & Good & 1.21631 \\\\\n",
       "\t14 & 8.83162 & Better & 1.03735 \\\\\n",
       "\t15 & 11.4473 & Better & 1.17787 \\\\\n",
       "\t16 & 10.7824 & Best & 1.03806 \\\\\n",
       "\t17 & 9.72186 & Better & 1.21796 \\\\\n",
       "\t18 & 9.5747 & Good & 1.36245 \\\\\n",
       "\t19 & 7.54641 & Good & 1.05426 \\\\\n",
       "\t20 & 10.3795 & Best & 1.00486 \\\\\n",
       "\t21 & 8.13578 & Better & 1.28737 \\\\\n",
       "\t22 & 9.10766 & Good & 1.02922 \\\\\n",
       "\t23 & 10.7429 & Best & 1.30329 \\\\\n",
       "\t24 & 11.1207 & Better & 1.07263 \\\\\n",
       "\t25 & 9.1991 & Better & 1.00122 \\\\\n",
       "\t26 & 11.3915 & Better & 1.20221 \\\\\n",
       "\t27 & 10.0454 & Good & 1.04111 \\\\\n",
       "\t28 & 9.99314 & Best & 1.00728 \\\\\n",
       "\t29 & 10.0568 & Better & 1.32854 \\\\\n",
       "\t30 & 10.7767 & Better & 1.10268 \\\\\n",
       "\t$\\dots$ & $\\dots$ & $\\dots$ & $\\dots$ \\\\\n",
       "\\end{tabular}\n"
      ],
      "text/plain": [
       "\u001b[1m100×3 DataFrame\u001b[0m\n",
       "\u001b[1m Row \u001b[0m│\u001b[1m x1       \u001b[0m\u001b[1m x2     \u001b[0m\u001b[1m x3      \u001b[0m\n",
       "\u001b[1m     \u001b[0m│\u001b[90m Float64  \u001b[0m\u001b[90m String \u001b[0m\u001b[90m Float64 \u001b[0m\n",
       "─────┼───────────────────────────\n",
       "   1 │ 12.0849   Best    1.53913\n",
       "   2 │  9.85501  Best    1.0313\n",
       "   3 │ 10.3115   Better  1.03961\n",
       "   4 │ 11.5511   Best    1.00943\n",
       "   5 │  9.25705  Better  1.1772\n",
       "   6 │  7.33639  Better  1.00157\n",
       "   7 │  9.61922  Good    1.17024\n",
       "   8 │  9.80549  Good    1.01424\n",
       "   9 │  9.5852   Better  1.29894\n",
       "  10 │  9.56308  Good    1.10715\n",
       "  11 │ 10.2434   Good    1.01458\n",
       "  ⋮  │    ⋮        ⋮        ⋮\n",
       "  91 │  8.46498  Better  1.0373\n",
       "  92 │ 10.5889   Better  1.02853\n",
       "  93 │  8.94836  Better  1.22068\n",
       "  94 │  7.94026  Good    1.14947\n",
       "  95 │ 10.7131   Best    1.04047\n",
       "  96 │  9.72061  Better  1.0685\n",
       "  97 │  8.21057  Best    1.08541\n",
       "  98 │  8.83438  Better  1.20427\n",
       "  99 │ 11.9235   Better  1.00091\n",
       " 100 │ 10.847    Better  1.03693\n",
       "\u001b[36m                  79 rows omitted\u001b[0m"
      ]
     },
     "execution_count": 13,
     "metadata": {},
     "output_type": "execute_result"
    }
   ],
   "source": [
    "# create a sample dataframe\n",
    "df = DataFrame(\n",
    "    Dict(\n",
    "        :x1 => rand(Normal(10, 1), 100),\n",
    "        :x2 => [sample([\"Good\", \"Better\", \"Best\"], pweights([0.2, 0.5, 0.3])) for i=1:100],\n",
    "        :x3 => rand(Pareto(10, 1), 100)\n",
    "    )\n",
    ")"
   ]
  },
  {
   "cell_type": "code",
   "execution_count": 9,
   "id": "8942d485",
   "metadata": {},
   "outputs": [
    {
     "data": {
      "text/plain": [
       "DataFrame"
      ]
     },
     "execution_count": 9,
     "metadata": {},
     "output_type": "execute_result"
    }
   ],
   "source": [
    "# get type of df\n",
    "typeof(df)"
   ]
  },
  {
   "cell_type": "markdown",
   "id": "af478ae2",
   "metadata": {},
   "source": []
  },
  {
   "cell_type": "code",
   "execution_count": 15,
   "id": "71d772df",
   "metadata": {},
   "outputs": [
    {
     "data": {
      "text/html": [
       "<p>DataFrameRow (3 columns)</p><table class=\"data-frame\"><thead><tr><th></th><th>x1</th><th>x2</th><th>x3</th></tr><tr><th></th><th>Float64</th><th>String</th><th>Float64</th></tr></thead><tbody><tr><th>1</th><td>12.0849</td><td>Best</td><td>1.53913</td></tr></tbody></table>"
      ],
      "text/latex": [
       "\\begin{tabular}{r|ccc}\n",
       "\t& x1 & x2 & x3\\\\\n",
       "\t\\hline\n",
       "\t& Float64 & String & Float64\\\\\n",
       "\t\\hline\n",
       "\t1 & 12.0849 & Best & 1.53913 \\\\\n",
       "\\end{tabular}\n"
      ],
      "text/plain": [
       "\u001b[1mDataFrameRow\u001b[0m\n",
       "\u001b[1m Row \u001b[0m│\u001b[1m x1      \u001b[0m\u001b[1m x2     \u001b[0m\u001b[1m x3      \u001b[0m\n",
       "\u001b[1m     \u001b[0m│\u001b[90m Float64 \u001b[0m\u001b[90m String \u001b[0m\u001b[90m Float64 \u001b[0m\n",
       "─────┼──────────────────────────\n",
       "   1 │ 12.0849  Best    1.53913"
      ]
     },
     "execution_count": 15,
     "metadata": {},
     "output_type": "execute_result"
    }
   ],
   "source": [
    "# access 1 row\n",
    "df[1, :]"
   ]
  },
  {
   "cell_type": "code",
   "execution_count": 19,
   "id": "7ac3274d",
   "metadata": {},
   "outputs": [
    {
     "data": {
      "text/html": [
       "<table class=\"data-frame\"><thead><tr><th></th><th>x1</th><th>x2</th><th>x3</th></tr><tr><th></th><th>Float64</th><th>String</th><th>Float64</th></tr></thead><tbody><p>2 rows × 3 columns</p><tr><th>1</th><td>12.0849</td><td>Best</td><td>1.53913</td></tr><tr><th>2</th><td>9.85501</td><td>Best</td><td>1.0313</td></tr></tbody></table>"
      ],
      "text/latex": [
       "\\begin{tabular}{r|ccc}\n",
       "\t& x1 & x2 & x3\\\\\n",
       "\t\\hline\n",
       "\t& Float64 & String & Float64\\\\\n",
       "\t\\hline\n",
       "\t1 & 12.0849 & Best & 1.53913 \\\\\n",
       "\t2 & 9.85501 & Best & 1.0313 \\\\\n",
       "\\end{tabular}\n"
      ],
      "text/plain": [
       "\u001b[1m2×3 DataFrame\u001b[0m\n",
       "\u001b[1m Row \u001b[0m│\u001b[1m x1       \u001b[0m\u001b[1m x2     \u001b[0m\u001b[1m x3      \u001b[0m\n",
       "\u001b[1m     \u001b[0m│\u001b[90m Float64  \u001b[0m\u001b[90m String \u001b[0m\u001b[90m Float64 \u001b[0m\n",
       "─────┼───────────────────────────\n",
       "   1 │ 12.0849   Best    1.53913\n",
       "   2 │  9.85501  Best    1.0313"
      ]
     },
     "execution_count": 19,
     "metadata": {},
     "output_type": "execute_result"
    }
   ],
   "source": [
    "# access 1 and 2 row\n",
    "df[[1, 2],:]"
   ]
  },
  {
   "cell_type": "code",
   "execution_count": 14,
   "id": "ec586f24",
   "metadata": {},
   "outputs": [
    {
     "data": {
      "text/plain": [
       "100-element Vector{Float64}:\n",
       " 12.08490611003397\n",
       "  9.85501457683511\n",
       " 10.311450859859754\n",
       " 11.551094264040358\n",
       "  9.257046989369766\n",
       "  7.336389054930786\n",
       "  9.619221716200741\n",
       "  9.805488898873795\n",
       "  9.58520391213277\n",
       "  9.563083963693295\n",
       " 10.243379941222175\n",
       "  9.624561433257126\n",
       "  9.213741485830313\n",
       "  ⋮\n",
       "  7.973971817272751\n",
       " 10.56056112062627\n",
       "  8.464982488780024\n",
       " 10.588874389626165\n",
       "  8.948359129039588\n",
       "  7.940261185917473\n",
       " 10.713138750436853\n",
       "  9.720608091110071\n",
       "  8.21056629329284\n",
       "  8.834375100207927\n",
       " 11.923498564520488\n",
       " 10.84695365328632"
      ]
     },
     "execution_count": 14,
     "metadata": {},
     "output_type": "execute_result"
    }
   ],
   "source": [
    "# access x1 column vector\n",
    "df[:, :x1]"
   ]
  },
  {
   "cell_type": "code",
   "execution_count": 17,
   "id": "4c3c8547",
   "metadata": {},
   "outputs": [
    {
     "data": {
      "text/html": [
       "<table class=\"data-frame\"><thead><tr><th></th><th>x1</th></tr><tr><th></th><th>Float64</th></tr></thead><tbody><p>100 rows × 1 columns</p><tr><th>1</th><td>12.0849</td></tr><tr><th>2</th><td>9.85501</td></tr><tr><th>3</th><td>10.3115</td></tr><tr><th>4</th><td>11.5511</td></tr><tr><th>5</th><td>9.25705</td></tr><tr><th>6</th><td>7.33639</td></tr><tr><th>7</th><td>9.61922</td></tr><tr><th>8</th><td>9.80549</td></tr><tr><th>9</th><td>9.5852</td></tr><tr><th>10</th><td>9.56308</td></tr><tr><th>11</th><td>10.2434</td></tr><tr><th>12</th><td>9.62456</td></tr><tr><th>13</th><td>9.21374</td></tr><tr><th>14</th><td>8.83162</td></tr><tr><th>15</th><td>11.4473</td></tr><tr><th>16</th><td>10.7824</td></tr><tr><th>17</th><td>9.72186</td></tr><tr><th>18</th><td>9.5747</td></tr><tr><th>19</th><td>7.54641</td></tr><tr><th>20</th><td>10.3795</td></tr><tr><th>21</th><td>8.13578</td></tr><tr><th>22</th><td>9.10766</td></tr><tr><th>23</th><td>10.7429</td></tr><tr><th>24</th><td>11.1207</td></tr><tr><th>25</th><td>9.1991</td></tr><tr><th>26</th><td>11.3915</td></tr><tr><th>27</th><td>10.0454</td></tr><tr><th>28</th><td>9.99314</td></tr><tr><th>29</th><td>10.0568</td></tr><tr><th>30</th><td>10.7767</td></tr><tr><th>&vellip;</th><td>&vellip;</td></tr></tbody></table>"
      ],
      "text/latex": [
       "\\begin{tabular}{r|c}\n",
       "\t& x1\\\\\n",
       "\t\\hline\n",
       "\t& Float64\\\\\n",
       "\t\\hline\n",
       "\t1 & 12.0849 \\\\\n",
       "\t2 & 9.85501 \\\\\n",
       "\t3 & 10.3115 \\\\\n",
       "\t4 & 11.5511 \\\\\n",
       "\t5 & 9.25705 \\\\\n",
       "\t6 & 7.33639 \\\\\n",
       "\t7 & 9.61922 \\\\\n",
       "\t8 & 9.80549 \\\\\n",
       "\t9 & 9.5852 \\\\\n",
       "\t10 & 9.56308 \\\\\n",
       "\t11 & 10.2434 \\\\\n",
       "\t12 & 9.62456 \\\\\n",
       "\t13 & 9.21374 \\\\\n",
       "\t14 & 8.83162 \\\\\n",
       "\t15 & 11.4473 \\\\\n",
       "\t16 & 10.7824 \\\\\n",
       "\t17 & 9.72186 \\\\\n",
       "\t18 & 9.5747 \\\\\n",
       "\t19 & 7.54641 \\\\\n",
       "\t20 & 10.3795 \\\\\n",
       "\t21 & 8.13578 \\\\\n",
       "\t22 & 9.10766 \\\\\n",
       "\t23 & 10.7429 \\\\\n",
       "\t24 & 11.1207 \\\\\n",
       "\t25 & 9.1991 \\\\\n",
       "\t26 & 11.3915 \\\\\n",
       "\t27 & 10.0454 \\\\\n",
       "\t28 & 9.99314 \\\\\n",
       "\t29 & 10.0568 \\\\\n",
       "\t30 & 10.7767 \\\\\n",
       "\t$\\dots$ & $\\dots$ \\\\\n",
       "\\end{tabular}\n"
      ],
      "text/plain": [
       "\u001b[1m100×1 DataFrame\u001b[0m\n",
       "\u001b[1m Row \u001b[0m│\u001b[1m x1       \u001b[0m\n",
       "\u001b[1m     \u001b[0m│\u001b[90m Float64  \u001b[0m\n",
       "─────┼──────────\n",
       "   1 │ 12.0849\n",
       "   2 │  9.85501\n",
       "   3 │ 10.3115\n",
       "   4 │ 11.5511\n",
       "   5 │  9.25705\n",
       "   6 │  7.33639\n",
       "   7 │  9.61922\n",
       "   8 │  9.80549\n",
       "   9 │  9.5852\n",
       "  10 │  9.56308\n",
       "  11 │ 10.2434\n",
       "  ⋮  │    ⋮\n",
       "  91 │  8.46498\n",
       "  92 │ 10.5889\n",
       "  93 │  8.94836\n",
       "  94 │  7.94026\n",
       "  95 │ 10.7131\n",
       "  96 │  9.72061\n",
       "  97 │  8.21057\n",
       "  98 │  8.83438\n",
       "  99 │ 11.9235\n",
       " 100 │ 10.847\n",
       "\u001b[36m 79 rows omitted\u001b[0m"
      ]
     },
     "execution_count": 17,
     "metadata": {},
     "output_type": "execute_result"
    }
   ],
   "source": [
    "# access x1 column dataframe\n",
    "df[:,[:x1]]"
   ]
  },
  {
   "cell_type": "code",
   "execution_count": 20,
   "id": "aae6f612",
   "metadata": {},
   "outputs": [
    {
     "data": {
      "text/html": [
       "<table class=\"data-frame\"><thead><tr><th></th><th>x1</th><th>x2</th></tr><tr><th></th><th>Float64</th><th>String</th></tr></thead><tbody><p>100 rows × 2 columns</p><tr><th>1</th><td>12.0849</td><td>Best</td></tr><tr><th>2</th><td>9.85501</td><td>Best</td></tr><tr><th>3</th><td>10.3115</td><td>Better</td></tr><tr><th>4</th><td>11.5511</td><td>Best</td></tr><tr><th>5</th><td>9.25705</td><td>Better</td></tr><tr><th>6</th><td>7.33639</td><td>Better</td></tr><tr><th>7</th><td>9.61922</td><td>Good</td></tr><tr><th>8</th><td>9.80549</td><td>Good</td></tr><tr><th>9</th><td>9.5852</td><td>Better</td></tr><tr><th>10</th><td>9.56308</td><td>Good</td></tr><tr><th>11</th><td>10.2434</td><td>Good</td></tr><tr><th>12</th><td>9.62456</td><td>Better</td></tr><tr><th>13</th><td>9.21374</td><td>Good</td></tr><tr><th>14</th><td>8.83162</td><td>Better</td></tr><tr><th>15</th><td>11.4473</td><td>Better</td></tr><tr><th>16</th><td>10.7824</td><td>Best</td></tr><tr><th>17</th><td>9.72186</td><td>Better</td></tr><tr><th>18</th><td>9.5747</td><td>Good</td></tr><tr><th>19</th><td>7.54641</td><td>Good</td></tr><tr><th>20</th><td>10.3795</td><td>Best</td></tr><tr><th>21</th><td>8.13578</td><td>Better</td></tr><tr><th>22</th><td>9.10766</td><td>Good</td></tr><tr><th>23</th><td>10.7429</td><td>Best</td></tr><tr><th>24</th><td>11.1207</td><td>Better</td></tr><tr><th>25</th><td>9.1991</td><td>Better</td></tr><tr><th>26</th><td>11.3915</td><td>Better</td></tr><tr><th>27</th><td>10.0454</td><td>Good</td></tr><tr><th>28</th><td>9.99314</td><td>Best</td></tr><tr><th>29</th><td>10.0568</td><td>Better</td></tr><tr><th>30</th><td>10.7767</td><td>Better</td></tr><tr><th>&vellip;</th><td>&vellip;</td><td>&vellip;</td></tr></tbody></table>"
      ],
      "text/latex": [
       "\\begin{tabular}{r|cc}\n",
       "\t& x1 & x2\\\\\n",
       "\t\\hline\n",
       "\t& Float64 & String\\\\\n",
       "\t\\hline\n",
       "\t1 & 12.0849 & Best \\\\\n",
       "\t2 & 9.85501 & Best \\\\\n",
       "\t3 & 10.3115 & Better \\\\\n",
       "\t4 & 11.5511 & Best \\\\\n",
       "\t5 & 9.25705 & Better \\\\\n",
       "\t6 & 7.33639 & Better \\\\\n",
       "\t7 & 9.61922 & Good \\\\\n",
       "\t8 & 9.80549 & Good \\\\\n",
       "\t9 & 9.5852 & Better \\\\\n",
       "\t10 & 9.56308 & Good \\\\\n",
       "\t11 & 10.2434 & Good \\\\\n",
       "\t12 & 9.62456 & Better \\\\\n",
       "\t13 & 9.21374 & Good \\\\\n",
       "\t14 & 8.83162 & Better \\\\\n",
       "\t15 & 11.4473 & Better \\\\\n",
       "\t16 & 10.7824 & Best \\\\\n",
       "\t17 & 9.72186 & Better \\\\\n",
       "\t18 & 9.5747 & Good \\\\\n",
       "\t19 & 7.54641 & Good \\\\\n",
       "\t20 & 10.3795 & Best \\\\\n",
       "\t21 & 8.13578 & Better \\\\\n",
       "\t22 & 9.10766 & Good \\\\\n",
       "\t23 & 10.7429 & Best \\\\\n",
       "\t24 & 11.1207 & Better \\\\\n",
       "\t25 & 9.1991 & Better \\\\\n",
       "\t26 & 11.3915 & Better \\\\\n",
       "\t27 & 10.0454 & Good \\\\\n",
       "\t28 & 9.99314 & Best \\\\\n",
       "\t29 & 10.0568 & Better \\\\\n",
       "\t30 & 10.7767 & Better \\\\\n",
       "\t$\\dots$ & $\\dots$ & $\\dots$ \\\\\n",
       "\\end{tabular}\n"
      ],
      "text/plain": [
       "\u001b[1m100×2 DataFrame\u001b[0m\n",
       "\u001b[1m Row \u001b[0m│\u001b[1m x1       \u001b[0m\u001b[1m x2     \u001b[0m\n",
       "\u001b[1m     \u001b[0m│\u001b[90m Float64  \u001b[0m\u001b[90m String \u001b[0m\n",
       "─────┼──────────────────\n",
       "   1 │ 12.0849   Best\n",
       "   2 │  9.85501  Best\n",
       "   3 │ 10.3115   Better\n",
       "   4 │ 11.5511   Best\n",
       "   5 │  9.25705  Better\n",
       "   6 │  7.33639  Better\n",
       "   7 │  9.61922  Good\n",
       "   8 │  9.80549  Good\n",
       "   9 │  9.5852   Better\n",
       "  10 │  9.56308  Good\n",
       "  11 │ 10.2434   Good\n",
       "  ⋮  │    ⋮        ⋮\n",
       "  91 │  8.46498  Better\n",
       "  92 │ 10.5889   Better\n",
       "  93 │  8.94836  Better\n",
       "  94 │  7.94026  Good\n",
       "  95 │ 10.7131   Best\n",
       "  96 │  9.72061  Better\n",
       "  97 │  8.21057  Best\n",
       "  98 │  8.83438  Better\n",
       "  99 │ 11.9235   Better\n",
       " 100 │ 10.847    Better\n",
       "\u001b[36m         79 rows omitted\u001b[0m"
      ]
     },
     "execution_count": 20,
     "metadata": {},
     "output_type": "execute_result"
    }
   ],
   "source": [
    "# access column x1 and x2\n",
    "df[:, [:x1, :x2]]"
   ]
  },
  {
   "cell_type": "code",
   "execution_count": null,
   "id": "4f6ce5c9",
   "metadata": {},
   "outputs": [],
   "source": []
  }
 ],
 "metadata": {
  "kernelspec": {
   "display_name": "Julia 1.6.1",
   "language": "julia",
   "name": "julia-1.6"
  },
  "language_info": {
   "file_extension": ".jl",
   "mimetype": "application/julia",
   "name": "julia",
   "version": "1.6.1"
  }
 },
 "nbformat": 4,
 "nbformat_minor": 5
}
