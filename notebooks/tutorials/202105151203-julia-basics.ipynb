{
 "cells": [
  {
   "cell_type": "markdown",
   "id": "90513dcd",
   "metadata": {},
   "source": [
    "# Julia Basics"
   ]
  },
  {
   "cell_type": "markdown",
   "id": "81d8138f",
   "metadata": {},
   "source": [
    "## Variables"
   ]
  },
  {
   "cell_type": "code",
   "execution_count": 1,
   "id": "77548746",
   "metadata": {},
   "outputs": [
    {
     "data": {
      "text/plain": [
       "(99, Int64)"
      ]
     },
     "execution_count": 1,
     "metadata": {},
     "output_type": "execute_result"
    }
   ],
   "source": [
    "x = 99\n",
    "x, typeof(x)"
   ]
  },
  {
   "cell_type": "code",
   "execution_count": 2,
   "id": "4234ac51",
   "metadata": {},
   "outputs": [
    {
     "data": {
      "text/plain": [
       "(10.0, Float64)"
      ]
     },
     "execution_count": 2,
     "metadata": {},
     "output_type": "execute_result"
    }
   ],
   "source": [
    "y = 10.0\n",
    "y, typeof(y)"
   ]
  },
  {
   "cell_type": "code",
   "execution_count": 3,
   "id": "bb9ed84d",
   "metadata": {},
   "outputs": [
    {
     "data": {
      "text/plain": [
       "(\"Data Science\", String)"
      ]
     },
     "execution_count": 3,
     "metadata": {},
     "output_type": "execute_result"
    }
   ],
   "source": [
    "s = \"Data Science\"\n",
    "s, typeof(s)"
   ]
  },
  {
   "cell_type": "code",
   "execution_count": 4,
   "id": "b8b93f26",
   "metadata": {},
   "outputs": [
    {
     "data": {
      "text/plain": [
       "(true, Bool)"
      ]
     },
     "execution_count": 4,
     "metadata": {},
     "output_type": "execute_result"
    }
   ],
   "source": [
    "t = true\n",
    "t, typeof(t)"
   ]
  },
  {
   "cell_type": "markdown",
   "id": "c6f6a7ad",
   "metadata": {},
   "source": [
    "## Operators"
   ]
  },
  {
   "cell_type": "code",
   "execution_count": 5,
   "id": "8495dc93",
   "metadata": {},
   "outputs": [
    {
     "data": {
      "text/plain": [
       "(2, 3, 4)"
      ]
     },
     "execution_count": 5,
     "metadata": {},
     "output_type": "execute_result"
    }
   ],
   "source": [
    "p = 2\n",
    "q = 3\n",
    "r = 4\n",
    "p, q, r"
   ]
  },
  {
   "cell_type": "markdown",
   "id": "2493f6cd",
   "metadata": {},
   "source": [
    "### Arithmetic Operators"
   ]
  },
  {
   "cell_type": "code",
   "execution_count": 6,
   "id": "95b91f5c",
   "metadata": {},
   "outputs": [
    {
     "data": {
      "text/plain": [
       "2.0"
      ]
     },
     "execution_count": 6,
     "metadata": {},
     "output_type": "execute_result"
    }
   ],
   "source": [
    "r / p"
   ]
  },
  {
   "cell_type": "code",
   "execution_count": 7,
   "id": "ba92c7c2",
   "metadata": {},
   "outputs": [
    {
     "data": {
      "text/plain": [
       "6"
      ]
     },
     "execution_count": 7,
     "metadata": {},
     "output_type": "execute_result"
    }
   ],
   "source": [
    "p * q"
   ]
  },
  {
   "cell_type": "code",
   "execution_count": 8,
   "id": "3437ea54",
   "metadata": {},
   "outputs": [
    {
     "data": {
      "text/plain": [
       "5"
      ]
     },
     "execution_count": 8,
     "metadata": {},
     "output_type": "execute_result"
    }
   ],
   "source": [
    "p + q"
   ]
  },
  {
   "cell_type": "code",
   "execution_count": 9,
   "id": "4ced6790",
   "metadata": {},
   "outputs": [
    {
     "data": {
      "text/plain": [
       "1"
      ]
     },
     "execution_count": 9,
     "metadata": {},
     "output_type": "execute_result"
    }
   ],
   "source": [
    "r - q"
   ]
  },
  {
   "cell_type": "code",
   "execution_count": 10,
   "id": "d40e309d",
   "metadata": {},
   "outputs": [
    {
     "data": {
      "text/plain": [
       "-1"
      ]
     },
     "execution_count": 10,
     "metadata": {},
     "output_type": "execute_result"
    }
   ],
   "source": [
    "q - r"
   ]
  },
  {
   "cell_type": "code",
   "execution_count": 11,
   "id": "c3324aff",
   "metadata": {},
   "outputs": [
    {
     "data": {
      "text/plain": [
       "9"
      ]
     },
     "execution_count": 11,
     "metadata": {},
     "output_type": "execute_result"
    }
   ],
   "source": [
    "q ^ p"
   ]
  },
  {
   "cell_type": "markdown",
   "id": "60cec173",
   "metadata": {},
   "source": [
    "### Comparison Operators"
   ]
  },
  {
   "cell_type": "code",
   "execution_count": 12,
   "id": "9661fe6f",
   "metadata": {},
   "outputs": [
    {
     "data": {
      "text/plain": [
       "true"
      ]
     },
     "execution_count": 12,
     "metadata": {},
     "output_type": "execute_result"
    }
   ],
   "source": [
    "p == p"
   ]
  },
  {
   "cell_type": "code",
   "execution_count": 13,
   "id": "e59d60a4",
   "metadata": {},
   "outputs": [
    {
     "data": {
      "text/plain": [
       "false"
      ]
     },
     "execution_count": 13,
     "metadata": {},
     "output_type": "execute_result"
    }
   ],
   "source": [
    "p == q"
   ]
  },
  {
   "cell_type": "code",
   "execution_count": 14,
   "id": "c388e2bc",
   "metadata": {},
   "outputs": [
    {
     "data": {
      "text/plain": [
       "true"
      ]
     },
     "execution_count": 14,
     "metadata": {},
     "output_type": "execute_result"
    }
   ],
   "source": [
    "p != q"
   ]
  },
  {
   "cell_type": "code",
   "execution_count": 15,
   "id": "8776d7b7",
   "metadata": {},
   "outputs": [
    {
     "data": {
      "text/plain": [
       "false"
      ]
     },
     "execution_count": 15,
     "metadata": {},
     "output_type": "execute_result"
    }
   ],
   "source": [
    "p >= q"
   ]
  },
  {
   "cell_type": "code",
   "execution_count": 16,
   "id": "b2d4e8e1",
   "metadata": {},
   "outputs": [
    {
     "data": {
      "text/plain": [
       "false"
      ]
     },
     "execution_count": 16,
     "metadata": {},
     "output_type": "execute_result"
    }
   ],
   "source": [
    "p > q"
   ]
  },
  {
   "cell_type": "code",
   "execution_count": 17,
   "id": "581f4640",
   "metadata": {},
   "outputs": [
    {
     "data": {
      "text/plain": [
       "true"
      ]
     },
     "execution_count": 17,
     "metadata": {},
     "output_type": "execute_result"
    }
   ],
   "source": [
    "p <= q"
   ]
  },
  {
   "cell_type": "code",
   "execution_count": 18,
   "id": "35721cc6",
   "metadata": {},
   "outputs": [
    {
     "data": {
      "text/plain": [
       "true"
      ]
     },
     "execution_count": 18,
     "metadata": {},
     "output_type": "execute_result"
    }
   ],
   "source": [
    "p < q"
   ]
  },
  {
   "cell_type": "markdown",
   "id": "1854a0ac",
   "metadata": {},
   "source": [
    "## Data Types"
   ]
  },
  {
   "cell_type": "markdown",
   "id": "3531d806",
   "metadata": {},
   "source": [
    "### Integers"
   ]
  },
  {
   "cell_type": "code",
   "execution_count": 19,
   "id": "59727dc1",
   "metadata": {},
   "outputs": [
    {
     "data": {
      "text/plain": [
       "(16, Int16, 32767)"
      ]
     },
     "execution_count": 19,
     "metadata": {},
     "output_type": "execute_result"
    }
   ],
   "source": [
    "int_16 = Int16(16)\n",
    "int_16, typeof(int_16), typemax(Int16)"
   ]
  },
  {
   "cell_type": "code",
   "execution_count": 20,
   "id": "4efdfd20",
   "metadata": {},
   "outputs": [
    {
     "data": {
      "text/plain": [
       "(32, Int32, 2147483647)"
      ]
     },
     "execution_count": 20,
     "metadata": {},
     "output_type": "execute_result"
    }
   ],
   "source": [
    "int_32 = Int32(32)\n",
    "int_32, typeof(int_32), typemax(Int32)"
   ]
  },
  {
   "cell_type": "code",
   "execution_count": 21,
   "id": "d04bcc0d",
   "metadata": {},
   "outputs": [
    {
     "data": {
      "text/plain": [
       "(64, Int64, 9223372036854775807)"
      ]
     },
     "execution_count": 21,
     "metadata": {},
     "output_type": "execute_result"
    }
   ],
   "source": [
    "int_64 = Int64(64)\n",
    "int_64, typeof(int_64), typemax(Int64)"
   ]
  },
  {
   "cell_type": "code",
   "execution_count": 22,
   "id": "c0a9c1af",
   "metadata": {},
   "outputs": [
    {
     "data": {
      "text/plain": [
       "(128, Int64, 170141183460469231731687303715884105727)"
      ]
     },
     "execution_count": 22,
     "metadata": {},
     "output_type": "execute_result"
    }
   ],
   "source": [
    "int_128 = Int64(128)\n",
    "int_128, typeof(int_128), typemax(Int128)"
   ]
  },
  {
   "cell_type": "markdown",
   "id": "4dce8190",
   "metadata": {},
   "source": [
    "### Floats"
   ]
  },
  {
   "cell_type": "code",
   "execution_count": 23,
   "id": "983f50bb",
   "metadata": {},
   "outputs": [
    {
     "data": {
      "text/plain": [
       "(Float16(16.0), Float16, Inf16)"
      ]
     },
     "execution_count": 23,
     "metadata": {},
     "output_type": "execute_result"
    }
   ],
   "source": [
    "float_16 = Float16(16.0)\n",
    "float_16, typeof(float_16), typemax(Float16)"
   ]
  },
  {
   "cell_type": "code",
   "execution_count": 24,
   "id": "80f11b5c",
   "metadata": {},
   "outputs": [
    {
     "data": {
      "text/plain": [
       "(32.0f0, Float32, Inf32)"
      ]
     },
     "execution_count": 24,
     "metadata": {},
     "output_type": "execute_result"
    }
   ],
   "source": [
    "float_32 = Float32(32.0)\n",
    "float_32, typeof(float_32), typemax(Float32)"
   ]
  },
  {
   "cell_type": "code",
   "execution_count": 25,
   "id": "f5c1b303",
   "metadata": {},
   "outputs": [
    {
     "data": {
      "text/plain": [
       "(64.0, Float64, Inf)"
      ]
     },
     "execution_count": 25,
     "metadata": {},
     "output_type": "execute_result"
    }
   ],
   "source": [
    "float_64 = Float64(64.0)\n",
    "float_64, typeof(float_64), typemax(Float64)"
   ]
  },
  {
   "cell_type": "markdown",
   "id": "a8cfec05",
   "metadata": {},
   "source": [
    "### Numeric Checks"
   ]
  },
  {
   "cell_type": "code",
   "execution_count": 26,
   "id": "6ddcc668",
   "metadata": {},
   "outputs": [
    {
     "data": {
      "text/plain": [
       "true"
      ]
     },
     "execution_count": 26,
     "metadata": {},
     "output_type": "execute_result"
    }
   ],
   "source": [
    "isinf(1/0)"
   ]
  },
  {
   "cell_type": "code",
   "execution_count": 27,
   "id": "bc0d5d49",
   "metadata": {},
   "outputs": [
    {
     "data": {
      "text/plain": [
       "true"
      ]
     },
     "execution_count": 27,
     "metadata": {},
     "output_type": "execute_result"
    }
   ],
   "source": [
    "isinf(-1/0)"
   ]
  },
  {
   "cell_type": "code",
   "execution_count": 28,
   "id": "07114ebf",
   "metadata": {},
   "outputs": [
    {
     "data": {
      "text/plain": [
       "true"
      ]
     },
     "execution_count": 28,
     "metadata": {},
     "output_type": "execute_result"
    }
   ],
   "source": [
    "isnan(0/0)"
   ]
  },
  {
   "cell_type": "markdown",
   "id": "395a1e60",
   "metadata": {},
   "source": [
    "### Strings"
   ]
  },
  {
   "cell_type": "code",
   "execution_count": 29,
   "id": "32eb59f2",
   "metadata": {},
   "outputs": [
    {
     "data": {
      "text/plain": [
       "\"Data Science\""
      ]
     },
     "execution_count": 29,
     "metadata": {},
     "output_type": "execute_result"
    }
   ],
   "source": [
    "s1 = \"Data Science\""
   ]
  },
  {
   "cell_type": "code",
   "execution_count": 30,
   "id": "76aa9486",
   "metadata": {},
   "outputs": [
    {
     "data": {
      "text/plain": [
       "\"I'm learning Data Science\""
      ]
     },
     "execution_count": 30,
     "metadata": {},
     "output_type": "execute_result"
    }
   ],
   "source": [
    "s2 = \"I'm learning Data Science\""
   ]
  },
  {
   "cell_type": "code",
   "execution_count": 31,
   "id": "bf0fad8d",
   "metadata": {},
   "outputs": [
    {
     "data": {
      "text/plain": [
       "'I': ASCII/Unicode U+0049 (category Lu: Letter, uppercase)"
      ]
     },
     "execution_count": 31,
     "metadata": {},
     "output_type": "execute_result"
    }
   ],
   "source": [
    "s2[1]"
   ]
  },
  {
   "cell_type": "code",
   "execution_count": 32,
   "id": "727cc0cd",
   "metadata": {},
   "outputs": [
    {
     "data": {
      "text/plain": [
       "'e': ASCII/Unicode U+0065 (category Ll: Letter, lowercase)"
      ]
     },
     "execution_count": 32,
     "metadata": {},
     "output_type": "execute_result"
    }
   ],
   "source": [
    "s2[end]"
   ]
  },
  {
   "cell_type": "code",
   "execution_count": 33,
   "id": "9808d110",
   "metadata": {},
   "outputs": [
    {
     "data": {
      "text/plain": [
       "\"'m le\""
      ]
     },
     "execution_count": 33,
     "metadata": {},
     "output_type": "execute_result"
    }
   ],
   "source": [
    "s2[2:6]"
   ]
  },
  {
   "cell_type": "code",
   "execution_count": 34,
   "id": "ac82257e",
   "metadata": {},
   "outputs": [
    {
     "data": {
      "text/plain": [
       "\"Science\""
      ]
     },
     "execution_count": 34,
     "metadata": {},
     "output_type": "execute_result"
    }
   ],
   "source": [
    "s2[end-6:end]"
   ]
  },
  {
   "cell_type": "code",
   "execution_count": 35,
   "id": "123c3971",
   "metadata": {},
   "outputs": [
    {
     "data": {
      "text/plain": [
       "\"I'm learning Data Science. It's fun!\""
      ]
     },
     "execution_count": 35,
     "metadata": {},
     "output_type": "execute_result"
    }
   ],
   "source": [
    "s2 * \". It's fun!\""
   ]
  },
  {
   "cell_type": "code",
   "execution_count": 36,
   "id": "2a4a13a1",
   "metadata": {},
   "outputs": [
    {
     "data": {
      "text/plain": [
       "\"1 + 2 = 3\""
      ]
     },
     "execution_count": 36,
     "metadata": {},
     "output_type": "execute_result"
    }
   ],
   "source": [
    "\"1 + 2 = $(1 + 2)\""
   ]
  },
  {
   "cell_type": "code",
   "execution_count": 37,
   "id": "2d3f1d44",
   "metadata": {},
   "outputs": [
    {
     "data": {
      "text/plain": [
       "\"99 + 10.0 = 109.0\""
      ]
     },
     "execution_count": 37,
     "metadata": {},
     "output_type": "execute_result"
    }
   ],
   "source": [
    "\"$x + $y = $(x + y)\""
   ]
  },
  {
   "cell_type": "code",
   "execution_count": 38,
   "id": "d326f8ba",
   "metadata": {},
   "outputs": [
    {
     "data": {
      "text/plain": [
       "25"
      ]
     },
     "execution_count": 38,
     "metadata": {},
     "output_type": "execute_result"
    }
   ],
   "source": [
    "length(s2)"
   ]
  },
  {
   "cell_type": "code",
   "execution_count": 39,
   "id": "4bae54f5",
   "metadata": {},
   "outputs": [
    {
     "data": {
      "text/plain": [
       "14:17"
      ]
     },
     "execution_count": 39,
     "metadata": {},
     "output_type": "execute_result"
    }
   ],
   "source": [
    "findfirst(\"Data\", s2)"
   ]
  },
  {
   "cell_type": "code",
   "execution_count": 40,
   "id": "4ba66b91",
   "metadata": {},
   "outputs": [
    {
     "data": {
      "text/plain": [
       "(\"pqrs\", \"pqrt\")"
      ]
     },
     "execution_count": 40,
     "metadata": {},
     "output_type": "execute_result"
    }
   ],
   "source": [
    "s3 = \"pqrs\"\n",
    "s4 = \"pqrt\"\n",
    "s3, s4"
   ]
  },
  {
   "cell_type": "code",
   "execution_count": 41,
   "id": "44fc08b8",
   "metadata": {},
   "outputs": [
    {
     "data": {
      "text/plain": [
       "false"
      ]
     },
     "execution_count": 41,
     "metadata": {},
     "output_type": "execute_result"
    }
   ],
   "source": [
    "s3 == s4"
   ]
  },
  {
   "cell_type": "code",
   "execution_count": 42,
   "id": "f000f6bc",
   "metadata": {},
   "outputs": [
    {
     "data": {
      "text/plain": [
       "false"
      ]
     },
     "execution_count": 42,
     "metadata": {},
     "output_type": "execute_result"
    }
   ],
   "source": [
    "s3 > s4"
   ]
  },
  {
   "cell_type": "code",
   "execution_count": 43,
   "id": "025e2cd1",
   "metadata": {},
   "outputs": [
    {
     "data": {
      "text/plain": [
       "true"
      ]
     },
     "execution_count": 43,
     "metadata": {},
     "output_type": "execute_result"
    }
   ],
   "source": [
    "s3 < s4"
   ]
  },
  {
   "cell_type": "markdown",
   "id": "006d5ddc",
   "metadata": {},
   "source": [
    "### Tuples"
   ]
  },
  {
   "cell_type": "code",
   "execution_count": 44,
   "id": "a8469d9d",
   "metadata": {},
   "outputs": [
    {
     "data": {
      "text/plain": [
       "((1, 2, 3, 4), NTuple{4, Int64})"
      ]
     },
     "execution_count": 44,
     "metadata": {},
     "output_type": "execute_result"
    }
   ],
   "source": [
    "t1 = (1, 2, 3, 4)\n",
    "t1, typeof(t1)"
   ]
  },
  {
   "cell_type": "code",
   "execution_count": 45,
   "id": "8833158c",
   "metadata": {},
   "outputs": [
    {
     "data": {
      "text/plain": [
       "((\"Data\", 1, 2.0), Tuple{String, Int64, Float64})"
      ]
     },
     "execution_count": 45,
     "metadata": {},
     "output_type": "execute_result"
    }
   ],
   "source": [
    "t2 = (\"Data\", 1, 2.0)\n",
    "t2, typeof(t2)"
   ]
  },
  {
   "cell_type": "code",
   "execution_count": 46,
   "id": "7ba718de",
   "metadata": {},
   "outputs": [
    {
     "data": {
      "text/plain": [
       "\"Data\""
      ]
     },
     "execution_count": 46,
     "metadata": {},
     "output_type": "execute_result"
    }
   ],
   "source": [
    "u, v, w = t2\n",
    "u"
   ]
  },
  {
   "cell_type": "markdown",
   "id": "c957df6d",
   "metadata": {},
   "source": [
    "### Arrays"
   ]
  },
  {
   "cell_type": "code",
   "execution_count": 47,
   "id": "1c51b8a9",
   "metadata": {},
   "outputs": [
    {
     "data": {
      "text/plain": [
       "([140657856251184, 140657856251104, 140657853053888], Vector{Int64})"
      ]
     },
     "execution_count": 47,
     "metadata": {},
     "output_type": "execute_result"
    }
   ],
   "source": [
    "a1 = Array{Int64}(undef, 3) # vector of length 3\n",
    "a1, typeof(a1)"
   ]
  },
  {
   "cell_type": "code",
   "execution_count": 48,
   "id": "bb063460",
   "metadata": {},
   "outputs": [
    {
     "data": {
      "text/plain": [
       "([140658581916000 140658487799840; 140658582655744 140658581916016; 140657812709680 140658487767216], Matrix{Int64})"
      ]
     },
     "execution_count": 48,
     "metadata": {},
     "output_type": "execute_result"
    }
   ],
   "source": [
    "a2 = Array{Int64}(undef, (3,2)) # 3 x 2 matrix\n",
    "a2, typeof(a2)"
   ]
  },
  {
   "cell_type": "code",
   "execution_count": 49,
   "id": "95a21afa",
   "metadata": {},
   "outputs": [
    {
     "data": {
      "text/plain": [
       "3-element Vector{Int64}:\n",
       " 1\n",
       " 2\n",
       " 3"
      ]
     },
     "execution_count": 49,
     "metadata": {},
     "output_type": "execute_result"
    }
   ],
   "source": [
    "a3 = [1,2,3]\n",
    "a3"
   ]
  },
  {
   "cell_type": "code",
   "execution_count": 50,
   "id": "0fc7a410",
   "metadata": {},
   "outputs": [
    {
     "data": {
      "text/plain": [
       "1×3 Matrix{Int64}:\n",
       " 1  2  3"
      ]
     },
     "execution_count": 50,
     "metadata": {},
     "output_type": "execute_result"
    }
   ],
   "source": [
    "a4 = [1 2 3]"
   ]
  },
  {
   "cell_type": "code",
   "execution_count": 51,
   "id": "6f25bbd0",
   "metadata": {},
   "outputs": [
    {
     "data": {
      "text/plain": [
       "2×3 Matrix{Int64}:\n",
       " 1  2  3\n",
       " 4  5  6"
      ]
     },
     "execution_count": 51,
     "metadata": {},
     "output_type": "execute_result"
    }
   ],
   "source": [
    "a5 = [1 2 3 ; 4 5 6]"
   ]
  },
  {
   "cell_type": "code",
   "execution_count": 52,
   "id": "f8c0732c",
   "metadata": {},
   "outputs": [
    {
     "data": {
      "text/plain": [
       "3×3 Matrix{Int64}:\n",
       " 1  2  3\n",
       " 4  5  6\n",
       " 7  8  9"
      ]
     },
     "execution_count": 52,
     "metadata": {},
     "output_type": "execute_result"
    }
   ],
   "source": [
    "a6 = [1 2 3 ; 4 5 6 ; 7 8 9]"
   ]
  },
  {
   "cell_type": "code",
   "execution_count": 53,
   "id": "c1262651",
   "metadata": {},
   "outputs": [
    {
     "data": {
      "text/plain": [
       "2×2 Matrix{Float64}:\n",
       " 0.0  0.0\n",
       " 0.0  0.0"
      ]
     },
     "execution_count": 53,
     "metadata": {},
     "output_type": "execute_result"
    }
   ],
   "source": [
    "zeros((2,2))"
   ]
  },
  {
   "cell_type": "code",
   "execution_count": 54,
   "id": "fb1961e5",
   "metadata": {},
   "outputs": [
    {
     "data": {
      "text/plain": [
       "2×2 Matrix{Float64}:\n",
       " 0.0  0.0\n",
       " 0.0  0.0"
      ]
     },
     "execution_count": 54,
     "metadata": {},
     "output_type": "execute_result"
    }
   ],
   "source": [
    "zeros(Float64, (2,2))"
   ]
  },
  {
   "cell_type": "code",
   "execution_count": 55,
   "id": "d927e249",
   "metadata": {},
   "outputs": [
    {
     "data": {
      "text/plain": [
       "2×2 Matrix{Float64}:\n",
       " 1.0  1.0\n",
       " 1.0  1.0"
      ]
     },
     "execution_count": 55,
     "metadata": {},
     "output_type": "execute_result"
    }
   ],
   "source": [
    "ones((2,2))"
   ]
  },
  {
   "cell_type": "code",
   "execution_count": 56,
   "id": "1e6cdeda",
   "metadata": {},
   "outputs": [
    {
     "data": {
      "text/plain": [
       "2×2 Matrix{Float64}:\n",
       " 1.0  1.0\n",
       " 1.0  1.0"
      ]
     },
     "execution_count": 56,
     "metadata": {},
     "output_type": "execute_result"
    }
   ],
   "source": [
    "ones(Float64, (2,2))"
   ]
  },
  {
   "cell_type": "code",
   "execution_count": 57,
   "id": "b30edb19",
   "metadata": {},
   "outputs": [
    {
     "data": {
      "text/plain": [
       "2×2 Matrix{Int64}:\n",
       "  515948280827261223  2718871008090965116\n",
       " 1435386932706634617   -56964128202180136"
      ]
     },
     "execution_count": 57,
     "metadata": {},
     "output_type": "execute_result"
    }
   ],
   "source": [
    "rand(Int64, (2,2))"
   ]
  },
  {
   "cell_type": "code",
   "execution_count": 58,
   "id": "b981a2f7",
   "metadata": {},
   "outputs": [
    {
     "data": {
      "text/plain": [
       "2×2 Matrix{Float64}:\n",
       " -0.0287054   1.70701\n",
       "  0.834892   -0.275577"
      ]
     },
     "execution_count": 58,
     "metadata": {},
     "output_type": "execute_result"
    }
   ],
   "source": [
    "randn((2,2))"
   ]
  },
  {
   "cell_type": "markdown",
   "id": "b558b8ea",
   "metadata": {},
   "source": [
    "### Dictionaries"
   ]
  },
  {
   "cell_type": "code",
   "execution_count": 59,
   "id": "717a8e00",
   "metadata": {},
   "outputs": [
    {
     "data": {
      "text/plain": [
       "Dict{String, Int64} with 2 entries:\n",
       "  \"id\"  => 100\n",
       "  \"age\" => 24"
      ]
     },
     "execution_count": 59,
     "metadata": {},
     "output_type": "execute_result"
    }
   ],
   "source": [
    "d0 = Dict(\"id\" => 100, \"age\" => 24)"
   ]
  },
  {
   "cell_type": "code",
   "execution_count": 60,
   "id": "ff8ee61b",
   "metadata": {},
   "outputs": [
    {
     "data": {
      "text/plain": [
       "100"
      ]
     },
     "execution_count": 60,
     "metadata": {},
     "output_type": "execute_result"
    }
   ],
   "source": [
    "d0[\"id\"]"
   ]
  },
  {
   "cell_type": "code",
   "execution_count": 61,
   "id": "2814405a",
   "metadata": {},
   "outputs": [
    {
     "data": {
      "text/plain": [
       "24"
      ]
     },
     "execution_count": 61,
     "metadata": {},
     "output_type": "execute_result"
    }
   ],
   "source": [
    "d0[\"age\"]"
   ]
  },
  {
   "cell_type": "code",
   "execution_count": 62,
   "id": "949e5972",
   "metadata": {},
   "outputs": [
    {
     "data": {
      "text/plain": [
       "Dict{String, Int64} with 3 entries:\n",
       "  \"id\"    => 100\n",
       "  \"age\"   => 24\n",
       "  \"level\" => 1"
      ]
     },
     "execution_count": 62,
     "metadata": {},
     "output_type": "execute_result"
    }
   ],
   "source": [
    "d0[\"level\"] = 1\n",
    "d0"
   ]
  },
  {
   "cell_type": "code",
   "execution_count": 63,
   "id": "a8f1d998",
   "metadata": {},
   "outputs": [
    {
     "data": {
      "text/plain": [
       "true"
      ]
     },
     "execution_count": 63,
     "metadata": {},
     "output_type": "execute_result"
    }
   ],
   "source": [
    "haskey(d0, \"id\")"
   ]
  },
  {
   "cell_type": "code",
   "execution_count": 64,
   "id": "8dbc6d2b",
   "metadata": {},
   "outputs": [
    {
     "data": {
      "text/plain": [
       "Dict{String, Int64} with 2 entries:\n",
       "  \"id\"  => 100\n",
       "  \"age\" => 24"
      ]
     },
     "execution_count": 64,
     "metadata": {},
     "output_type": "execute_result"
    }
   ],
   "source": [
    "delete!(d0, \"level\")\n",
    "d0"
   ]
  },
  {
   "cell_type": "markdown",
   "id": "c7785539",
   "metadata": {},
   "source": [
    "## Control Flow"
   ]
  },
  {
   "cell_type": "markdown",
   "id": "6ae11706",
   "metadata": {},
   "source": [
    "### Compound Expressions"
   ]
  },
  {
   "cell_type": "code",
   "execution_count": 65,
   "id": "f0c9578e",
   "metadata": {},
   "outputs": [
    {
     "data": {
      "text/plain": [
       "20"
      ]
     },
     "execution_count": 65,
     "metadata": {},
     "output_type": "execute_result"
    }
   ],
   "source": [
    "c0 = begin\n",
    "    j = 10\n",
    "    k = 2\n",
    "    j * k\n",
    "end\n",
    "c0"
   ]
  },
  {
   "cell_type": "code",
   "execution_count": 66,
   "id": "07352ae2",
   "metadata": {},
   "outputs": [
    {
     "data": {
      "text/plain": [
       "20"
      ]
     },
     "execution_count": 66,
     "metadata": {},
     "output_type": "execute_result"
    }
   ],
   "source": [
    "c1 = (j = 10; k = 2; j * k)\n",
    "c1"
   ]
  },
  {
   "cell_type": "markdown",
   "id": "c83d62c4",
   "metadata": {},
   "source": [
    "### Conditional Evaluation"
   ]
  },
  {
   "cell_type": "code",
   "execution_count": 74,
   "id": "cb0b7f09",
   "metadata": {},
   "outputs": [
    {
     "data": {
      "text/plain": [
       "\"two\""
      ]
     },
     "execution_count": 74,
     "metadata": {},
     "output_type": "execute_result"
    }
   ],
   "source": [
    "if k == 2\n",
    "    \"two\"\n",
    "end"
   ]
  },
  {
   "cell_type": "code",
   "execution_count": 75,
   "id": "1a67f860",
   "metadata": {},
   "outputs": [
    {
     "data": {
      "text/plain": [
       "\"two\""
      ]
     },
     "execution_count": 75,
     "metadata": {},
     "output_type": "execute_result"
    }
   ],
   "source": [
    "if k == 2\n",
    "    \"two\"\n",
    "else\n",
    "    \"not two\"\n",
    "end"
   ]
  },
  {
   "cell_type": "code",
   "execution_count": 76,
   "id": "5ef10dfe",
   "metadata": {},
   "outputs": [
    {
     "data": {
      "text/plain": [
       "\"two\""
      ]
     },
     "execution_count": 76,
     "metadata": {},
     "output_type": "execute_result"
    }
   ],
   "source": [
    "k == 2 ? \"two\" : \"not two\""
   ]
  },
  {
   "cell_type": "markdown",
   "id": "aa6c403b",
   "metadata": {},
   "source": [
    "### Loops"
   ]
  },
  {
   "cell_type": "markdown",
   "id": "9f0e0b79",
   "metadata": {},
   "source": [
    "#### Basics"
   ]
  },
  {
   "cell_type": "code",
   "execution_count": 79,
   "id": "a772e231",
   "metadata": {},
   "outputs": [
    {
     "name": "stdout",
     "output_type": "stream",
     "text": [
      "J\n",
      "u\n",
      "l\n",
      "i\n",
      "a\n"
     ]
    }
   ],
   "source": [
    "s5 = \"Julia\"\n",
    "\n",
    "for str in s5\n",
    "    println(str)\n",
    "end"
   ]
  },
  {
   "cell_type": "code",
   "execution_count": 80,
   "id": "507f50bd",
   "metadata": {},
   "outputs": [
    {
     "name": "stdout",
     "output_type": "stream",
     "text": [
      "i * j = 2\n",
      "i * j = 4\n",
      "i * j = 6\n",
      "i * j = 6\n",
      "i * j = 12\n",
      "i * j = 18\n",
      "i * j = 10\n",
      "i * j = 20\n",
      "i * j = 30\n"
     ]
    }
   ],
   "source": [
    "odd = [1, 3, 5]\n",
    "even = [2, 4, 6]\n",
    "\n",
    "for i in odd, j in even\n",
    "    println(\"i * j = $(i * j)\")\n",
    "end"
   ]
  },
  {
   "cell_type": "code",
   "execution_count": 85,
   "id": "33f747ea",
   "metadata": {},
   "outputs": [
    {
     "name": "stdout",
     "output_type": "stream",
     "text": [
      "0\n",
      "1\n",
      "2\n",
      "3\n",
      "4\n",
      "5\n",
      "6\n",
      "7\n",
      "8\n",
      "9\n"
     ]
    }
   ],
   "source": [
    "first = 0\n",
    "last = 10\n",
    "\n",
    "while first < last\n",
    "    global first\n",
    "    println(first)\n",
    "    first = first + 1\n",
    "end"
   ]
  },
  {
   "cell_type": "markdown",
   "id": "f3c525f0",
   "metadata": {},
   "source": [
    "#### Exception Handling"
   ]
  },
  {
   "cell_type": "code",
   "execution_count": 87,
   "id": "e5ab2bbb",
   "metadata": {},
   "outputs": [
    {
     "name": "stdout",
     "output_type": "stream",
     "text": [
      "DomainError(-1.0, \"log will only return a complex result if called with a complex argument. Try log(Complex(x)).\")\n"
     ]
    }
   ],
   "source": [
    "try\n",
    "    log(-1)\n",
    "catch ex\n",
    "    println(ex)\n",
    "end"
   ]
  },
  {
   "cell_type": "markdown",
   "id": "3dbe2632",
   "metadata": {},
   "source": [
    "### Functions"
   ]
  },
  {
   "cell_type": "code",
   "execution_count": 88,
   "id": "1b922898",
   "metadata": {},
   "outputs": [
    {
     "data": {
      "text/plain": [
       "3"
      ]
     },
     "execution_count": 88,
     "metadata": {},
     "output_type": "execute_result"
    }
   ],
   "source": [
    "function add(x, y)\n",
    "    return x+y\n",
    "end\n",
    "\n",
    "add(1, 2)"
   ]
  },
  {
   "cell_type": "code",
   "execution_count": 89,
   "id": "1fe9d569",
   "metadata": {},
   "outputs": [
    {
     "data": {
      "text/plain": [
       "3"
      ]
     },
     "execution_count": 89,
     "metadata": {},
     "output_type": "execute_result"
    }
   ],
   "source": [
    "add2(x,y) = x+y\n",
    "\n",
    "add2(1,2)"
   ]
  }
 ],
 "metadata": {
  "kernelspec": {
   "display_name": "Julia 1.6.1",
   "language": "julia",
   "name": "julia-1.6"
  },
  "language_info": {
   "file_extension": ".jl",
   "mimetype": "application/julia",
   "name": "julia",
   "version": "1.6.1"
  }
 },
 "nbformat": 4,
 "nbformat_minor": 5
}
