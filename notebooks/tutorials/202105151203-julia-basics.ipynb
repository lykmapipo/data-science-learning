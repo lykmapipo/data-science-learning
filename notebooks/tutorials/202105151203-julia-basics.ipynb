{
 "cells": [
  {
   "cell_type": "markdown",
   "id": "3ff1159a",
   "metadata": {},
   "source": [
    "# Julia Basics"
   ]
  },
  {
   "cell_type": "markdown",
   "id": "3edc20dc",
   "metadata": {},
   "source": [
    "## Variables"
   ]
  },
  {
   "cell_type": "code",
   "execution_count": 1,
   "id": "7f475f8f",
   "metadata": {},
   "outputs": [
    {
     "data": {
      "text/plain": [
       "(99, Int64)"
      ]
     },
     "execution_count": 1,
     "metadata": {},
     "output_type": "execute_result"
    }
   ],
   "source": [
    "x = 99\n",
    "x, typeof(x)"
   ]
  },
  {
   "cell_type": "code",
   "execution_count": 2,
   "id": "6a876700",
   "metadata": {},
   "outputs": [
    {
     "data": {
      "text/plain": [
       "(10.0, Float64)"
      ]
     },
     "execution_count": 2,
     "metadata": {},
     "output_type": "execute_result"
    }
   ],
   "source": [
    "y = 10.0\n",
    "y, typeof(y)"
   ]
  },
  {
   "cell_type": "code",
   "execution_count": 3,
   "id": "aab9791e",
   "metadata": {},
   "outputs": [
    {
     "data": {
      "text/plain": [
       "(\"Data Science\", String)"
      ]
     },
     "execution_count": 3,
     "metadata": {},
     "output_type": "execute_result"
    }
   ],
   "source": [
    "s = \"Data Science\"\n",
    "s, typeof(s)"
   ]
  },
  {
   "cell_type": "code",
   "execution_count": 4,
   "id": "9c224cb6",
   "metadata": {},
   "outputs": [
    {
     "data": {
      "text/plain": [
       "(true, Bool)"
      ]
     },
     "execution_count": 4,
     "metadata": {},
     "output_type": "execute_result"
    }
   ],
   "source": [
    "t = true\n",
    "t, typeof(t)"
   ]
  },
  {
   "cell_type": "markdown",
   "id": "399d22e6",
   "metadata": {},
   "source": [
    "## Operators"
   ]
  },
  {
   "cell_type": "code",
   "execution_count": 5,
   "id": "b17947d3",
   "metadata": {},
   "outputs": [
    {
     "data": {
      "text/plain": [
       "(2, 3, 4)"
      ]
     },
     "execution_count": 5,
     "metadata": {},
     "output_type": "execute_result"
    }
   ],
   "source": [
    "p = 2\n",
    "q = 3\n",
    "r = 4\n",
    "p, q, r"
   ]
  },
  {
   "cell_type": "markdown",
   "id": "1dcfdfc9",
   "metadata": {},
   "source": [
    "### Arithmetic Operators"
   ]
  },
  {
   "cell_type": "code",
   "execution_count": 6,
   "id": "fc1d8bd6",
   "metadata": {},
   "outputs": [
    {
     "data": {
      "text/plain": [
       "2.0"
      ]
     },
     "execution_count": 6,
     "metadata": {},
     "output_type": "execute_result"
    }
   ],
   "source": [
    "r / p"
   ]
  },
  {
   "cell_type": "code",
   "execution_count": 7,
   "id": "6f651f5d",
   "metadata": {},
   "outputs": [
    {
     "data": {
      "text/plain": [
       "6"
      ]
     },
     "execution_count": 7,
     "metadata": {},
     "output_type": "execute_result"
    }
   ],
   "source": [
    "p * q"
   ]
  },
  {
   "cell_type": "code",
   "execution_count": 8,
   "id": "24d755af",
   "metadata": {},
   "outputs": [
    {
     "data": {
      "text/plain": [
       "5"
      ]
     },
     "execution_count": 8,
     "metadata": {},
     "output_type": "execute_result"
    }
   ],
   "source": [
    "p + q"
   ]
  },
  {
   "cell_type": "code",
   "execution_count": 9,
   "id": "55ba772f",
   "metadata": {},
   "outputs": [
    {
     "data": {
      "text/plain": [
       "1"
      ]
     },
     "execution_count": 9,
     "metadata": {},
     "output_type": "execute_result"
    }
   ],
   "source": [
    "r - q"
   ]
  },
  {
   "cell_type": "code",
   "execution_count": 10,
   "id": "14afb0be",
   "metadata": {},
   "outputs": [
    {
     "data": {
      "text/plain": [
       "-1"
      ]
     },
     "execution_count": 10,
     "metadata": {},
     "output_type": "execute_result"
    }
   ],
   "source": [
    "q - r"
   ]
  },
  {
   "cell_type": "code",
   "execution_count": 11,
   "id": "144e7627",
   "metadata": {},
   "outputs": [
    {
     "data": {
      "text/plain": [
       "9"
      ]
     },
     "execution_count": 11,
     "metadata": {},
     "output_type": "execute_result"
    }
   ],
   "source": [
    "q ^ p"
   ]
  },
  {
   "cell_type": "markdown",
   "id": "06c67db4",
   "metadata": {},
   "source": [
    "### Comparison Operators"
   ]
  },
  {
   "cell_type": "code",
   "execution_count": 12,
   "id": "8de68c31",
   "metadata": {},
   "outputs": [
    {
     "data": {
      "text/plain": [
       "true"
      ]
     },
     "execution_count": 12,
     "metadata": {},
     "output_type": "execute_result"
    }
   ],
   "source": [
    "p == p"
   ]
  },
  {
   "cell_type": "code",
   "execution_count": 13,
   "id": "3d09e92f",
   "metadata": {},
   "outputs": [
    {
     "data": {
      "text/plain": [
       "false"
      ]
     },
     "execution_count": 13,
     "metadata": {},
     "output_type": "execute_result"
    }
   ],
   "source": [
    "p == q"
   ]
  },
  {
   "cell_type": "code",
   "execution_count": 14,
   "id": "947c87af",
   "metadata": {},
   "outputs": [
    {
     "data": {
      "text/plain": [
       "true"
      ]
     },
     "execution_count": 14,
     "metadata": {},
     "output_type": "execute_result"
    }
   ],
   "source": [
    "p != q"
   ]
  },
  {
   "cell_type": "code",
   "execution_count": 15,
   "id": "513e23b8",
   "metadata": {},
   "outputs": [
    {
     "data": {
      "text/plain": [
       "false"
      ]
     },
     "execution_count": 15,
     "metadata": {},
     "output_type": "execute_result"
    }
   ],
   "source": [
    "p >= q"
   ]
  },
  {
   "cell_type": "code",
   "execution_count": 16,
   "id": "36ecad1f",
   "metadata": {},
   "outputs": [
    {
     "data": {
      "text/plain": [
       "false"
      ]
     },
     "execution_count": 16,
     "metadata": {},
     "output_type": "execute_result"
    }
   ],
   "source": [
    "p > q"
   ]
  },
  {
   "cell_type": "code",
   "execution_count": 17,
   "id": "fabc7372",
   "metadata": {},
   "outputs": [
    {
     "data": {
      "text/plain": [
       "true"
      ]
     },
     "execution_count": 17,
     "metadata": {},
     "output_type": "execute_result"
    }
   ],
   "source": [
    "p <= q"
   ]
  },
  {
   "cell_type": "code",
   "execution_count": 18,
   "id": "4ab8919d",
   "metadata": {},
   "outputs": [
    {
     "data": {
      "text/plain": [
       "true"
      ]
     },
     "execution_count": 18,
     "metadata": {},
     "output_type": "execute_result"
    }
   ],
   "source": [
    "p < q"
   ]
  },
  {
   "cell_type": "markdown",
   "id": "89af682d",
   "metadata": {},
   "source": [
    "## Data Types"
   ]
  },
  {
   "cell_type": "markdown",
   "id": "6165adfa",
   "metadata": {},
   "source": [
    "### Integers"
   ]
  },
  {
   "cell_type": "code",
   "execution_count": 19,
   "id": "8edcb546",
   "metadata": {},
   "outputs": [
    {
     "data": {
      "text/plain": [
       "(16, Int16, 32767)"
      ]
     },
     "execution_count": 19,
     "metadata": {},
     "output_type": "execute_result"
    }
   ],
   "source": [
    "int_16 = Int16(16)\n",
    "int_16, typeof(int_16), typemax(Int16)"
   ]
  },
  {
   "cell_type": "code",
   "execution_count": 20,
   "id": "242bf4b6",
   "metadata": {},
   "outputs": [
    {
     "data": {
      "text/plain": [
       "(32, Int32, 2147483647)"
      ]
     },
     "execution_count": 20,
     "metadata": {},
     "output_type": "execute_result"
    }
   ],
   "source": [
    "int_32 = Int32(32)\n",
    "int_32, typeof(int_32), typemax(Int32)"
   ]
  },
  {
   "cell_type": "code",
   "execution_count": 21,
   "id": "ea55fc6e",
   "metadata": {},
   "outputs": [
    {
     "data": {
      "text/plain": [
       "(64, Int64, 9223372036854775807)"
      ]
     },
     "execution_count": 21,
     "metadata": {},
     "output_type": "execute_result"
    }
   ],
   "source": [
    "int_64 = Int64(64)\n",
    "int_64, typeof(int_64), typemax(Int64)"
   ]
  },
  {
   "cell_type": "code",
   "execution_count": 22,
   "id": "ae7405b0",
   "metadata": {},
   "outputs": [
    {
     "data": {
      "text/plain": [
       "(128, Int64, 170141183460469231731687303715884105727)"
      ]
     },
     "execution_count": 22,
     "metadata": {},
     "output_type": "execute_result"
    }
   ],
   "source": [
    "int_128 = Int64(128)\n",
    "int_128, typeof(int_128), typemax(Int128)"
   ]
  },
  {
   "cell_type": "markdown",
   "id": "84262ea3",
   "metadata": {},
   "source": [
    "### Floats"
   ]
  },
  {
   "cell_type": "code",
   "execution_count": 23,
   "id": "c43ba836",
   "metadata": {},
   "outputs": [
    {
     "data": {
      "text/plain": [
       "(Float16(16.0), Float16, Inf16)"
      ]
     },
     "execution_count": 23,
     "metadata": {},
     "output_type": "execute_result"
    }
   ],
   "source": [
    "float_16 = Float16(16.0)\n",
    "float_16, typeof(float_16), typemax(Float16)"
   ]
  },
  {
   "cell_type": "code",
   "execution_count": 24,
   "id": "b272bc26",
   "metadata": {},
   "outputs": [
    {
     "data": {
      "text/plain": [
       "(32.0f0, Float32, Inf32)"
      ]
     },
     "execution_count": 24,
     "metadata": {},
     "output_type": "execute_result"
    }
   ],
   "source": [
    "float_32 = Float32(32.0)\n",
    "float_32, typeof(float_32), typemax(Float32)"
   ]
  },
  {
   "cell_type": "code",
   "execution_count": 25,
   "id": "38eaabbc",
   "metadata": {},
   "outputs": [
    {
     "data": {
      "text/plain": [
       "(64.0, Float64, Inf)"
      ]
     },
     "execution_count": 25,
     "metadata": {},
     "output_type": "execute_result"
    }
   ],
   "source": [
    "float_64 = Float64(64.0)\n",
    "float_64, typeof(float_64), typemax(Float64)"
   ]
  },
  {
   "cell_type": "markdown",
   "id": "72362851",
   "metadata": {},
   "source": [
    "### Numeric checks"
   ]
  },
  {
   "cell_type": "code",
   "execution_count": 26,
   "id": "f1992007",
   "metadata": {},
   "outputs": [
    {
     "data": {
      "text/plain": [
       "true"
      ]
     },
     "execution_count": 26,
     "metadata": {},
     "output_type": "execute_result"
    }
   ],
   "source": [
    "isinf(1/0)"
   ]
  },
  {
   "cell_type": "code",
   "execution_count": 27,
   "id": "0324ab62",
   "metadata": {},
   "outputs": [
    {
     "data": {
      "text/plain": [
       "true"
      ]
     },
     "execution_count": 27,
     "metadata": {},
     "output_type": "execute_result"
    }
   ],
   "source": [
    "isinf(-1/0)"
   ]
  },
  {
   "cell_type": "code",
   "execution_count": 28,
   "id": "d3d792c9",
   "metadata": {},
   "outputs": [
    {
     "data": {
      "text/plain": [
       "true"
      ]
     },
     "execution_count": 28,
     "metadata": {},
     "output_type": "execute_result"
    }
   ],
   "source": [
    "isnan(0/0)"
   ]
  },
  {
   "cell_type": "markdown",
   "id": "d54adc4d",
   "metadata": {},
   "source": [
    "### Strings"
   ]
  },
  {
   "cell_type": "code",
   "execution_count": 29,
   "id": "79e2a3a2",
   "metadata": {},
   "outputs": [
    {
     "data": {
      "text/plain": [
       "\"Data Science\""
      ]
     },
     "execution_count": 29,
     "metadata": {},
     "output_type": "execute_result"
    }
   ],
   "source": [
    "s1 = \"Data Science\""
   ]
  },
  {
   "cell_type": "code",
   "execution_count": 30,
   "id": "2e37acae",
   "metadata": {},
   "outputs": [
    {
     "data": {
      "text/plain": [
       "\"I'm learning Data Science\""
      ]
     },
     "execution_count": 30,
     "metadata": {},
     "output_type": "execute_result"
    }
   ],
   "source": [
    "s2 = \"I'm learning Data Science\""
   ]
  },
  {
   "cell_type": "code",
   "execution_count": 31,
   "id": "615c70dd",
   "metadata": {},
   "outputs": [
    {
     "data": {
      "text/plain": [
       "'I': ASCII/Unicode U+0049 (category Lu: Letter, uppercase)"
      ]
     },
     "execution_count": 31,
     "metadata": {},
     "output_type": "execute_result"
    }
   ],
   "source": [
    "s2[1]"
   ]
  },
  {
   "cell_type": "code",
   "execution_count": 32,
   "id": "014dcdfd",
   "metadata": {},
   "outputs": [
    {
     "data": {
      "text/plain": [
       "'e': ASCII/Unicode U+0065 (category Ll: Letter, lowercase)"
      ]
     },
     "execution_count": 32,
     "metadata": {},
     "output_type": "execute_result"
    }
   ],
   "source": [
    "s2[end]"
   ]
  },
  {
   "cell_type": "code",
   "execution_count": 33,
   "id": "9df1a3e3",
   "metadata": {},
   "outputs": [
    {
     "data": {
      "text/plain": [
       "\"'m le\""
      ]
     },
     "execution_count": 33,
     "metadata": {},
     "output_type": "execute_result"
    }
   ],
   "source": [
    "s2[2:6]"
   ]
  },
  {
   "cell_type": "code",
   "execution_count": 34,
   "id": "4a8d9c5a",
   "metadata": {},
   "outputs": [
    {
     "data": {
      "text/plain": [
       "\"Science\""
      ]
     },
     "execution_count": 34,
     "metadata": {},
     "output_type": "execute_result"
    }
   ],
   "source": [
    "s2[end-6:end]"
   ]
  },
  {
   "cell_type": "code",
   "execution_count": 35,
   "id": "c71b8496",
   "metadata": {},
   "outputs": [
    {
     "data": {
      "text/plain": [
       "\"I'm learning Data Science. It's fun!\""
      ]
     },
     "execution_count": 35,
     "metadata": {},
     "output_type": "execute_result"
    }
   ],
   "source": [
    "s2 * \". It's fun!\""
   ]
  },
  {
   "cell_type": "code",
   "execution_count": 36,
   "id": "43469bf5",
   "metadata": {},
   "outputs": [
    {
     "data": {
      "text/plain": [
       "\"1 + 2 = 3\""
      ]
     },
     "execution_count": 36,
     "metadata": {},
     "output_type": "execute_result"
    }
   ],
   "source": [
    "\"1 + 2 = $(1 + 2)\""
   ]
  },
  {
   "cell_type": "code",
   "execution_count": 37,
   "id": "1f24fb1f",
   "metadata": {},
   "outputs": [
    {
     "data": {
      "text/plain": [
       "\"99 + 10.0 = 109.0\""
      ]
     },
     "execution_count": 37,
     "metadata": {},
     "output_type": "execute_result"
    }
   ],
   "source": [
    "\"$x + $y = $(x + y)\""
   ]
  },
  {
   "cell_type": "code",
   "execution_count": 38,
   "id": "c00c3b3a",
   "metadata": {},
   "outputs": [
    {
     "data": {
      "text/plain": [
       "25"
      ]
     },
     "execution_count": 38,
     "metadata": {},
     "output_type": "execute_result"
    }
   ],
   "source": [
    "length(s2)"
   ]
  },
  {
   "cell_type": "code",
   "execution_count": 39,
   "id": "b7325e31",
   "metadata": {},
   "outputs": [
    {
     "data": {
      "text/plain": [
       "14:17"
      ]
     },
     "execution_count": 39,
     "metadata": {},
     "output_type": "execute_result"
    }
   ],
   "source": [
    "findfirst(\"Data\", s2)"
   ]
  },
  {
   "cell_type": "code",
   "execution_count": 40,
   "id": "3f33dc1c",
   "metadata": {},
   "outputs": [
    {
     "data": {
      "text/plain": [
       "(\"pqrs\", \"pqrt\")"
      ]
     },
     "execution_count": 40,
     "metadata": {},
     "output_type": "execute_result"
    }
   ],
   "source": [
    "s3 = \"pqrs\"\n",
    "s4 = \"pqrt\"\n",
    "s3, s4"
   ]
  },
  {
   "cell_type": "code",
   "execution_count": 41,
   "id": "6508e9b2",
   "metadata": {},
   "outputs": [
    {
     "data": {
      "text/plain": [
       "false"
      ]
     },
     "execution_count": 41,
     "metadata": {},
     "output_type": "execute_result"
    }
   ],
   "source": [
    "s3 == s4"
   ]
  },
  {
   "cell_type": "code",
   "execution_count": 42,
   "id": "e3a8d1c8",
   "metadata": {},
   "outputs": [
    {
     "data": {
      "text/plain": [
       "false"
      ]
     },
     "execution_count": 42,
     "metadata": {},
     "output_type": "execute_result"
    }
   ],
   "source": [
    "s3 > s4"
   ]
  },
  {
   "cell_type": "code",
   "execution_count": 43,
   "id": "7322db25",
   "metadata": {},
   "outputs": [
    {
     "data": {
      "text/plain": [
       "true"
      ]
     },
     "execution_count": 43,
     "metadata": {},
     "output_type": "execute_result"
    }
   ],
   "source": [
    "s3 < s4"
   ]
  },
  {
   "cell_type": "markdown",
   "id": "877f7b62",
   "metadata": {},
   "source": [
    "### Tuples"
   ]
  },
  {
   "cell_type": "code",
   "execution_count": 44,
   "id": "18d985ed",
   "metadata": {},
   "outputs": [
    {
     "data": {
      "text/plain": [
       "((1, 2, 3, 4), NTuple{4, Int64})"
      ]
     },
     "execution_count": 44,
     "metadata": {},
     "output_type": "execute_result"
    }
   ],
   "source": [
    "t1 = (1, 2, 3, 4)\n",
    "t1, typeof(t1)"
   ]
  },
  {
   "cell_type": "code",
   "execution_count": 45,
   "id": "39d04657",
   "metadata": {},
   "outputs": [
    {
     "data": {
      "text/plain": [
       "((\"Data\", 1, 2.0), Tuple{String, Int64, Float64})"
      ]
     },
     "execution_count": 45,
     "metadata": {},
     "output_type": "execute_result"
    }
   ],
   "source": [
    "t2 = (\"Data\", 1, 2.0)\n",
    "t2, typeof(t2)"
   ]
  },
  {
   "cell_type": "code",
   "execution_count": 46,
   "id": "31b227f2",
   "metadata": {},
   "outputs": [
    {
     "data": {
      "text/plain": [
       "\"Data\""
      ]
     },
     "execution_count": 46,
     "metadata": {},
     "output_type": "execute_result"
    }
   ],
   "source": [
    "u, v, w = t2\n",
    "u"
   ]
  },
  {
   "cell_type": "markdown",
   "id": "98c0c20e",
   "metadata": {},
   "source": [
    "### Arrays"
   ]
  },
  {
   "cell_type": "code",
   "execution_count": 47,
   "id": "ebe4a263",
   "metadata": {},
   "outputs": [
    {
     "data": {
      "text/plain": [
       "([140657856251184, 140657856251104, 140657853053888], Vector{Int64})"
      ]
     },
     "execution_count": 47,
     "metadata": {},
     "output_type": "execute_result"
    }
   ],
   "source": [
    "a1 = Array{Int64}(undef, 3) # vector of length 3\n",
    "a1, typeof(a1)"
   ]
  },
  {
   "cell_type": "code",
   "execution_count": 48,
   "id": "4ae428c1",
   "metadata": {},
   "outputs": [
    {
     "data": {
      "text/plain": [
       "([140658581916000 140658487799840; 140658582655744 140658581916016; 140657812709680 140658487767216], Matrix{Int64})"
      ]
     },
     "execution_count": 48,
     "metadata": {},
     "output_type": "execute_result"
    }
   ],
   "source": [
    "a2 = Array{Int64}(undef, (3,2)) # 3 x 2 matrix\n",
    "a2, typeof(a2)"
   ]
  },
  {
   "cell_type": "code",
   "execution_count": 49,
   "id": "886ed329",
   "metadata": {},
   "outputs": [
    {
     "data": {
      "text/plain": [
       "3-element Vector{Int64}:\n",
       " 1\n",
       " 2\n",
       " 3"
      ]
     },
     "execution_count": 49,
     "metadata": {},
     "output_type": "execute_result"
    }
   ],
   "source": [
    "a3 = [1,2,3]\n",
    "a3"
   ]
  },
  {
   "cell_type": "code",
   "execution_count": 50,
   "id": "5e4c96ed",
   "metadata": {},
   "outputs": [
    {
     "data": {
      "text/plain": [
       "1×3 Matrix{Int64}:\n",
       " 1  2  3"
      ]
     },
     "execution_count": 50,
     "metadata": {},
     "output_type": "execute_result"
    }
   ],
   "source": [
    "a4 = [1 2 3]"
   ]
  },
  {
   "cell_type": "code",
   "execution_count": 51,
   "id": "e971e087",
   "metadata": {},
   "outputs": [
    {
     "data": {
      "text/plain": [
       "2×3 Matrix{Int64}:\n",
       " 1  2  3\n",
       " 4  5  6"
      ]
     },
     "execution_count": 51,
     "metadata": {},
     "output_type": "execute_result"
    }
   ],
   "source": [
    "a5 = [1 2 3 ; 4 5 6]"
   ]
  },
  {
   "cell_type": "code",
   "execution_count": 52,
   "id": "3ba1d0ff",
   "metadata": {},
   "outputs": [
    {
     "data": {
      "text/plain": [
       "3×3 Matrix{Int64}:\n",
       " 1  2  3\n",
       " 4  5  6\n",
       " 7  8  9"
      ]
     },
     "execution_count": 52,
     "metadata": {},
     "output_type": "execute_result"
    }
   ],
   "source": [
    "a6 = [1 2 3 ; 4 5 6 ; 7 8 9]"
   ]
  },
  {
   "cell_type": "code",
   "execution_count": 53,
   "id": "249b9c4f",
   "metadata": {},
   "outputs": [
    {
     "data": {
      "text/plain": [
       "2×2 Matrix{Float64}:\n",
       " 0.0  0.0\n",
       " 0.0  0.0"
      ]
     },
     "execution_count": 53,
     "metadata": {},
     "output_type": "execute_result"
    }
   ],
   "source": [
    "zeros((2,2))"
   ]
  },
  {
   "cell_type": "code",
   "execution_count": 54,
   "id": "9b6572d9",
   "metadata": {},
   "outputs": [
    {
     "data": {
      "text/plain": [
       "2×2 Matrix{Float64}:\n",
       " 0.0  0.0\n",
       " 0.0  0.0"
      ]
     },
     "execution_count": 54,
     "metadata": {},
     "output_type": "execute_result"
    }
   ],
   "source": [
    "zeros(Float64, (2,2))"
   ]
  },
  {
   "cell_type": "code",
   "execution_count": 55,
   "id": "69d60f75",
   "metadata": {},
   "outputs": [
    {
     "data": {
      "text/plain": [
       "2×2 Matrix{Float64}:\n",
       " 1.0  1.0\n",
       " 1.0  1.0"
      ]
     },
     "execution_count": 55,
     "metadata": {},
     "output_type": "execute_result"
    }
   ],
   "source": [
    "ones((2,2))"
   ]
  },
  {
   "cell_type": "code",
   "execution_count": 56,
   "id": "6e8638b6",
   "metadata": {},
   "outputs": [
    {
     "data": {
      "text/plain": [
       "2×2 Matrix{Float64}:\n",
       " 1.0  1.0\n",
       " 1.0  1.0"
      ]
     },
     "execution_count": 56,
     "metadata": {},
     "output_type": "execute_result"
    }
   ],
   "source": [
    "ones(Float64, (2,2))"
   ]
  },
  {
   "cell_type": "code",
   "execution_count": 57,
   "id": "c30c3f0d",
   "metadata": {},
   "outputs": [
    {
     "data": {
      "text/plain": [
       "2×2 Matrix{Int64}:\n",
       "  515948280827261223  2718871008090965116\n",
       " 1435386932706634617   -56964128202180136"
      ]
     },
     "execution_count": 57,
     "metadata": {},
     "output_type": "execute_result"
    }
   ],
   "source": [
    "rand(Int64, (2,2))"
   ]
  },
  {
   "cell_type": "code",
   "execution_count": 58,
   "id": "4278ae14",
   "metadata": {},
   "outputs": [
    {
     "data": {
      "text/plain": [
       "2×2 Matrix{Float64}:\n",
       " -0.0287054   1.70701\n",
       "  0.834892   -0.275577"
      ]
     },
     "execution_count": 58,
     "metadata": {},
     "output_type": "execute_result"
    }
   ],
   "source": [
    "randn((2,2))"
   ]
  },
  {
   "cell_type": "markdown",
   "id": "31bde3f8",
   "metadata": {},
   "source": [
    "### Dictionaries"
   ]
  },
  {
   "cell_type": "code",
   "execution_count": 59,
   "id": "c21c748c",
   "metadata": {},
   "outputs": [
    {
     "data": {
      "text/plain": [
       "Dict{String, Int64} with 2 entries:\n",
       "  \"id\"  => 100\n",
       "  \"age\" => 24"
      ]
     },
     "execution_count": 59,
     "metadata": {},
     "output_type": "execute_result"
    }
   ],
   "source": [
    "d0 = Dict(\"id\" => 100, \"age\" => 24)"
   ]
  },
  {
   "cell_type": "code",
   "execution_count": 60,
   "id": "bfff0e19",
   "metadata": {},
   "outputs": [
    {
     "data": {
      "text/plain": [
       "100"
      ]
     },
     "execution_count": 60,
     "metadata": {},
     "output_type": "execute_result"
    }
   ],
   "source": [
    "d0[\"id\"]"
   ]
  },
  {
   "cell_type": "code",
   "execution_count": 61,
   "id": "343db755",
   "metadata": {},
   "outputs": [
    {
     "data": {
      "text/plain": [
       "24"
      ]
     },
     "execution_count": 61,
     "metadata": {},
     "output_type": "execute_result"
    }
   ],
   "source": [
    "d0[\"age\"]"
   ]
  },
  {
   "cell_type": "code",
   "execution_count": 62,
   "id": "f63d8f6b",
   "metadata": {},
   "outputs": [
    {
     "data": {
      "text/plain": [
       "Dict{String, Int64} with 3 entries:\n",
       "  \"id\"    => 100\n",
       "  \"age\"   => 24\n",
       "  \"level\" => 1"
      ]
     },
     "execution_count": 62,
     "metadata": {},
     "output_type": "execute_result"
    }
   ],
   "source": [
    "d0[\"level\"] = 1\n",
    "d0"
   ]
  },
  {
   "cell_type": "code",
   "execution_count": 63,
   "id": "eac74907",
   "metadata": {},
   "outputs": [
    {
     "data": {
      "text/plain": [
       "true"
      ]
     },
     "execution_count": 63,
     "metadata": {},
     "output_type": "execute_result"
    }
   ],
   "source": [
    "haskey(d0, \"id\")"
   ]
  },
  {
   "cell_type": "code",
   "execution_count": 64,
   "id": "9f6ed94f",
   "metadata": {},
   "outputs": [
    {
     "data": {
      "text/plain": [
       "Dict{String, Int64} with 2 entries:\n",
       "  \"id\"  => 100\n",
       "  \"age\" => 24"
      ]
     },
     "execution_count": 64,
     "metadata": {},
     "output_type": "execute_result"
    }
   ],
   "source": [
    "delete!(d0, \"level\")\n",
    "d0"
   ]
  }
 ],
 "metadata": {
  "kernelspec": {
   "display_name": "Julia 1.6.1",
   "language": "julia",
   "name": "julia-1.6"
  },
  "language_info": {
   "file_extension": ".jl",
   "mimetype": "application/julia",
   "name": "julia",
   "version": "1.6.1"
  }
 },
 "nbformat": 4,
 "nbformat_minor": 5
}
