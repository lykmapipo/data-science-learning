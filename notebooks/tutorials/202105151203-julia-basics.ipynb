{
 "cells": [
  {
   "cell_type": "markdown",
   "id": "e3e840d8",
   "metadata": {},
   "source": [
    "# Julia Basics"
   ]
  },
  {
   "cell_type": "markdown",
   "id": "d827cbda",
   "metadata": {},
   "source": [
    "## Variables"
   ]
  },
  {
   "cell_type": "code",
   "execution_count": 1,
   "id": "d3940bfe",
   "metadata": {},
   "outputs": [
    {
     "data": {
      "text/plain": [
       "(99, Int64)"
      ]
     },
     "execution_count": 1,
     "metadata": {},
     "output_type": "execute_result"
    }
   ],
   "source": [
    "x = 99\n",
    "x, typeof(x)"
   ]
  },
  {
   "cell_type": "code",
   "execution_count": 2,
   "id": "259e4fff",
   "metadata": {},
   "outputs": [
    {
     "data": {
      "text/plain": [
       "(10.0, Float64)"
      ]
     },
     "execution_count": 2,
     "metadata": {},
     "output_type": "execute_result"
    }
   ],
   "source": [
    "y = 10.0\n",
    "y, typeof(y)"
   ]
  },
  {
   "cell_type": "code",
   "execution_count": 3,
   "id": "e249db63",
   "metadata": {},
   "outputs": [
    {
     "data": {
      "text/plain": [
       "(\"Data Science\", String)"
      ]
     },
     "execution_count": 3,
     "metadata": {},
     "output_type": "execute_result"
    }
   ],
   "source": [
    "s = \"Data Science\"\n",
    "s, typeof(s)"
   ]
  },
  {
   "cell_type": "code",
   "execution_count": 4,
   "id": "8f1f8933",
   "metadata": {},
   "outputs": [
    {
     "data": {
      "text/plain": [
       "(true, Bool)"
      ]
     },
     "execution_count": 4,
     "metadata": {},
     "output_type": "execute_result"
    }
   ],
   "source": [
    "t = true\n",
    "t, typeof(t)"
   ]
  },
  {
   "cell_type": "markdown",
   "id": "203a847e",
   "metadata": {},
   "source": [
    "## Operators"
   ]
  },
  {
   "cell_type": "code",
   "execution_count": 5,
   "id": "e3df3e49",
   "metadata": {},
   "outputs": [
    {
     "data": {
      "text/plain": [
       "(2, 3, 4)"
      ]
     },
     "execution_count": 5,
     "metadata": {},
     "output_type": "execute_result"
    }
   ],
   "source": [
    "p = 2\n",
    "q = 3\n",
    "r = 4\n",
    "p, q, r"
   ]
  },
  {
   "cell_type": "markdown",
   "id": "60e8171f",
   "metadata": {},
   "source": [
    "### Arithmetic Operators"
   ]
  },
  {
   "cell_type": "code",
   "execution_count": 6,
   "id": "9749436f",
   "metadata": {},
   "outputs": [
    {
     "data": {
      "text/plain": [
       "2.0"
      ]
     },
     "execution_count": 6,
     "metadata": {},
     "output_type": "execute_result"
    }
   ],
   "source": [
    "r / p"
   ]
  },
  {
   "cell_type": "code",
   "execution_count": 7,
   "id": "b4d4f42d",
   "metadata": {},
   "outputs": [
    {
     "data": {
      "text/plain": [
       "6"
      ]
     },
     "execution_count": 7,
     "metadata": {},
     "output_type": "execute_result"
    }
   ],
   "source": [
    "p * q"
   ]
  },
  {
   "cell_type": "code",
   "execution_count": 8,
   "id": "abb15ce1",
   "metadata": {},
   "outputs": [
    {
     "data": {
      "text/plain": [
       "5"
      ]
     },
     "execution_count": 8,
     "metadata": {},
     "output_type": "execute_result"
    }
   ],
   "source": [
    "p + q"
   ]
  },
  {
   "cell_type": "code",
   "execution_count": 9,
   "id": "8aa600ab",
   "metadata": {},
   "outputs": [
    {
     "data": {
      "text/plain": [
       "1"
      ]
     },
     "execution_count": 9,
     "metadata": {},
     "output_type": "execute_result"
    }
   ],
   "source": [
    "r - q"
   ]
  },
  {
   "cell_type": "code",
   "execution_count": 10,
   "id": "1cce3799",
   "metadata": {},
   "outputs": [
    {
     "data": {
      "text/plain": [
       "-1"
      ]
     },
     "execution_count": 10,
     "metadata": {},
     "output_type": "execute_result"
    }
   ],
   "source": [
    "q - r"
   ]
  },
  {
   "cell_type": "code",
   "execution_count": 11,
   "id": "e932daa2",
   "metadata": {},
   "outputs": [
    {
     "data": {
      "text/plain": [
       "9"
      ]
     },
     "execution_count": 11,
     "metadata": {},
     "output_type": "execute_result"
    }
   ],
   "source": [
    "q ^ p"
   ]
  },
  {
   "cell_type": "markdown",
   "id": "4c2dbc94",
   "metadata": {},
   "source": [
    "### Comparison Operators"
   ]
  },
  {
   "cell_type": "code",
   "execution_count": 12,
   "id": "f77c085c",
   "metadata": {},
   "outputs": [
    {
     "data": {
      "text/plain": [
       "true"
      ]
     },
     "execution_count": 12,
     "metadata": {},
     "output_type": "execute_result"
    }
   ],
   "source": [
    "p == p"
   ]
  },
  {
   "cell_type": "code",
   "execution_count": 13,
   "id": "1bf33442",
   "metadata": {},
   "outputs": [
    {
     "data": {
      "text/plain": [
       "false"
      ]
     },
     "execution_count": 13,
     "metadata": {},
     "output_type": "execute_result"
    }
   ],
   "source": [
    "p == q"
   ]
  },
  {
   "cell_type": "code",
   "execution_count": 14,
   "id": "588bbf5f",
   "metadata": {},
   "outputs": [
    {
     "data": {
      "text/plain": [
       "true"
      ]
     },
     "execution_count": 14,
     "metadata": {},
     "output_type": "execute_result"
    }
   ],
   "source": [
    "p != q"
   ]
  },
  {
   "cell_type": "code",
   "execution_count": 15,
   "id": "39067421",
   "metadata": {},
   "outputs": [
    {
     "data": {
      "text/plain": [
       "false"
      ]
     },
     "execution_count": 15,
     "metadata": {},
     "output_type": "execute_result"
    }
   ],
   "source": [
    "p >= q"
   ]
  },
  {
   "cell_type": "code",
   "execution_count": 16,
   "id": "31dfa8f9",
   "metadata": {},
   "outputs": [
    {
     "data": {
      "text/plain": [
       "false"
      ]
     },
     "execution_count": 16,
     "metadata": {},
     "output_type": "execute_result"
    }
   ],
   "source": [
    "p > q"
   ]
  },
  {
   "cell_type": "code",
   "execution_count": 17,
   "id": "97c874dc",
   "metadata": {},
   "outputs": [
    {
     "data": {
      "text/plain": [
       "true"
      ]
     },
     "execution_count": 17,
     "metadata": {},
     "output_type": "execute_result"
    }
   ],
   "source": [
    "p <= q"
   ]
  },
  {
   "cell_type": "code",
   "execution_count": 18,
   "id": "32cbe015",
   "metadata": {},
   "outputs": [
    {
     "data": {
      "text/plain": [
       "true"
      ]
     },
     "execution_count": 18,
     "metadata": {},
     "output_type": "execute_result"
    }
   ],
   "source": [
    "p < q"
   ]
  },
  {
   "cell_type": "markdown",
   "id": "83b5271f",
   "metadata": {},
   "source": [
    "## Data Types"
   ]
  },
  {
   "cell_type": "markdown",
   "id": "58653da6",
   "metadata": {},
   "source": [
    "### Integers"
   ]
  },
  {
   "cell_type": "code",
   "execution_count": 19,
   "id": "1df19431",
   "metadata": {},
   "outputs": [
    {
     "data": {
      "text/plain": [
       "(16, Int16, 32767)"
      ]
     },
     "execution_count": 19,
     "metadata": {},
     "output_type": "execute_result"
    }
   ],
   "source": [
    "int_16 = Int16(16)\n",
    "int_16, typeof(int_16), typemax(Int16)"
   ]
  },
  {
   "cell_type": "code",
   "execution_count": 20,
   "id": "418c51f9",
   "metadata": {},
   "outputs": [
    {
     "data": {
      "text/plain": [
       "(32, Int32, 2147483647)"
      ]
     },
     "execution_count": 20,
     "metadata": {},
     "output_type": "execute_result"
    }
   ],
   "source": [
    "int_32 = Int32(32)\n",
    "int_32, typeof(int_32), typemax(Int32)"
   ]
  },
  {
   "cell_type": "code",
   "execution_count": 21,
   "id": "3b5a34db",
   "metadata": {},
   "outputs": [
    {
     "data": {
      "text/plain": [
       "(64, Int64, 9223372036854775807)"
      ]
     },
     "execution_count": 21,
     "metadata": {},
     "output_type": "execute_result"
    }
   ],
   "source": [
    "int_64 = Int64(64)\n",
    "int_64, typeof(int_64), typemax(Int64)"
   ]
  },
  {
   "cell_type": "code",
   "execution_count": 22,
   "id": "f42f6c65",
   "metadata": {},
   "outputs": [
    {
     "data": {
      "text/plain": [
       "(128, Int64, 170141183460469231731687303715884105727)"
      ]
     },
     "execution_count": 22,
     "metadata": {},
     "output_type": "execute_result"
    }
   ],
   "source": [
    "int_128 = Int64(128)\n",
    "int_128, typeof(int_128), typemax(Int128)"
   ]
  },
  {
   "cell_type": "markdown",
   "id": "7ec75831",
   "metadata": {},
   "source": [
    "### Floats"
   ]
  },
  {
   "cell_type": "code",
   "execution_count": 29,
   "id": "140cc87e",
   "metadata": {},
   "outputs": [
    {
     "data": {
      "text/plain": [
       "(Float16(16.0), Float16, Inf16)"
      ]
     },
     "execution_count": 29,
     "metadata": {},
     "output_type": "execute_result"
    }
   ],
   "source": [
    "float_16 = Float16(16.0)\n",
    "float_16, typeof(float_16), typemax(Float16)"
   ]
  },
  {
   "cell_type": "code",
   "execution_count": 27,
   "id": "7614443d",
   "metadata": {},
   "outputs": [
    {
     "data": {
      "text/plain": [
       "(32.0f0, Float32, Inf32)"
      ]
     },
     "execution_count": 27,
     "metadata": {},
     "output_type": "execute_result"
    }
   ],
   "source": [
    "float_32 = Float32(32.0)\n",
    "float_32, typeof(float_32), typemax(Float32)"
   ]
  },
  {
   "cell_type": "code",
   "execution_count": 30,
   "id": "4123ee28",
   "metadata": {},
   "outputs": [
    {
     "data": {
      "text/plain": [
       "(64.0, Float64, Inf)"
      ]
     },
     "execution_count": 30,
     "metadata": {},
     "output_type": "execute_result"
    }
   ],
   "source": [
    "float_64 = Float64(64.0)\n",
    "float_64, typeof(float_64), typemax(Float64)"
   ]
  },
  {
   "cell_type": "markdown",
   "id": "c57228c3",
   "metadata": {},
   "source": [
    "### Numeric checks"
   ]
  },
  {
   "cell_type": "code",
   "execution_count": 31,
   "id": "4ff0537e",
   "metadata": {},
   "outputs": [
    {
     "data": {
      "text/plain": [
       "true"
      ]
     },
     "execution_count": 31,
     "metadata": {},
     "output_type": "execute_result"
    }
   ],
   "source": [
    "isinf(1/0)"
   ]
  },
  {
   "cell_type": "code",
   "execution_count": 32,
   "id": "a1e046d8",
   "metadata": {},
   "outputs": [
    {
     "data": {
      "text/plain": [
       "true"
      ]
     },
     "execution_count": 32,
     "metadata": {},
     "output_type": "execute_result"
    }
   ],
   "source": [
    "isinf(-1/0)"
   ]
  },
  {
   "cell_type": "code",
   "execution_count": 34,
   "id": "28adae96",
   "metadata": {},
   "outputs": [
    {
     "data": {
      "text/plain": [
       "true"
      ]
     },
     "execution_count": 34,
     "metadata": {},
     "output_type": "execute_result"
    }
   ],
   "source": [
    "isnan(0/0)"
   ]
  },
  {
   "cell_type": "markdown",
   "id": "3bca1f72",
   "metadata": {},
   "source": [
    "### Strings"
   ]
  },
  {
   "cell_type": "code",
   "execution_count": 35,
   "id": "d53880a3",
   "metadata": {},
   "outputs": [
    {
     "data": {
      "text/plain": [
       "\"Data Science\""
      ]
     },
     "execution_count": 35,
     "metadata": {},
     "output_type": "execute_result"
    }
   ],
   "source": [
    "s1 = \"Data Science\""
   ]
  },
  {
   "cell_type": "code",
   "execution_count": 38,
   "id": "d9d56094",
   "metadata": {},
   "outputs": [
    {
     "data": {
      "text/plain": [
       "\"I'm learning Data Science\""
      ]
     },
     "execution_count": 38,
     "metadata": {},
     "output_type": "execute_result"
    }
   ],
   "source": [
    "s2 = \"I'm learning Data Science\""
   ]
  },
  {
   "cell_type": "code",
   "execution_count": 39,
   "id": "80e35022",
   "metadata": {},
   "outputs": [
    {
     "data": {
      "text/plain": [
       "'I': ASCII/Unicode U+0049 (category Lu: Letter, uppercase)"
      ]
     },
     "execution_count": 39,
     "metadata": {},
     "output_type": "execute_result"
    }
   ],
   "source": [
    "s2[1]"
   ]
  },
  {
   "cell_type": "code",
   "execution_count": 41,
   "id": "57b532f3",
   "metadata": {},
   "outputs": [
    {
     "data": {
      "text/plain": [
       "'e': ASCII/Unicode U+0065 (category Ll: Letter, lowercase)"
      ]
     },
     "execution_count": 41,
     "metadata": {},
     "output_type": "execute_result"
    }
   ],
   "source": [
    "s2[end]"
   ]
  },
  {
   "cell_type": "code",
   "execution_count": 40,
   "id": "4ad1477e",
   "metadata": {},
   "outputs": [
    {
     "data": {
      "text/plain": [
       "\"'m le\""
      ]
     },
     "execution_count": 40,
     "metadata": {},
     "output_type": "execute_result"
    }
   ],
   "source": [
    "s2[2:6]"
   ]
  },
  {
   "cell_type": "code",
   "execution_count": 48,
   "id": "9a833e74",
   "metadata": {},
   "outputs": [
    {
     "data": {
      "text/plain": [
       "\"Science\""
      ]
     },
     "execution_count": 48,
     "metadata": {},
     "output_type": "execute_result"
    }
   ],
   "source": [
    "s2[end-6:end]"
   ]
  },
  {
   "cell_type": "code",
   "execution_count": 49,
   "id": "b62e4bd6",
   "metadata": {},
   "outputs": [
    {
     "data": {
      "text/plain": [
       "\"I'm learning Data Science. It's fun!\""
      ]
     },
     "execution_count": 49,
     "metadata": {},
     "output_type": "execute_result"
    }
   ],
   "source": [
    "s2 * \". It's fun!\""
   ]
  },
  {
   "cell_type": "code",
   "execution_count": 50,
   "id": "40466c65",
   "metadata": {},
   "outputs": [
    {
     "data": {
      "text/plain": [
       "\"1 + 2 = 3\""
      ]
     },
     "execution_count": 50,
     "metadata": {},
     "output_type": "execute_result"
    }
   ],
   "source": [
    "\"1 + 2 = $(1 + 2)\""
   ]
  },
  {
   "cell_type": "code",
   "execution_count": 51,
   "id": "ea52c67a",
   "metadata": {},
   "outputs": [
    {
     "data": {
      "text/plain": [
       "\"99 + 10.0 = 109.0\""
      ]
     },
     "execution_count": 51,
     "metadata": {},
     "output_type": "execute_result"
    }
   ],
   "source": [
    "\"$x + $y = $(x + y)\""
   ]
  },
  {
   "cell_type": "code",
   "execution_count": 53,
   "id": "239574ef",
   "metadata": {},
   "outputs": [
    {
     "data": {
      "text/plain": [
       "25"
      ]
     },
     "execution_count": 53,
     "metadata": {},
     "output_type": "execute_result"
    }
   ],
   "source": [
    "length(s2)"
   ]
  },
  {
   "cell_type": "code",
   "execution_count": 60,
   "id": "4d920ea0",
   "metadata": {},
   "outputs": [
    {
     "data": {
      "text/plain": [
       "14:17"
      ]
     },
     "execution_count": 60,
     "metadata": {},
     "output_type": "execute_result"
    }
   ],
   "source": [
    "findfirst(\"Data\", s2)"
   ]
  },
  {
   "cell_type": "code",
   "execution_count": 54,
   "id": "70c6b15d",
   "metadata": {},
   "outputs": [
    {
     "data": {
      "text/plain": [
       "(\"pqrs\", \"pqrt\")"
      ]
     },
     "execution_count": 54,
     "metadata": {},
     "output_type": "execute_result"
    }
   ],
   "source": [
    "s3 = \"pqrs\"\n",
    "s4 = \"pqrt\"\n",
    "s3, s4"
   ]
  },
  {
   "cell_type": "code",
   "execution_count": 55,
   "id": "c38f61f4",
   "metadata": {},
   "outputs": [
    {
     "data": {
      "text/plain": [
       "false"
      ]
     },
     "execution_count": 55,
     "metadata": {},
     "output_type": "execute_result"
    }
   ],
   "source": [
    "s3 == s4"
   ]
  },
  {
   "cell_type": "code",
   "execution_count": 57,
   "id": "3c59796b",
   "metadata": {},
   "outputs": [
    {
     "data": {
      "text/plain": [
       "false"
      ]
     },
     "execution_count": 57,
     "metadata": {},
     "output_type": "execute_result"
    }
   ],
   "source": [
    "s3 > s4"
   ]
  },
  {
   "cell_type": "code",
   "execution_count": 58,
   "id": "a247772f",
   "metadata": {},
   "outputs": [
    {
     "data": {
      "text/plain": [
       "true"
      ]
     },
     "execution_count": 58,
     "metadata": {},
     "output_type": "execute_result"
    }
   ],
   "source": [
    "s3 < s4"
   ]
  }
 ],
 "metadata": {
  "kernelspec": {
   "display_name": "Julia 1.6.1",
   "language": "julia",
   "name": "julia-1.6"
  },
  "language_info": {
   "file_extension": ".jl",
   "mimetype": "application/julia",
   "name": "julia",
   "version": "1.6.1"
  }
 },
 "nbformat": 4,
 "nbformat_minor": 5
}
